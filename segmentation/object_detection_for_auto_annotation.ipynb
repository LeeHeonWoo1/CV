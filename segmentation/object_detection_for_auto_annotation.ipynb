{
 "cells": [
  {
   "cell_type": "markdown",
   "metadata": {},
   "source": [
    "### Object Detection for auto annotation\n",
    "현재 해충에 관련되어 instance segmentation은 수행이 완료된 상태이다. 이제 object detection 모델만 완성되면 auto annotation을 실행할 수 있다.\n",
    "\n",
    "### Object Detection with bug dataset"
   ]
  },
  {
   "cell_type": "code",
   "execution_count": 1,
   "metadata": {},
   "outputs": [],
   "source": [
    "import os\n",
    "import cv2\n",
    "import json\n",
    "import shutil\n",
    "import numpy as np\n",
    "from ultralytics import YOLO"
   ]
  },
  {
   "cell_type": "code",
   "execution_count": 2,
   "metadata": {},
   "outputs": [],
   "source": [
    "def calculate_bounding_box_from_coordinates(x1, y1, x2, y2):\n",
    "    width = x2 - x1\n",
    "    height = y2 - y1\n",
    "    \n",
    "    center_x = (x1 + x2) // 2\n",
    "    center_y = (y1 + y2) // 2\n",
    "    \n",
    "    return width, height, center_x, center_y"
   ]
  },
  {
   "cell_type": "code",
   "execution_count": 23,
   "metadata": {},
   "outputs": [],
   "source": [
    "class_num = {  \n",
    "    \"미국선녀벌레\" : 0,\n",
    "    \"썩덩나무노린재\" : 1,\n",
    "    \"흰점도둑나방\" : 2\n",
    "    }\n",
    "\n",
    "classes_dir = \"./Data/labels/\"\n",
    "class_names = os.listdir(classes_dir)\n",
    "\n",
    "origin_image_dir = \"./Data/images/\"  # 원본 이미지가 담겨있는 dir\n",
    "\n",
    "image_saved_dir = \"./detection_data/images\"  # 이미지를 복사하여 저장할 경로\n",
    "label_saved_dir = \"./detection_data/labels\"  # yolo label 형식에 맞춰 저장할 경로\n",
    "\n",
    "for class_ in class_names:\n",
    "    label_dir = os.path.join(classes_dir, class_)\n",
    "    image_dir = os.path.join(origin_image_dir, class_)\n",
    "    label_filenames = os.listdir(label_dir)  # json filenames\n",
    "    for filename in label_filenames:\n",
    "        json_path = os.path.join(label_dir, filename)\n",
    "        with open(json_path, \"r\", encoding=\"utf8\") as file:\n",
    "            json_file = json.load(file)\n",
    "\n",
    "        image_filename = json_file[\"Meta\"][\"Image_FileName\"]\n",
    "        image_filepath = os.path.join(image_dir, image_filename)\n",
    "\n",
    "        image_extension = image_filename[image_filename.rfind(\".\"):]\n",
    "\n",
    "        image = cv2.imread(image_filepath)\n",
    "        height, width, _ = image.shape\n",
    "\n",
    "        speices_name = json_file[\"Meta\"][\"Scientific_Name\"]\n",
    "        if speices_name != \"Bradysia impatiens\":\n",
    "            annotation_txt = \"\"\n",
    "            annotations = json_file[\"Image_Annotation\"][\"Annotations\"]\n",
    "            for annotation in annotations:\n",
    "                instance_name = annotation[\"Object Name\"]\n",
    "                x_coordinate = [i for i in annotation[\"X Coordinate\"]]\n",
    "                y_coordinate = [i for i in annotation[\"Y Coordinate\"]]\n",
    "\n",
    "                x_max = np.max(x_coordinate)\n",
    "                x_min = np.min(x_coordinate)\n",
    "                y_max = np.max(y_coordinate)\n",
    "                y_min = np.min(y_coordinate)\n",
    "\n",
    "                w, h, x, y = calculate_bounding_box_from_coordinates(x_min, y_min, x_max, y_max)\n",
    "                coordinates = f\"{class_num[instance_name]} {x / width} {y / height} {w / width} {h / height}\\n\"\n",
    "                annotation_txt += coordinates\n",
    "            with open(os.path.join(label_saved_dir, image_filename.replace(image_extension, \".txt\")), \"w\", encoding=\"utf8\") as txt_file:\n",
    "                txt_file.write(annotation_txt)\n",
    "            txt_file.close()\n",
    "            shutil.copyfile(image_filepath, os.path.join(image_saved_dir, image_filename))\n",
    "        file.close()"
   ]
  },
  {
   "cell_type": "code",
   "execution_count": 3,
   "metadata": {},
   "outputs": [
    {
     "name": "stderr",
     "output_type": "stream",
     "text": [
      "Copying files: 2330 files [02:40, 14.51 files/s] \n"
     ]
    }
   ],
   "source": [
    "import splitfolders\n",
    "\n",
    "splitfolders.ratio(\"./detection_data\", \"./output_dataset\", seed=11, ratio=(0.6, 0.2, 0.2))"
   ]
  },
  {
   "cell_type": "code",
   "execution_count": 4,
   "metadata": {},
   "outputs": [
    {
     "name": "stdout",
     "output_type": "stream",
     "text": [
      "New https://pypi.org/project/ultralytics/8.2.6 available  Update with 'pip install -U ultralytics'\n",
      "Ultralytics YOLOv8.2.5  Python-3.9.12 torch-2.2.2+cu118 CUDA:0 (NVIDIA GeForce RTX 3060, 12288MiB)\n",
      "\u001b[34m\u001b[1mengine\\trainer: \u001b[0mtask=detect, mode=train, model=./yolov8l.pt, data=./bug_detection.yaml, epochs=100, time=None, patience=10, batch=16, imgsz=640, save=True, save_period=-1, cache=False, device=0, workers=2, project=None, name=train, exist_ok=False, pretrained=True, optimizer=auto, verbose=True, seed=0, deterministic=True, single_cls=False, rect=False, cos_lr=False, close_mosaic=10, resume=False, amp=True, fraction=1.0, profile=False, freeze=None, multi_scale=False, overlap_mask=True, mask_ratio=4, dropout=0.0, val=True, split=val, save_json=False, save_hybrid=False, conf=None, iou=0.7, max_det=300, half=False, dnn=False, plots=True, source=None, vid_stride=1, stream_buffer=False, visualize=False, augment=False, agnostic_nms=False, classes=None, retina_masks=False, embed=None, show=False, save_frames=False, save_txt=False, save_conf=False, save_crop=False, show_labels=True, show_conf=True, show_boxes=True, line_width=None, format=torchscript, keras=False, optimize=False, int8=False, dynamic=False, simplify=False, opset=None, workspace=4, nms=False, lr0=0.01, lrf=0.01, momentum=0.937, weight_decay=0.0005, warmup_epochs=3.0, warmup_momentum=0.8, warmup_bias_lr=0.1, box=7.5, cls=0.5, dfl=1.5, pose=12.0, kobj=1.0, label_smoothing=0.0, nbs=64, hsv_h=0.015, hsv_s=0.7, hsv_v=0.4, degrees=0.0, translate=0.0, scale=0.5, shear=0.0, perspective=0.0, flipud=0.0, fliplr=0.5, bgr=0.0, mosaic=1.0, mixup=0.0, copy_paste=0.0, auto_augment=randaugment, erasing=0.4, crop_fraction=1.0, cfg=None, tracker=botsort.yaml, save_dir=c:\\Users\\admin\\Desktop\\CudaTest\\runs\\detect\\train\n",
      "Overriding model.yaml nc=80 with nc=3\n",
      "\n",
      "                   from  n    params  module                                       arguments                     \n",
      "  0                  -1  1      1856  ultralytics.nn.modules.conv.Conv             [3, 64, 3, 2]                 \n",
      "  1                  -1  1     73984  ultralytics.nn.modules.conv.Conv             [64, 128, 3, 2]               \n",
      "  2                  -1  3    279808  ultralytics.nn.modules.block.C2f             [128, 128, 3, True]           \n",
      "  3                  -1  1    295424  ultralytics.nn.modules.conv.Conv             [128, 256, 3, 2]              \n",
      "  4                  -1  6   2101248  ultralytics.nn.modules.block.C2f             [256, 256, 6, True]           \n",
      "  5                  -1  1   1180672  ultralytics.nn.modules.conv.Conv             [256, 512, 3, 2]              \n",
      "  6                  -1  6   8396800  ultralytics.nn.modules.block.C2f             [512, 512, 6, True]           \n",
      "  7                  -1  1   2360320  ultralytics.nn.modules.conv.Conv             [512, 512, 3, 2]              \n",
      "  8                  -1  3   4461568  ultralytics.nn.modules.block.C2f             [512, 512, 3, True]           \n",
      "  9                  -1  1    656896  ultralytics.nn.modules.block.SPPF            [512, 512, 5]                 \n",
      " 10                  -1  1         0  torch.nn.modules.upsampling.Upsample         [None, 2, 'nearest']          \n",
      " 11             [-1, 6]  1         0  ultralytics.nn.modules.conv.Concat           [1]                           \n",
      " 12                  -1  3   4723712  ultralytics.nn.modules.block.C2f             [1024, 512, 3]                \n",
      " 13                  -1  1         0  torch.nn.modules.upsampling.Upsample         [None, 2, 'nearest']          \n",
      " 14             [-1, 4]  1         0  ultralytics.nn.modules.conv.Concat           [1]                           \n",
      " 15                  -1  3   1247744  ultralytics.nn.modules.block.C2f             [768, 256, 3]                 \n",
      " 16                  -1  1    590336  ultralytics.nn.modules.conv.Conv             [256, 256, 3, 2]              \n",
      " 17            [-1, 12]  1         0  ultralytics.nn.modules.conv.Concat           [1]                           \n",
      " 18                  -1  3   4592640  ultralytics.nn.modules.block.C2f             [768, 512, 3]                 \n",
      " 19                  -1  1   2360320  ultralytics.nn.modules.conv.Conv             [512, 512, 3, 2]              \n",
      " 20             [-1, 9]  1         0  ultralytics.nn.modules.conv.Concat           [1]                           \n",
      " 21                  -1  3   4723712  ultralytics.nn.modules.block.C2f             [1024, 512, 3]                \n",
      " 22        [15, 18, 21]  1   5585113  ultralytics.nn.modules.head.Detect           [3, [256, 512, 512]]          \n",
      "Model summary: 365 layers, 43632153 parameters, 43632137 gradients, 165.4 GFLOPs\n",
      "\n",
      "Transferred 589/595 items from pretrained weights\n",
      "\u001b[34m\u001b[1mTensorBoard: \u001b[0mStart with 'tensorboard --logdir c:\\Users\\admin\\Desktop\\CudaTest\\runs\\detect\\train', view at http://localhost:6006/\n",
      "Freezing layer 'model.22.dfl.conv.weight'\n",
      "\u001b[34m\u001b[1mAMP: \u001b[0mrunning Automatic Mixed Precision (AMP) checks with YOLOv8n...\n",
      "\u001b[34m\u001b[1mAMP: \u001b[0mchecks passed \n"
     ]
    },
    {
     "name": "stderr",
     "output_type": "stream",
     "text": [
      "\u001b[34m\u001b[1mtrain: \u001b[0mScanning D:\\CudaTest\\segmentation\\output_dataset\\train\\labels... 699 images, 0 backgrounds, 0 corrupt: 100%|██████████| 699/699 [00:08<00:00, 82.41it/s] "
     ]
    },
    {
     "name": "stdout",
     "output_type": "stream",
     "text": [
      "\u001b[34m\u001b[1mtrain: \u001b[0mWARNING  D:\\CudaTest\\segmentation\\output_dataset\\train\\images\\20221201_150000_2_2984.png: 1 duplicate labels removed\n",
      "\u001b[34m\u001b[1mtrain: \u001b[0mWARNING  D:\\CudaTest\\segmentation\\output_dataset\\train\\images\\20221201_150000_3_10639.png: 1 duplicate labels removed\n",
      "\u001b[34m\u001b[1mtrain: \u001b[0mWARNING  D:\\CudaTest\\segmentation\\output_dataset\\train\\images\\20221202_130000_3_10634.png: 1 duplicate labels removed\n",
      "\u001b[34m\u001b[1mtrain: \u001b[0mWARNING  D:\\CudaTest\\segmentation\\output_dataset\\train\\images\\20221203_120000_3_7869.png: 1 duplicate labels removed\n",
      "\u001b[34m\u001b[1mtrain: \u001b[0mWARNING  D:\\CudaTest\\segmentation\\output_dataset\\train\\images\\20221203_170000_3_7484.png: 1 duplicate labels removed\n",
      "\u001b[34m\u001b[1mtrain: \u001b[0mNew cache created: D:\\CudaTest\\segmentation\\output_dataset\\train\\labels.cache\n"
     ]
    },
    {
     "name": "stderr",
     "output_type": "stream",
     "text": [
      "\n",
      "\u001b[34m\u001b[1mval: \u001b[0mScanning D:\\CudaTest\\segmentation\\output_dataset\\val\\labels... 233 images, 0 backgrounds, 0 corrupt: 100%|██████████| 233/233 [00:02<00:00, 112.79it/s]"
     ]
    },
    {
     "name": "stdout",
     "output_type": "stream",
     "text": [
      "\u001b[34m\u001b[1mval: \u001b[0mWARNING  D:\\CudaTest\\segmentation\\output_dataset\\val\\images\\20221201_150000_1_9710.png: 2 duplicate labels removed\n",
      "\u001b[34m\u001b[1mval: \u001b[0mWARNING  D:\\CudaTest\\segmentation\\output_dataset\\val\\images\\20221201_150000_2_3446.png: 2 duplicate labels removed\n",
      "\u001b[34m\u001b[1mval: \u001b[0mWARNING  D:\\CudaTest\\segmentation\\output_dataset\\val\\images\\20221203_120000_2_6178.png: 1 duplicate labels removed\n",
      "\u001b[34m\u001b[1mval: \u001b[0mNew cache created: D:\\CudaTest\\segmentation\\output_dataset\\val\\labels.cache\n"
     ]
    },
    {
     "name": "stderr",
     "output_type": "stream",
     "text": [
      "\n"
     ]
    },
    {
     "name": "stdout",
     "output_type": "stream",
     "text": [
      "Plotting labels to c:\\Users\\admin\\Desktop\\CudaTest\\runs\\detect\\train\\labels.jpg... \n",
      "\u001b[34m\u001b[1moptimizer:\u001b[0m 'optimizer=auto' found, ignoring 'lr0=0.01' and 'momentum=0.937' and determining best 'optimizer', 'lr0' and 'momentum' automatically... \n",
      "\u001b[34m\u001b[1moptimizer:\u001b[0m AdamW(lr=0.001429, momentum=0.9) with parameter groups 97 weight(decay=0.0), 104 weight(decay=0.0005), 103 bias(decay=0.0)\n",
      "\u001b[34m\u001b[1mTensorBoard: \u001b[0mmodel graph visualization added \n",
      "Image sizes 640 train, 640 val\n",
      "Using 2 dataloader workers\n",
      "Logging results to \u001b[1mc:\\Users\\admin\\Desktop\\CudaTest\\runs\\detect\\train\u001b[0m\n",
      "Starting training for 100 epochs...\n",
      "\n",
      "      Epoch    GPU_mem   box_loss   cls_loss   dfl_loss  Instances       Size\n"
     ]
    },
    {
     "name": "stderr",
     "output_type": "stream",
     "text": [
      "      1/100      11.3G     0.7604       2.11     0.9201         41        640: 100%|██████████| 44/44 [00:52<00:00,  1.19s/it]\n",
      "                 Class     Images  Instances      Box(P          R      mAP50  mAP50-95): 100%|██████████| 8/8 [00:06<00:00,  1.31it/s]"
     ]
    },
    {
     "name": "stdout",
     "output_type": "stream",
     "text": [
      "                   all        233        376      0.545      0.867      0.773      0.662\n"
     ]
    },
    {
     "name": "stderr",
     "output_type": "stream",
     "text": [
      "\n"
     ]
    },
    {
     "name": "stdout",
     "output_type": "stream",
     "text": [
      "\n",
      "      Epoch    GPU_mem   box_loss   cls_loss   dfl_loss  Instances       Size\n"
     ]
    },
    {
     "name": "stderr",
     "output_type": "stream",
     "text": [
      "      2/100        11G     0.7703      1.135     0.9082         20        640: 100%|██████████| 44/44 [00:42<00:00,  1.03it/s]\n",
      "                 Class     Images  Instances      Box(P          R      mAP50  mAP50-95): 100%|██████████| 8/8 [00:05<00:00,  1.50it/s]"
     ]
    },
    {
     "name": "stdout",
     "output_type": "stream",
     "text": [
      "                   all        233        376     0.0994      0.238      0.013     0.0103\n"
     ]
    },
    {
     "name": "stderr",
     "output_type": "stream",
     "text": [
      "\n"
     ]
    },
    {
     "name": "stdout",
     "output_type": "stream",
     "text": [
      "\n",
      "      Epoch    GPU_mem   box_loss   cls_loss   dfl_loss  Instances       Size\n"
     ]
    },
    {
     "name": "stderr",
     "output_type": "stream",
     "text": [
      "      3/100      11.1G     0.7837      1.051     0.9096         30        640: 100%|██████████| 44/44 [00:42<00:00,  1.03it/s]\n",
      "                 Class     Images  Instances      Box(P          R      mAP50  mAP50-95): 100%|██████████| 8/8 [00:04<00:00,  1.88it/s]"
     ]
    },
    {
     "name": "stdout",
     "output_type": "stream",
     "text": [
      "                   all        233        376      0.119      0.147     0.0277     0.0216\n"
     ]
    },
    {
     "name": "stderr",
     "output_type": "stream",
     "text": [
      "\n"
     ]
    },
    {
     "name": "stdout",
     "output_type": "stream",
     "text": [
      "\n",
      "      Epoch    GPU_mem   box_loss   cls_loss   dfl_loss  Instances       Size\n"
     ]
    },
    {
     "name": "stderr",
     "output_type": "stream",
     "text": [
      "      4/100      11.1G     0.8216     0.8868     0.9314         23        640: 100%|██████████| 44/44 [00:42<00:00,  1.04it/s]\n",
      "                 Class     Images  Instances      Box(P          R      mAP50  mAP50-95): 100%|██████████| 8/8 [00:06<00:00,  1.32it/s]"
     ]
    },
    {
     "name": "stdout",
     "output_type": "stream",
     "text": [
      "                   all        233        376      0.562      0.487      0.532      0.419\n"
     ]
    },
    {
     "name": "stderr",
     "output_type": "stream",
     "text": [
      "\n"
     ]
    },
    {
     "name": "stdout",
     "output_type": "stream",
     "text": [
      "\n",
      "      Epoch    GPU_mem   box_loss   cls_loss   dfl_loss  Instances       Size\n"
     ]
    },
    {
     "name": "stderr",
     "output_type": "stream",
     "text": [
      "      5/100      11.1G     0.7857     0.8516     0.9163         34        640: 100%|██████████| 44/44 [00:43<00:00,  1.01it/s]\n",
      "                 Class     Images  Instances      Box(P          R      mAP50  mAP50-95): 100%|██████████| 8/8 [00:04<00:00,  1.83it/s]"
     ]
    },
    {
     "name": "stdout",
     "output_type": "stream",
     "text": [
      "                   all        233        376      0.681      0.481      0.574      0.468\n"
     ]
    },
    {
     "name": "stderr",
     "output_type": "stream",
     "text": [
      "\n"
     ]
    },
    {
     "name": "stdout",
     "output_type": "stream",
     "text": [
      "\n",
      "      Epoch    GPU_mem   box_loss   cls_loss   dfl_loss  Instances       Size\n"
     ]
    },
    {
     "name": "stderr",
     "output_type": "stream",
     "text": [
      "      6/100        11G     0.7844      0.819     0.9143         29        640: 100%|██████████| 44/44 [00:42<00:00,  1.03it/s]\n",
      "                 Class     Images  Instances      Box(P          R      mAP50  mAP50-95): 100%|██████████| 8/8 [00:04<00:00,  1.92it/s]\n"
     ]
    },
    {
     "name": "stdout",
     "output_type": "stream",
     "text": [
      "                   all        233        376      0.817      0.813      0.891      0.735\n",
      "\n",
      "      Epoch    GPU_mem   box_loss   cls_loss   dfl_loss  Instances       Size\n"
     ]
    },
    {
     "name": "stderr",
     "output_type": "stream",
     "text": [
      "      7/100      11.1G      0.733     0.6947     0.8996         36        640: 100%|██████████| 44/44 [00:42<00:00,  1.04it/s]\n",
      "                 Class     Images  Instances      Box(P          R      mAP50  mAP50-95): 100%|██████████| 8/8 [00:04<00:00,  1.95it/s]"
     ]
    },
    {
     "name": "stdout",
     "output_type": "stream",
     "text": [
      "                   all        233        376      0.781       0.85       0.88      0.751\n"
     ]
    },
    {
     "name": "stderr",
     "output_type": "stream",
     "text": [
      "\n"
     ]
    },
    {
     "name": "stdout",
     "output_type": "stream",
     "text": [
      "\n",
      "      Epoch    GPU_mem   box_loss   cls_loss   dfl_loss  Instances       Size\n"
     ]
    },
    {
     "name": "stderr",
     "output_type": "stream",
     "text": [
      "      8/100        11G     0.7048     0.6567     0.8905         19        640: 100%|██████████| 44/44 [00:41<00:00,  1.05it/s]\n",
      "                 Class     Images  Instances      Box(P          R      mAP50  mAP50-95): 100%|██████████| 8/8 [00:09<00:00,  1.17s/it]"
     ]
    },
    {
     "name": "stdout",
     "output_type": "stream",
     "text": [
      "                   all        233        376      0.875      0.741      0.833      0.695\n"
     ]
    },
    {
     "name": "stderr",
     "output_type": "stream",
     "text": [
      "\n"
     ]
    },
    {
     "name": "stdout",
     "output_type": "stream",
     "text": [
      "\n",
      "      Epoch    GPU_mem   box_loss   cls_loss   dfl_loss  Instances       Size\n"
     ]
    },
    {
     "name": "stderr",
     "output_type": "stream",
     "text": [
      "      9/100        11G     0.6996     0.6138     0.8953         30        640: 100%|██████████| 44/44 [00:41<00:00,  1.06it/s]\n",
      "                 Class     Images  Instances      Box(P          R      mAP50  mAP50-95): 100%|██████████| 8/8 [00:08<00:00,  1.00s/it]"
     ]
    },
    {
     "name": "stdout",
     "output_type": "stream",
     "text": [
      "                   all        233        376      0.809      0.839      0.884      0.739\n"
     ]
    },
    {
     "name": "stderr",
     "output_type": "stream",
     "text": [
      "\n"
     ]
    },
    {
     "name": "stdout",
     "output_type": "stream",
     "text": [
      "\n",
      "      Epoch    GPU_mem   box_loss   cls_loss   dfl_loss  Instances       Size\n"
     ]
    },
    {
     "name": "stderr",
     "output_type": "stream",
     "text": [
      "     10/100        11G       0.68     0.5623     0.8928         30        640: 100%|██████████| 44/44 [00:42<00:00,  1.04it/s]\n",
      "                 Class     Images  Instances      Box(P          R      mAP50  mAP50-95): 100%|██████████| 8/8 [00:04<00:00,  1.95it/s]"
     ]
    },
    {
     "name": "stdout",
     "output_type": "stream",
     "text": [
      "                   all        233        376      0.814      0.927      0.926       0.79\n"
     ]
    },
    {
     "name": "stderr",
     "output_type": "stream",
     "text": [
      "\n"
     ]
    },
    {
     "name": "stdout",
     "output_type": "stream",
     "text": [
      "\n",
      "      Epoch    GPU_mem   box_loss   cls_loss   dfl_loss  Instances       Size\n"
     ]
    },
    {
     "name": "stderr",
     "output_type": "stream",
     "text": [
      "     11/100        11G     0.6446     0.5672     0.8779         27        640: 100%|██████████| 44/44 [00:42<00:00,  1.03it/s]\n",
      "                 Class     Images  Instances      Box(P          R      mAP50  mAP50-95): 100%|██████████| 8/8 [00:04<00:00,  1.94it/s]"
     ]
    },
    {
     "name": "stdout",
     "output_type": "stream",
     "text": [
      "                   all        233        376      0.881      0.904      0.946       0.82\n"
     ]
    },
    {
     "name": "stderr",
     "output_type": "stream",
     "text": [
      "\n"
     ]
    },
    {
     "name": "stdout",
     "output_type": "stream",
     "text": [
      "\n",
      "      Epoch    GPU_mem   box_loss   cls_loss   dfl_loss  Instances       Size\n"
     ]
    },
    {
     "name": "stderr",
     "output_type": "stream",
     "text": [
      "     12/100        11G     0.6534     0.5651     0.8735         33        640: 100%|██████████| 44/44 [00:42<00:00,  1.04it/s]\n",
      "                 Class     Images  Instances      Box(P          R      mAP50  mAP50-95): 100%|██████████| 8/8 [00:05<00:00,  1.57it/s]"
     ]
    },
    {
     "name": "stdout",
     "output_type": "stream",
     "text": [
      "                   all        233        376      0.788      0.847      0.879      0.753\n"
     ]
    },
    {
     "name": "stderr",
     "output_type": "stream",
     "text": [
      "\n"
     ]
    },
    {
     "name": "stdout",
     "output_type": "stream",
     "text": [
      "\n",
      "      Epoch    GPU_mem   box_loss   cls_loss   dfl_loss  Instances       Size\n"
     ]
    },
    {
     "name": "stderr",
     "output_type": "stream",
     "text": [
      "     13/100        11G     0.6245     0.5317     0.8729         36        640: 100%|██████████| 44/44 [00:42<00:00,  1.03it/s]\n",
      "                 Class     Images  Instances      Box(P          R      mAP50  mAP50-95): 100%|██████████| 8/8 [00:07<00:00,  1.01it/s]"
     ]
    },
    {
     "name": "stdout",
     "output_type": "stream",
     "text": [
      "                   all        233        376      0.875      0.862      0.933       0.81\n"
     ]
    },
    {
     "name": "stderr",
     "output_type": "stream",
     "text": [
      "\n"
     ]
    },
    {
     "name": "stdout",
     "output_type": "stream",
     "text": [
      "\n",
      "      Epoch    GPU_mem   box_loss   cls_loss   dfl_loss  Instances       Size\n"
     ]
    },
    {
     "name": "stderr",
     "output_type": "stream",
     "text": [
      "     14/100      11.1G     0.6146     0.5254     0.8633         27        640: 100%|██████████| 44/44 [00:42<00:00,  1.04it/s]\n",
      "                 Class     Images  Instances      Box(P          R      mAP50  mAP50-95): 100%|██████████| 8/8 [00:04<00:00,  1.90it/s]"
     ]
    },
    {
     "name": "stdout",
     "output_type": "stream",
     "text": [
      "                   all        233        376      0.854      0.841      0.907      0.776\n"
     ]
    },
    {
     "name": "stderr",
     "output_type": "stream",
     "text": [
      "\n"
     ]
    },
    {
     "name": "stdout",
     "output_type": "stream",
     "text": [
      "\n",
      "      Epoch    GPU_mem   box_loss   cls_loss   dfl_loss  Instances       Size\n"
     ]
    },
    {
     "name": "stderr",
     "output_type": "stream",
     "text": [
      "     15/100        11G     0.6179     0.5287     0.8681         42        640: 100%|██████████| 44/44 [00:43<00:00,  1.02it/s]\n",
      "                 Class     Images  Instances      Box(P          R      mAP50  mAP50-95): 100%|██████████| 8/8 [00:04<00:00,  1.92it/s]"
     ]
    },
    {
     "name": "stdout",
     "output_type": "stream",
     "text": [
      "                   all        233        376      0.858      0.907      0.916      0.784\n"
     ]
    },
    {
     "name": "stderr",
     "output_type": "stream",
     "text": [
      "\n"
     ]
    },
    {
     "name": "stdout",
     "output_type": "stream",
     "text": [
      "\n",
      "      Epoch    GPU_mem   box_loss   cls_loss   dfl_loss  Instances       Size\n"
     ]
    },
    {
     "name": "stderr",
     "output_type": "stream",
     "text": [
      "     16/100        11G     0.6007     0.4899     0.8612         28        640: 100%|██████████| 44/44 [00:43<00:00,  1.02it/s]\n",
      "                 Class     Images  Instances      Box(P          R      mAP50  mAP50-95): 100%|██████████| 8/8 [00:08<00:00,  1.11s/it]"
     ]
    },
    {
     "name": "stdout",
     "output_type": "stream",
     "text": [
      "                   all        233        376      0.895      0.916      0.944      0.814\n"
     ]
    },
    {
     "name": "stderr",
     "output_type": "stream",
     "text": [
      "\n"
     ]
    },
    {
     "name": "stdout",
     "output_type": "stream",
     "text": [
      "\n",
      "      Epoch    GPU_mem   box_loss   cls_loss   dfl_loss  Instances       Size\n"
     ]
    },
    {
     "name": "stderr",
     "output_type": "stream",
     "text": [
      "     17/100        11G     0.6031     0.4808     0.8619         40        640: 100%|██████████| 44/44 [00:42<00:00,  1.03it/s]\n",
      "                 Class     Images  Instances      Box(P          R      mAP50  mAP50-95): 100%|██████████| 8/8 [00:08<00:00,  1.12s/it]"
     ]
    },
    {
     "name": "stdout",
     "output_type": "stream",
     "text": [
      "                   all        233        376      0.884      0.916       0.96      0.838\n"
     ]
    },
    {
     "name": "stderr",
     "output_type": "stream",
     "text": [
      "\n"
     ]
    },
    {
     "name": "stdout",
     "output_type": "stream",
     "text": [
      "\n",
      "      Epoch    GPU_mem   box_loss   cls_loss   dfl_loss  Instances       Size\n"
     ]
    },
    {
     "name": "stderr",
     "output_type": "stream",
     "text": [
      "     18/100        11G     0.6125     0.4941     0.8622         33        640: 100%|██████████| 44/44 [00:43<00:00,  1.00it/s]\n",
      "                 Class     Images  Instances      Box(P          R      mAP50  mAP50-95): 100%|██████████| 8/8 [00:05<00:00,  1.35it/s]"
     ]
    },
    {
     "name": "stdout",
     "output_type": "stream",
     "text": [
      "                   all        233        376      0.872      0.913      0.938      0.808\n"
     ]
    },
    {
     "name": "stderr",
     "output_type": "stream",
     "text": [
      "\n"
     ]
    },
    {
     "name": "stdout",
     "output_type": "stream",
     "text": [
      "\n",
      "      Epoch    GPU_mem   box_loss   cls_loss   dfl_loss  Instances       Size\n"
     ]
    },
    {
     "name": "stderr",
     "output_type": "stream",
     "text": [
      "     19/100        11G     0.5858     0.4605     0.8629         26        640: 100%|██████████| 44/44 [00:43<00:00,  1.02it/s]\n",
      "                 Class     Images  Instances      Box(P          R      mAP50  mAP50-95): 100%|██████████| 8/8 [00:06<00:00,  1.33it/s]"
     ]
    },
    {
     "name": "stdout",
     "output_type": "stream",
     "text": [
      "                   all        233        376      0.888      0.942      0.959       0.84\n"
     ]
    },
    {
     "name": "stderr",
     "output_type": "stream",
     "text": [
      "\n"
     ]
    },
    {
     "name": "stdout",
     "output_type": "stream",
     "text": [
      "\n",
      "      Epoch    GPU_mem   box_loss   cls_loss   dfl_loss  Instances       Size\n"
     ]
    },
    {
     "name": "stderr",
     "output_type": "stream",
     "text": [
      "     20/100        11G     0.5961     0.4699     0.8571         35        640: 100%|██████████| 44/44 [00:43<00:00,  1.01it/s]\n",
      "                 Class     Images  Instances      Box(P          R      mAP50  mAP50-95): 100%|██████████| 8/8 [00:07<00:00,  1.14it/s]"
     ]
    },
    {
     "name": "stdout",
     "output_type": "stream",
     "text": [
      "                   all        233        376       0.89       0.94      0.959      0.831\n"
     ]
    },
    {
     "name": "stderr",
     "output_type": "stream",
     "text": [
      "\n"
     ]
    },
    {
     "name": "stdout",
     "output_type": "stream",
     "text": [
      "\n",
      "      Epoch    GPU_mem   box_loss   cls_loss   dfl_loss  Instances       Size\n"
     ]
    },
    {
     "name": "stderr",
     "output_type": "stream",
     "text": [
      "     21/100        11G     0.5699     0.4522     0.8555         26        640: 100%|██████████| 44/44 [00:42<00:00,  1.03it/s]\n",
      "                 Class     Images  Instances      Box(P          R      mAP50  mAP50-95): 100%|██████████| 8/8 [00:08<00:00,  1.12s/it]"
     ]
    },
    {
     "name": "stdout",
     "output_type": "stream",
     "text": [
      "                   all        233        376      0.866      0.857      0.947      0.833\n"
     ]
    },
    {
     "name": "stderr",
     "output_type": "stream",
     "text": [
      "\n"
     ]
    },
    {
     "name": "stdout",
     "output_type": "stream",
     "text": [
      "\n",
      "      Epoch    GPU_mem   box_loss   cls_loss   dfl_loss  Instances       Size\n"
     ]
    },
    {
     "name": "stderr",
     "output_type": "stream",
     "text": [
      "     22/100        11G     0.5693     0.4218      0.852         30        640: 100%|██████████| 44/44 [00:43<00:00,  1.00it/s]\n",
      "                 Class     Images  Instances      Box(P          R      mAP50  mAP50-95): 100%|██████████| 8/8 [00:05<00:00,  1.35it/s]"
     ]
    },
    {
     "name": "stdout",
     "output_type": "stream",
     "text": [
      "                   all        233        376      0.865      0.932       0.95      0.838\n"
     ]
    },
    {
     "name": "stderr",
     "output_type": "stream",
     "text": [
      "\n"
     ]
    },
    {
     "name": "stdout",
     "output_type": "stream",
     "text": [
      "\n",
      "      Epoch    GPU_mem   box_loss   cls_loss   dfl_loss  Instances       Size\n"
     ]
    },
    {
     "name": "stderr",
     "output_type": "stream",
     "text": [
      "     23/100      11.1G     0.5601     0.4357     0.8513         31        640: 100%|██████████| 44/44 [00:43<00:00,  1.00it/s]\n",
      "                 Class     Images  Instances      Box(P          R      mAP50  mAP50-95): 100%|██████████| 8/8 [00:05<00:00,  1.36it/s]"
     ]
    },
    {
     "name": "stdout",
     "output_type": "stream",
     "text": [
      "                   all        233        376      0.906      0.933      0.964      0.849\n"
     ]
    },
    {
     "name": "stderr",
     "output_type": "stream",
     "text": [
      "\n"
     ]
    },
    {
     "name": "stdout",
     "output_type": "stream",
     "text": [
      "\n",
      "      Epoch    GPU_mem   box_loss   cls_loss   dfl_loss  Instances       Size\n"
     ]
    },
    {
     "name": "stderr",
     "output_type": "stream",
     "text": [
      "     24/100        11G     0.5557     0.4401     0.8549         22        640: 100%|██████████| 44/44 [00:44<00:00,  1.00s/it]\n",
      "                 Class     Images  Instances      Box(P          R      mAP50  mAP50-95): 100%|██████████| 8/8 [00:07<00:00,  1.13it/s]"
     ]
    },
    {
     "name": "stdout",
     "output_type": "stream",
     "text": [
      "                   all        233        376      0.885      0.922      0.945      0.827\n"
     ]
    },
    {
     "name": "stderr",
     "output_type": "stream",
     "text": [
      "\n"
     ]
    },
    {
     "name": "stdout",
     "output_type": "stream",
     "text": [
      "\n",
      "      Epoch    GPU_mem   box_loss   cls_loss   dfl_loss  Instances       Size\n"
     ]
    },
    {
     "name": "stderr",
     "output_type": "stream",
     "text": [
      "     25/100        11G     0.5589     0.4391     0.8476         24        640: 100%|██████████| 44/44 [00:42<00:00,  1.02it/s]\n",
      "                 Class     Images  Instances      Box(P          R      mAP50  mAP50-95): 100%|██████████| 8/8 [00:09<00:00,  1.13s/it]"
     ]
    },
    {
     "name": "stdout",
     "output_type": "stream",
     "text": [
      "                   all        233        376        0.9      0.948      0.966      0.861\n"
     ]
    },
    {
     "name": "stderr",
     "output_type": "stream",
     "text": [
      "\n"
     ]
    },
    {
     "name": "stdout",
     "output_type": "stream",
     "text": [
      "\n",
      "      Epoch    GPU_mem   box_loss   cls_loss   dfl_loss  Instances       Size\n"
     ]
    },
    {
     "name": "stderr",
     "output_type": "stream",
     "text": [
      "     26/100        11G     0.5509     0.4348      0.852         36        640: 100%|██████████| 44/44 [00:42<00:00,  1.03it/s]\n",
      "                 Class     Images  Instances      Box(P          R      mAP50  mAP50-95): 100%|██████████| 8/8 [00:05<00:00,  1.40it/s]"
     ]
    },
    {
     "name": "stdout",
     "output_type": "stream",
     "text": [
      "                   all        233        376      0.898      0.908      0.946      0.839\n"
     ]
    },
    {
     "name": "stderr",
     "output_type": "stream",
     "text": [
      "\n"
     ]
    },
    {
     "name": "stdout",
     "output_type": "stream",
     "text": [
      "\n",
      "      Epoch    GPU_mem   box_loss   cls_loss   dfl_loss  Instances       Size\n"
     ]
    },
    {
     "name": "stderr",
     "output_type": "stream",
     "text": [
      "     27/100        11G      0.534     0.4156     0.8419         26        640: 100%|██████████| 44/44 [00:42<00:00,  1.03it/s]\n",
      "                 Class     Images  Instances      Box(P          R      mAP50  mAP50-95): 100%|██████████| 8/8 [00:05<00:00,  1.36it/s]"
     ]
    },
    {
     "name": "stdout",
     "output_type": "stream",
     "text": [
      "                   all        233        376      0.862      0.953      0.941       0.83\n"
     ]
    },
    {
     "name": "stderr",
     "output_type": "stream",
     "text": [
      "\n"
     ]
    },
    {
     "name": "stdout",
     "output_type": "stream",
     "text": [
      "\n",
      "      Epoch    GPU_mem   box_loss   cls_loss   dfl_loss  Instances       Size\n"
     ]
    },
    {
     "name": "stderr",
     "output_type": "stream",
     "text": [
      "     28/100        11G     0.5493      0.409     0.8526         37        640: 100%|██████████| 44/44 [00:43<00:00,  1.01it/s]\n",
      "                 Class     Images  Instances      Box(P          R      mAP50  mAP50-95): 100%|██████████| 8/8 [00:07<00:00,  1.11it/s]"
     ]
    },
    {
     "name": "stdout",
     "output_type": "stream",
     "text": [
      "                   all        233        376      0.886      0.923      0.962      0.863\n"
     ]
    },
    {
     "name": "stderr",
     "output_type": "stream",
     "text": [
      "\n"
     ]
    },
    {
     "name": "stdout",
     "output_type": "stream",
     "text": [
      "\n",
      "      Epoch    GPU_mem   box_loss   cls_loss   dfl_loss  Instances       Size\n"
     ]
    },
    {
     "name": "stderr",
     "output_type": "stream",
     "text": [
      "     29/100      11.1G     0.5283     0.3835     0.8367         30        640: 100%|██████████| 44/44 [00:42<00:00,  1.02it/s]\n",
      "                 Class     Images  Instances      Box(P          R      mAP50  mAP50-95): 100%|██████████| 8/8 [00:09<00:00,  1.13s/it]"
     ]
    },
    {
     "name": "stdout",
     "output_type": "stream",
     "text": [
      "                   all        233        376      0.903      0.919      0.952      0.844\n"
     ]
    },
    {
     "name": "stderr",
     "output_type": "stream",
     "text": [
      "\n"
     ]
    },
    {
     "name": "stdout",
     "output_type": "stream",
     "text": [
      "\n",
      "      Epoch    GPU_mem   box_loss   cls_loss   dfl_loss  Instances       Size\n"
     ]
    },
    {
     "name": "stderr",
     "output_type": "stream",
     "text": [
      "     30/100      11.1G     0.5462     0.3909     0.8468         24        640: 100%|██████████| 44/44 [00:43<00:00,  1.00it/s]\n",
      "                 Class     Images  Instances      Box(P          R      mAP50  mAP50-95): 100%|██████████| 8/8 [00:05<00:00,  1.34it/s]"
     ]
    },
    {
     "name": "stdout",
     "output_type": "stream",
     "text": [
      "                   all        233        376      0.913      0.915      0.973      0.873\n"
     ]
    },
    {
     "name": "stderr",
     "output_type": "stream",
     "text": [
      "\n"
     ]
    },
    {
     "name": "stdout",
     "output_type": "stream",
     "text": [
      "\n",
      "      Epoch    GPU_mem   box_loss   cls_loss   dfl_loss  Instances       Size\n"
     ]
    },
    {
     "name": "stderr",
     "output_type": "stream",
     "text": [
      "     31/100        11G     0.5221      0.374     0.8419         34        640: 100%|██████████| 44/44 [00:43<00:00,  1.01it/s]\n",
      "                 Class     Images  Instances      Box(P          R      mAP50  mAP50-95): 100%|██████████| 8/8 [00:05<00:00,  1.35it/s]"
     ]
    },
    {
     "name": "stdout",
     "output_type": "stream",
     "text": [
      "                   all        233        376      0.927       0.91      0.964      0.856\n"
     ]
    },
    {
     "name": "stderr",
     "output_type": "stream",
     "text": [
      "\n"
     ]
    },
    {
     "name": "stdout",
     "output_type": "stream",
     "text": [
      "\n",
      "      Epoch    GPU_mem   box_loss   cls_loss   dfl_loss  Instances       Size\n"
     ]
    },
    {
     "name": "stderr",
     "output_type": "stream",
     "text": [
      "     32/100        11G     0.5184     0.3898     0.8464         19        640: 100%|██████████| 44/44 [00:42<00:00,  1.03it/s]\n",
      "                 Class     Images  Instances      Box(P          R      mAP50  mAP50-95): 100%|██████████| 8/8 [00:10<00:00,  1.33s/it]"
     ]
    },
    {
     "name": "stdout",
     "output_type": "stream",
     "text": [
      "                   all        233        376      0.906      0.933      0.964      0.862\n"
     ]
    },
    {
     "name": "stderr",
     "output_type": "stream",
     "text": [
      "\n"
     ]
    },
    {
     "name": "stdout",
     "output_type": "stream",
     "text": [
      "\n",
      "      Epoch    GPU_mem   box_loss   cls_loss   dfl_loss  Instances       Size\n"
     ]
    },
    {
     "name": "stderr",
     "output_type": "stream",
     "text": [
      "     33/100      11.1G     0.5151     0.3779     0.8415         28        640: 100%|██████████| 44/44 [00:43<00:00,  1.01it/s]\n",
      "                 Class     Images  Instances      Box(P          R      mAP50  mAP50-95): 100%|██████████| 8/8 [00:09<00:00,  1.13s/it]"
     ]
    },
    {
     "name": "stdout",
     "output_type": "stream",
     "text": [
      "                   all        233        376      0.922      0.916      0.963      0.863\n"
     ]
    },
    {
     "name": "stderr",
     "output_type": "stream",
     "text": [
      "\n"
     ]
    },
    {
     "name": "stdout",
     "output_type": "stream",
     "text": [
      "\n",
      "      Epoch    GPU_mem   box_loss   cls_loss   dfl_loss  Instances       Size\n"
     ]
    },
    {
     "name": "stderr",
     "output_type": "stream",
     "text": [
      "     34/100      11.1G     0.5147     0.3708     0.8336         20        640: 100%|██████████| 44/44 [00:44<00:00,  1.00s/it]\n",
      "                 Class     Images  Instances      Box(P          R      mAP50  mAP50-95): 100%|██████████| 8/8 [00:05<00:00,  1.35it/s]"
     ]
    },
    {
     "name": "stdout",
     "output_type": "stream",
     "text": [
      "                   all        233        376      0.908       0.88      0.962      0.853\n"
     ]
    },
    {
     "name": "stderr",
     "output_type": "stream",
     "text": [
      "\n"
     ]
    },
    {
     "name": "stdout",
     "output_type": "stream",
     "text": [
      "\n",
      "      Epoch    GPU_mem   box_loss   cls_loss   dfl_loss  Instances       Size\n"
     ]
    },
    {
     "name": "stderr",
     "output_type": "stream",
     "text": [
      "     35/100      11.1G     0.5267     0.3554      0.849         32        640: 100%|██████████| 44/44 [00:43<00:00,  1.02it/s]\n",
      "                 Class     Images  Instances      Box(P          R      mAP50  mAP50-95): 100%|██████████| 8/8 [00:06<00:00,  1.32it/s]"
     ]
    },
    {
     "name": "stdout",
     "output_type": "stream",
     "text": [
      "                   all        233        376      0.937      0.927      0.972      0.876\n"
     ]
    },
    {
     "name": "stderr",
     "output_type": "stream",
     "text": [
      "\n"
     ]
    },
    {
     "name": "stdout",
     "output_type": "stream",
     "text": [
      "\n",
      "      Epoch    GPU_mem   box_loss   cls_loss   dfl_loss  Instances       Size\n"
     ]
    },
    {
     "name": "stderr",
     "output_type": "stream",
     "text": [
      "     36/100        11G     0.5071     0.3753     0.8311         31        640: 100%|██████████| 44/44 [00:43<00:00,  1.01it/s]\n",
      "                 Class     Images  Instances      Box(P          R      mAP50  mAP50-95): 100%|██████████| 8/8 [00:10<00:00,  1.30s/it]"
     ]
    },
    {
     "name": "stdout",
     "output_type": "stream",
     "text": [
      "                   all        233        376      0.913      0.935      0.961      0.864\n"
     ]
    },
    {
     "name": "stderr",
     "output_type": "stream",
     "text": [
      "\n"
     ]
    },
    {
     "name": "stdout",
     "output_type": "stream",
     "text": [
      "\n",
      "      Epoch    GPU_mem   box_loss   cls_loss   dfl_loss  Instances       Size\n"
     ]
    },
    {
     "name": "stderr",
     "output_type": "stream",
     "text": [
      "     37/100        11G     0.5032     0.3693     0.8404         28        640: 100%|██████████| 44/44 [00:43<00:00,  1.01it/s]\n",
      "                 Class     Images  Instances      Box(P          R      mAP50  mAP50-95): 100%|██████████| 8/8 [00:05<00:00,  1.40it/s]"
     ]
    },
    {
     "name": "stdout",
     "output_type": "stream",
     "text": [
      "                   all        233        376      0.922      0.964      0.975      0.877\n"
     ]
    },
    {
     "name": "stderr",
     "output_type": "stream",
     "text": [
      "\n"
     ]
    },
    {
     "name": "stdout",
     "output_type": "stream",
     "text": [
      "\n",
      "      Epoch    GPU_mem   box_loss   cls_loss   dfl_loss  Instances       Size\n"
     ]
    },
    {
     "name": "stderr",
     "output_type": "stream",
     "text": [
      "     38/100        11G     0.4944     0.3602     0.8313         33        640: 100%|██████████| 44/44 [00:43<00:00,  1.02it/s]\n",
      "                 Class     Images  Instances      Box(P          R      mAP50  mAP50-95): 100%|██████████| 8/8 [00:05<00:00,  1.34it/s]"
     ]
    },
    {
     "name": "stdout",
     "output_type": "stream",
     "text": [
      "                   all        233        376      0.914      0.948      0.976      0.877\n"
     ]
    },
    {
     "name": "stderr",
     "output_type": "stream",
     "text": [
      "\n"
     ]
    },
    {
     "name": "stdout",
     "output_type": "stream",
     "text": [
      "\n",
      "      Epoch    GPU_mem   box_loss   cls_loss   dfl_loss  Instances       Size\n"
     ]
    },
    {
     "name": "stderr",
     "output_type": "stream",
     "text": [
      "     39/100      11.1G     0.4907     0.3348     0.8309         29        640: 100%|██████████| 44/44 [00:44<00:00,  1.01s/it]\n",
      "                 Class     Images  Instances      Box(P          R      mAP50  mAP50-95): 100%|██████████| 8/8 [00:05<00:00,  1.37it/s]"
     ]
    },
    {
     "name": "stdout",
     "output_type": "stream",
     "text": [
      "                   all        233        376      0.907      0.957      0.969      0.869\n"
     ]
    },
    {
     "name": "stderr",
     "output_type": "stream",
     "text": [
      "\n"
     ]
    },
    {
     "name": "stdout",
     "output_type": "stream",
     "text": [
      "\n",
      "      Epoch    GPU_mem   box_loss   cls_loss   dfl_loss  Instances       Size\n"
     ]
    },
    {
     "name": "stderr",
     "output_type": "stream",
     "text": [
      "     40/100      11.1G     0.5015     0.3471      0.834         29        640: 100%|██████████| 44/44 [00:43<00:00,  1.02it/s]\n",
      "                 Class     Images  Instances      Box(P          R      mAP50  mAP50-95): 100%|██████████| 8/8 [00:10<00:00,  1.29s/it]"
     ]
    },
    {
     "name": "stdout",
     "output_type": "stream",
     "text": [
      "                   all        233        376       0.93      0.932      0.967      0.872\n"
     ]
    },
    {
     "name": "stderr",
     "output_type": "stream",
     "text": [
      "\n"
     ]
    },
    {
     "name": "stdout",
     "output_type": "stream",
     "text": [
      "\n",
      "      Epoch    GPU_mem   box_loss   cls_loss   dfl_loss  Instances       Size\n"
     ]
    },
    {
     "name": "stderr",
     "output_type": "stream",
     "text": [
      "     41/100        11G     0.4971      0.333     0.8348         24        640: 100%|██████████| 44/44 [00:43<00:00,  1.01it/s]\n",
      "                 Class     Images  Instances      Box(P          R      mAP50  mAP50-95): 100%|██████████| 8/8 [00:08<00:00,  1.12s/it]"
     ]
    },
    {
     "name": "stdout",
     "output_type": "stream",
     "text": [
      "                   all        233        376      0.932      0.946      0.974      0.881\n"
     ]
    },
    {
     "name": "stderr",
     "output_type": "stream",
     "text": [
      "\n"
     ]
    },
    {
     "name": "stdout",
     "output_type": "stream",
     "text": [
      "\n",
      "      Epoch    GPU_mem   box_loss   cls_loss   dfl_loss  Instances       Size\n"
     ]
    },
    {
     "name": "stderr",
     "output_type": "stream",
     "text": [
      "     42/100        11G     0.4818     0.3249     0.8271         27        640: 100%|██████████| 44/44 [00:43<00:00,  1.00it/s]\n",
      "                 Class     Images  Instances      Box(P          R      mAP50  mAP50-95): 100%|██████████| 8/8 [00:05<00:00,  1.35it/s]"
     ]
    },
    {
     "name": "stdout",
     "output_type": "stream",
     "text": [
      "                   all        233        376       0.92      0.958      0.967      0.877\n"
     ]
    },
    {
     "name": "stderr",
     "output_type": "stream",
     "text": [
      "\n"
     ]
    },
    {
     "name": "stdout",
     "output_type": "stream",
     "text": [
      "\n",
      "      Epoch    GPU_mem   box_loss   cls_loss   dfl_loss  Instances       Size\n"
     ]
    },
    {
     "name": "stderr",
     "output_type": "stream",
     "text": [
      "     43/100        11G     0.4814     0.3384     0.8361         31        640: 100%|██████████| 44/44 [00:43<00:00,  1.02it/s]\n",
      "                 Class     Images  Instances      Box(P          R      mAP50  mAP50-95): 100%|██████████| 8/8 [00:05<00:00,  1.33it/s]"
     ]
    },
    {
     "name": "stdout",
     "output_type": "stream",
     "text": [
      "                   all        233        376      0.947       0.95      0.974      0.882\n"
     ]
    },
    {
     "name": "stderr",
     "output_type": "stream",
     "text": [
      "\n"
     ]
    },
    {
     "name": "stdout",
     "output_type": "stream",
     "text": [
      "\n",
      "      Epoch    GPU_mem   box_loss   cls_loss   dfl_loss  Instances       Size\n"
     ]
    },
    {
     "name": "stderr",
     "output_type": "stream",
     "text": [
      "     44/100      11.1G     0.4797     0.3327     0.8302         32        640: 100%|██████████| 44/44 [00:43<00:00,  1.02it/s]\n",
      "                 Class     Images  Instances      Box(P          R      mAP50  mAP50-95): 100%|██████████| 8/8 [00:11<00:00,  1.40s/it]"
     ]
    },
    {
     "name": "stdout",
     "output_type": "stream",
     "text": [
      "                   all        233        376      0.914      0.979      0.975      0.881\n"
     ]
    },
    {
     "name": "stderr",
     "output_type": "stream",
     "text": [
      "\n"
     ]
    },
    {
     "name": "stdout",
     "output_type": "stream",
     "text": [
      "\n",
      "      Epoch    GPU_mem   box_loss   cls_loss   dfl_loss  Instances       Size\n"
     ]
    },
    {
     "name": "stderr",
     "output_type": "stream",
     "text": [
      "     45/100        11G     0.4703     0.3251     0.8243         29        640: 100%|██████████| 44/44 [00:43<00:00,  1.01it/s]\n",
      "                 Class     Images  Instances      Box(P          R      mAP50  mAP50-95): 100%|██████████| 8/8 [00:05<00:00,  1.37it/s]"
     ]
    },
    {
     "name": "stdout",
     "output_type": "stream",
     "text": [
      "                   all        233        376       0.94      0.969      0.979      0.883\n"
     ]
    },
    {
     "name": "stderr",
     "output_type": "stream",
     "text": [
      "\n"
     ]
    },
    {
     "name": "stdout",
     "output_type": "stream",
     "text": [
      "\n",
      "      Epoch    GPU_mem   box_loss   cls_loss   dfl_loss  Instances       Size\n"
     ]
    },
    {
     "name": "stderr",
     "output_type": "stream",
     "text": [
      "     46/100        11G     0.4723     0.3246     0.8213         26        640: 100%|██████████| 44/44 [00:43<00:00,  1.02it/s]\n",
      "                 Class     Images  Instances      Box(P          R      mAP50  mAP50-95): 100%|██████████| 8/8 [00:05<00:00,  1.35it/s]"
     ]
    },
    {
     "name": "stdout",
     "output_type": "stream",
     "text": [
      "                   all        233        376      0.918      0.964      0.969      0.878\n"
     ]
    },
    {
     "name": "stderr",
     "output_type": "stream",
     "text": [
      "\n"
     ]
    },
    {
     "name": "stdout",
     "output_type": "stream",
     "text": [
      "\n",
      "      Epoch    GPU_mem   box_loss   cls_loss   dfl_loss  Instances       Size\n"
     ]
    },
    {
     "name": "stderr",
     "output_type": "stream",
     "text": [
      "     47/100        11G     0.4805     0.3217     0.8298         26        640: 100%|██████████| 44/44 [00:43<00:00,  1.02it/s]\n",
      "                 Class     Images  Instances      Box(P          R      mAP50  mAP50-95): 100%|██████████| 8/8 [00:05<00:00,  1.38it/s]"
     ]
    },
    {
     "name": "stdout",
     "output_type": "stream",
     "text": [
      "                   all        233        376       0.91       0.94      0.966      0.875\n"
     ]
    },
    {
     "name": "stderr",
     "output_type": "stream",
     "text": [
      "\n"
     ]
    },
    {
     "name": "stdout",
     "output_type": "stream",
     "text": [
      "\n",
      "      Epoch    GPU_mem   box_loss   cls_loss   dfl_loss  Instances       Size\n"
     ]
    },
    {
     "name": "stderr",
     "output_type": "stream",
     "text": [
      "     48/100        11G      0.465     0.3226     0.8286         21        640: 100%|██████████| 44/44 [00:43<00:00,  1.01it/s]\n",
      "                 Class     Images  Instances      Box(P          R      mAP50  mAP50-95): 100%|██████████| 8/8 [00:10<00:00,  1.31s/it]"
     ]
    },
    {
     "name": "stdout",
     "output_type": "stream",
     "text": [
      "                   all        233        376      0.925       0.96      0.966      0.881\n"
     ]
    },
    {
     "name": "stderr",
     "output_type": "stream",
     "text": [
      "\n"
     ]
    },
    {
     "name": "stdout",
     "output_type": "stream",
     "text": [
      "\n",
      "      Epoch    GPU_mem   box_loss   cls_loss   dfl_loss  Instances       Size\n"
     ]
    },
    {
     "name": "stderr",
     "output_type": "stream",
     "text": [
      "     49/100        11G     0.4664     0.3058     0.8233         39        640: 100%|██████████| 44/44 [00:43<00:00,  1.01it/s]\n",
      "                 Class     Images  Instances      Box(P          R      mAP50  mAP50-95): 100%|██████████| 8/8 [00:05<00:00,  1.39it/s]"
     ]
    },
    {
     "name": "stdout",
     "output_type": "stream",
     "text": [
      "                   all        233        376      0.935      0.949      0.974      0.888\n"
     ]
    },
    {
     "name": "stderr",
     "output_type": "stream",
     "text": [
      "\n"
     ]
    },
    {
     "name": "stdout",
     "output_type": "stream",
     "text": [
      "\n",
      "      Epoch    GPU_mem   box_loss   cls_loss   dfl_loss  Instances       Size\n"
     ]
    },
    {
     "name": "stderr",
     "output_type": "stream",
     "text": [
      "     50/100        11G     0.4583     0.2996     0.8218         33        640: 100%|██████████| 44/44 [00:43<00:00,  1.00it/s]\n",
      "                 Class     Images  Instances      Box(P          R      mAP50  mAP50-95): 100%|██████████| 8/8 [00:05<00:00,  1.36it/s]"
     ]
    },
    {
     "name": "stdout",
     "output_type": "stream",
     "text": [
      "                   all        233        376      0.932      0.974      0.968      0.891\n"
     ]
    },
    {
     "name": "stderr",
     "output_type": "stream",
     "text": [
      "\n"
     ]
    },
    {
     "name": "stdout",
     "output_type": "stream",
     "text": [
      "\n",
      "      Epoch    GPU_mem   box_loss   cls_loss   dfl_loss  Instances       Size\n"
     ]
    },
    {
     "name": "stderr",
     "output_type": "stream",
     "text": [
      "     51/100      11.1G     0.4559     0.3065     0.8216         32        640: 100%|██████████| 44/44 [00:43<00:00,  1.01it/s]\n",
      "                 Class     Images  Instances      Box(P          R      mAP50  mAP50-95): 100%|██████████| 8/8 [00:05<00:00,  1.34it/s]"
     ]
    },
    {
     "name": "stdout",
     "output_type": "stream",
     "text": [
      "                   all        233        376      0.935      0.977       0.98      0.895\n"
     ]
    },
    {
     "name": "stderr",
     "output_type": "stream",
     "text": [
      "\n"
     ]
    },
    {
     "name": "stdout",
     "output_type": "stream",
     "text": [
      "\n",
      "      Epoch    GPU_mem   box_loss   cls_loss   dfl_loss  Instances       Size\n"
     ]
    },
    {
     "name": "stderr",
     "output_type": "stream",
     "text": [
      "     52/100        11G     0.4562     0.3061     0.8258         31        640: 100%|██████████| 44/44 [00:43<00:00,  1.01it/s]\n",
      "                 Class     Images  Instances      Box(P          R      mAP50  mAP50-95): 100%|██████████| 8/8 [00:11<00:00,  1.40s/it]"
     ]
    },
    {
     "name": "stdout",
     "output_type": "stream",
     "text": [
      "                   all        233        376      0.922      0.977      0.976      0.888\n"
     ]
    },
    {
     "name": "stderr",
     "output_type": "stream",
     "text": [
      "\n"
     ]
    },
    {
     "name": "stdout",
     "output_type": "stream",
     "text": [
      "\n",
      "      Epoch    GPU_mem   box_loss   cls_loss   dfl_loss  Instances       Size\n"
     ]
    },
    {
     "name": "stderr",
     "output_type": "stream",
     "text": [
      "     53/100        11G     0.4549     0.3129     0.8272         42        640: 100%|██████████| 44/44 [00:42<00:00,  1.03it/s]\n",
      "                 Class     Images  Instances      Box(P          R      mAP50  mAP50-95): 100%|██████████| 8/8 [00:05<00:00,  1.36it/s]"
     ]
    },
    {
     "name": "stdout",
     "output_type": "stream",
     "text": [
      "                   all        233        376      0.926       0.93      0.971      0.875\n"
     ]
    },
    {
     "name": "stderr",
     "output_type": "stream",
     "text": [
      "\n"
     ]
    },
    {
     "name": "stdout",
     "output_type": "stream",
     "text": [
      "\n",
      "      Epoch    GPU_mem   box_loss   cls_loss   dfl_loss  Instances       Size\n"
     ]
    },
    {
     "name": "stderr",
     "output_type": "stream",
     "text": [
      "     54/100      11.1G     0.4577     0.2938     0.8187         38        640: 100%|██████████| 44/44 [00:43<00:00,  1.02it/s]\n",
      "                 Class     Images  Instances      Box(P          R      mAP50  mAP50-95): 100%|██████████| 8/8 [00:05<00:00,  1.36it/s]"
     ]
    },
    {
     "name": "stdout",
     "output_type": "stream",
     "text": [
      "                   all        233        376      0.918      0.979      0.972      0.886\n"
     ]
    },
    {
     "name": "stderr",
     "output_type": "stream",
     "text": [
      "\n"
     ]
    },
    {
     "name": "stdout",
     "output_type": "stream",
     "text": [
      "\n",
      "      Epoch    GPU_mem   box_loss   cls_loss   dfl_loss  Instances       Size\n"
     ]
    },
    {
     "name": "stderr",
     "output_type": "stream",
     "text": [
      "     55/100        11G     0.4669      0.304     0.8255         31        640: 100%|██████████| 44/44 [00:44<00:00,  1.00s/it]\n",
      "                 Class     Images  Instances      Box(P          R      mAP50  mAP50-95): 100%|██████████| 8/8 [00:05<00:00,  1.39it/s]"
     ]
    },
    {
     "name": "stdout",
     "output_type": "stream",
     "text": [
      "                   all        233        376      0.948      0.958      0.983      0.904\n"
     ]
    },
    {
     "name": "stderr",
     "output_type": "stream",
     "text": [
      "\n"
     ]
    },
    {
     "name": "stdout",
     "output_type": "stream",
     "text": [
      "\n",
      "      Epoch    GPU_mem   box_loss   cls_loss   dfl_loss  Instances       Size\n"
     ]
    },
    {
     "name": "stderr",
     "output_type": "stream",
     "text": [
      "     56/100        11G      0.456     0.2955     0.8267         32        640: 100%|██████████| 44/44 [00:43<00:00,  1.01it/s]\n",
      "                 Class     Images  Instances      Box(P          R      mAP50  mAP50-95): 100%|██████████| 8/8 [00:07<00:00,  1.12it/s]"
     ]
    },
    {
     "name": "stdout",
     "output_type": "stream",
     "text": [
      "                   all        233        376      0.943      0.979      0.978      0.898\n"
     ]
    },
    {
     "name": "stderr",
     "output_type": "stream",
     "text": [
      "\n"
     ]
    },
    {
     "name": "stdout",
     "output_type": "stream",
     "text": [
      "\n",
      "      Epoch    GPU_mem   box_loss   cls_loss   dfl_loss  Instances       Size\n"
     ]
    },
    {
     "name": "stderr",
     "output_type": "stream",
     "text": [
      "     57/100      11.1G      0.439     0.2866      0.821         23        640: 100%|██████████| 44/44 [00:43<00:00,  1.01it/s]\n",
      "                 Class     Images  Instances      Box(P          R      mAP50  mAP50-95): 100%|██████████| 8/8 [00:09<00:00,  1.21s/it]"
     ]
    },
    {
     "name": "stdout",
     "output_type": "stream",
     "text": [
      "                   all        233        376      0.944      0.972       0.98      0.893\n"
     ]
    },
    {
     "name": "stderr",
     "output_type": "stream",
     "text": [
      "\n"
     ]
    },
    {
     "name": "stdout",
     "output_type": "stream",
     "text": [
      "\n",
      "      Epoch    GPU_mem   box_loss   cls_loss   dfl_loss  Instances       Size\n"
     ]
    },
    {
     "name": "stderr",
     "output_type": "stream",
     "text": [
      "     58/100        11G      0.437     0.2796     0.8283         35        640: 100%|██████████| 44/44 [00:43<00:00,  1.01it/s]\n",
      "                 Class     Images  Instances      Box(P          R      mAP50  mAP50-95): 100%|██████████| 8/8 [00:05<00:00,  1.39it/s]"
     ]
    },
    {
     "name": "stdout",
     "output_type": "stream",
     "text": [
      "                   all        233        376       0.95      0.968      0.983      0.897\n"
     ]
    },
    {
     "name": "stderr",
     "output_type": "stream",
     "text": [
      "\n"
     ]
    },
    {
     "name": "stdout",
     "output_type": "stream",
     "text": [
      "\n",
      "      Epoch    GPU_mem   box_loss   cls_loss   dfl_loss  Instances       Size\n"
     ]
    },
    {
     "name": "stderr",
     "output_type": "stream",
     "text": [
      "     59/100        11G     0.4476      0.287     0.8218         33        640: 100%|██████████| 44/44 [00:43<00:00,  1.01it/s]\n",
      "                 Class     Images  Instances      Box(P          R      mAP50  mAP50-95): 100%|██████████| 8/8 [00:05<00:00,  1.37it/s]"
     ]
    },
    {
     "name": "stdout",
     "output_type": "stream",
     "text": [
      "                   all        233        376      0.962      0.952      0.979      0.895\n"
     ]
    },
    {
     "name": "stderr",
     "output_type": "stream",
     "text": [
      "\n"
     ]
    },
    {
     "name": "stdout",
     "output_type": "stream",
     "text": [
      "\n",
      "      Epoch    GPU_mem   box_loss   cls_loss   dfl_loss  Instances       Size\n"
     ]
    },
    {
     "name": "stderr",
     "output_type": "stream",
     "text": [
      "     60/100        11G      0.441     0.2722     0.8205         24        640: 100%|██████████| 44/44 [00:43<00:00,  1.01it/s]\n",
      "                 Class     Images  Instances      Box(P          R      mAP50  mAP50-95): 100%|██████████| 8/8 [00:09<00:00,  1.25s/it]"
     ]
    },
    {
     "name": "stdout",
     "output_type": "stream",
     "text": [
      "                   all        233        376      0.932      0.964      0.979      0.898\n"
     ]
    },
    {
     "name": "stderr",
     "output_type": "stream",
     "text": [
      "\n"
     ]
    },
    {
     "name": "stdout",
     "output_type": "stream",
     "text": [
      "\n",
      "      Epoch    GPU_mem   box_loss   cls_loss   dfl_loss  Instances       Size\n"
     ]
    },
    {
     "name": "stderr",
     "output_type": "stream",
     "text": [
      "     61/100        11G     0.4389     0.2786     0.8174         29        640: 100%|██████████| 44/44 [00:42<00:00,  1.03it/s]\n",
      "                 Class     Images  Instances      Box(P          R      mAP50  mAP50-95): 100%|██████████| 8/8 [00:08<00:00,  1.10s/it]"
     ]
    },
    {
     "name": "stdout",
     "output_type": "stream",
     "text": [
      "                   all        233        376      0.929      0.958      0.976      0.888\n"
     ]
    },
    {
     "name": "stderr",
     "output_type": "stream",
     "text": [
      "\n"
     ]
    },
    {
     "name": "stdout",
     "output_type": "stream",
     "text": [
      "\n",
      "      Epoch    GPU_mem   box_loss   cls_loss   dfl_loss  Instances       Size\n"
     ]
    },
    {
     "name": "stderr",
     "output_type": "stream",
     "text": [
      "     62/100        11G     0.4329     0.2824     0.8186         33        640: 100%|██████████| 44/44 [00:42<00:00,  1.03it/s]\n",
      "                 Class     Images  Instances      Box(P          R      mAP50  mAP50-95): 100%|██████████| 8/8 [00:05<00:00,  1.39it/s]"
     ]
    },
    {
     "name": "stdout",
     "output_type": "stream",
     "text": [
      "                   all        233        376      0.959      0.972      0.986       0.91\n"
     ]
    },
    {
     "name": "stderr",
     "output_type": "stream",
     "text": [
      "\n"
     ]
    },
    {
     "name": "stdout",
     "output_type": "stream",
     "text": [
      "\n",
      "      Epoch    GPU_mem   box_loss   cls_loss   dfl_loss  Instances       Size\n"
     ]
    },
    {
     "name": "stderr",
     "output_type": "stream",
     "text": [
      "     63/100        11G     0.4201     0.2727     0.8185         28        640: 100%|██████████| 44/44 [00:43<00:00,  1.01it/s]\n",
      "                 Class     Images  Instances      Box(P          R      mAP50  mAP50-95): 100%|██████████| 8/8 [00:05<00:00,  1.35it/s]"
     ]
    },
    {
     "name": "stdout",
     "output_type": "stream",
     "text": [
      "                   all        233        376      0.954      0.964      0.981      0.894\n"
     ]
    },
    {
     "name": "stderr",
     "output_type": "stream",
     "text": [
      "\n"
     ]
    },
    {
     "name": "stdout",
     "output_type": "stream",
     "text": [
      "\n",
      "      Epoch    GPU_mem   box_loss   cls_loss   dfl_loss  Instances       Size\n"
     ]
    },
    {
     "name": "stderr",
     "output_type": "stream",
     "text": [
      "     64/100        11G     0.4191      0.271     0.8141         33        640: 100%|██████████| 44/44 [00:43<00:00,  1.02it/s]\n",
      "                 Class     Images  Instances      Box(P          R      mAP50  mAP50-95): 100%|██████████| 8/8 [00:07<00:00,  1.13it/s]"
     ]
    },
    {
     "name": "stdout",
     "output_type": "stream",
     "text": [
      "                   all        233        376      0.939      0.973      0.975      0.907\n"
     ]
    },
    {
     "name": "stderr",
     "output_type": "stream",
     "text": [
      "\n"
     ]
    },
    {
     "name": "stdout",
     "output_type": "stream",
     "text": [
      "\n",
      "      Epoch    GPU_mem   box_loss   cls_loss   dfl_loss  Instances       Size\n"
     ]
    },
    {
     "name": "stderr",
     "output_type": "stream",
     "text": [
      "     65/100        11G     0.4159     0.2622     0.8208         29        640: 100%|██████████| 44/44 [00:43<00:00,  1.01it/s]\n",
      "                 Class     Images  Instances      Box(P          R      mAP50  mAP50-95): 100%|██████████| 8/8 [00:05<00:00,  1.36it/s]"
     ]
    },
    {
     "name": "stdout",
     "output_type": "stream",
     "text": [
      "                   all        233        376      0.941      0.964      0.979      0.901\n"
     ]
    },
    {
     "name": "stderr",
     "output_type": "stream",
     "text": [
      "\n"
     ]
    },
    {
     "name": "stdout",
     "output_type": "stream",
     "text": [
      "\n",
      "      Epoch    GPU_mem   box_loss   cls_loss   dfl_loss  Instances       Size\n"
     ]
    },
    {
     "name": "stderr",
     "output_type": "stream",
     "text": [
      "     66/100        11G     0.4105     0.2519     0.8184         30        640: 100%|██████████| 44/44 [00:43<00:00,  1.02it/s]\n",
      "                 Class     Images  Instances      Box(P          R      mAP50  mAP50-95): 100%|██████████| 8/8 [00:05<00:00,  1.36it/s]"
     ]
    },
    {
     "name": "stdout",
     "output_type": "stream",
     "text": [
      "                   all        233        376      0.932      0.963      0.973      0.895\n"
     ]
    },
    {
     "name": "stderr",
     "output_type": "stream",
     "text": [
      "\n"
     ]
    },
    {
     "name": "stdout",
     "output_type": "stream",
     "text": [
      "\n",
      "      Epoch    GPU_mem   box_loss   cls_loss   dfl_loss  Instances       Size\n"
     ]
    },
    {
     "name": "stderr",
     "output_type": "stream",
     "text": [
      "     67/100        11G     0.4252     0.2632     0.8137         29        640: 100%|██████████| 44/44 [00:42<00:00,  1.03it/s]\n",
      "                 Class     Images  Instances      Box(P          R      mAP50  mAP50-95): 100%|██████████| 8/8 [00:05<00:00,  1.40it/s]"
     ]
    },
    {
     "name": "stdout",
     "output_type": "stream",
     "text": [
      "                   all        233        376      0.949      0.961      0.983      0.909\n"
     ]
    },
    {
     "name": "stderr",
     "output_type": "stream",
     "text": [
      "\n"
     ]
    },
    {
     "name": "stdout",
     "output_type": "stream",
     "text": [
      "\n",
      "      Epoch    GPU_mem   box_loss   cls_loss   dfl_loss  Instances       Size\n"
     ]
    },
    {
     "name": "stderr",
     "output_type": "stream",
     "text": [
      "     68/100      11.1G     0.4207     0.2641     0.8193         30        640: 100%|██████████| 44/44 [00:42<00:00,  1.03it/s]\n",
      "                 Class     Images  Instances      Box(P          R      mAP50  mAP50-95): 100%|██████████| 8/8 [00:07<00:00,  1.14it/s]"
     ]
    },
    {
     "name": "stdout",
     "output_type": "stream",
     "text": [
      "                   all        233        376      0.944      0.972      0.984      0.912\n"
     ]
    },
    {
     "name": "stderr",
     "output_type": "stream",
     "text": [
      "\n"
     ]
    },
    {
     "name": "stdout",
     "output_type": "stream",
     "text": [
      "\n",
      "      Epoch    GPU_mem   box_loss   cls_loss   dfl_loss  Instances       Size\n"
     ]
    },
    {
     "name": "stderr",
     "output_type": "stream",
     "text": [
      "     69/100      11.1G     0.4155     0.2601     0.8187         30        640: 100%|██████████| 44/44 [00:43<00:00,  1.01it/s]\n",
      "                 Class     Images  Instances      Box(P          R      mAP50  mAP50-95): 100%|██████████| 8/8 [00:08<00:00,  1.10s/it]"
     ]
    },
    {
     "name": "stdout",
     "output_type": "stream",
     "text": [
      "                   all        233        376      0.943      0.949       0.98      0.905\n"
     ]
    },
    {
     "name": "stderr",
     "output_type": "stream",
     "text": [
      "\n"
     ]
    },
    {
     "name": "stdout",
     "output_type": "stream",
     "text": [
      "\n",
      "      Epoch    GPU_mem   box_loss   cls_loss   dfl_loss  Instances       Size\n"
     ]
    },
    {
     "name": "stderr",
     "output_type": "stream",
     "text": [
      "     70/100      11.1G     0.4162     0.2567     0.8108         27        640: 100%|██████████| 44/44 [00:42<00:00,  1.04it/s]\n",
      "                 Class     Images  Instances      Box(P          R      mAP50  mAP50-95): 100%|██████████| 8/8 [00:05<00:00,  1.37it/s]"
     ]
    },
    {
     "name": "stdout",
     "output_type": "stream",
     "text": [
      "                   all        233        376      0.957      0.969      0.986       0.91\n"
     ]
    },
    {
     "name": "stderr",
     "output_type": "stream",
     "text": [
      "\n"
     ]
    },
    {
     "name": "stdout",
     "output_type": "stream",
     "text": [
      "\n",
      "      Epoch    GPU_mem   box_loss   cls_loss   dfl_loss  Instances       Size\n"
     ]
    },
    {
     "name": "stderr",
     "output_type": "stream",
     "text": [
      "     71/100      11.1G     0.3982      0.247     0.8157         30        640: 100%|██████████| 44/44 [00:43<00:00,  1.01it/s]\n",
      "                 Class     Images  Instances      Box(P          R      mAP50  mAP50-95): 100%|██████████| 8/8 [00:05<00:00,  1.39it/s]"
     ]
    },
    {
     "name": "stdout",
     "output_type": "stream",
     "text": [
      "                   all        233        376       0.94      0.967      0.979      0.908\n"
     ]
    },
    {
     "name": "stderr",
     "output_type": "stream",
     "text": [
      "\n"
     ]
    },
    {
     "name": "stdout",
     "output_type": "stream",
     "text": [
      "\n",
      "      Epoch    GPU_mem   box_loss   cls_loss   dfl_loss  Instances       Size\n"
     ]
    },
    {
     "name": "stderr",
     "output_type": "stream",
     "text": [
      "     72/100        11G     0.3932      0.242     0.8052         37        640: 100%|██████████| 44/44 [00:43<00:00,  1.02it/s]\n",
      "                 Class     Images  Instances      Box(P          R      mAP50  mAP50-95): 100%|██████████| 8/8 [00:06<00:00,  1.19it/s]"
     ]
    },
    {
     "name": "stdout",
     "output_type": "stream",
     "text": [
      "                   all        233        376      0.956      0.963      0.982      0.907\n"
     ]
    },
    {
     "name": "stderr",
     "output_type": "stream",
     "text": [
      "\n"
     ]
    },
    {
     "name": "stdout",
     "output_type": "stream",
     "text": [
      "\n",
      "      Epoch    GPU_mem   box_loss   cls_loss   dfl_loss  Instances       Size\n"
     ]
    },
    {
     "name": "stderr",
     "output_type": "stream",
     "text": [
      "     73/100      11.1G     0.3995     0.2404     0.8174         42        640: 100%|██████████| 44/44 [00:44<00:00,  1.00s/it]\n",
      "                 Class     Images  Instances      Box(P          R      mAP50  mAP50-95): 100%|██████████| 8/8 [00:08<00:00,  1.10s/it]"
     ]
    },
    {
     "name": "stdout",
     "output_type": "stream",
     "text": [
      "                   all        233        376      0.933      0.974      0.982      0.908\n"
     ]
    },
    {
     "name": "stderr",
     "output_type": "stream",
     "text": [
      "\n"
     ]
    },
    {
     "name": "stdout",
     "output_type": "stream",
     "text": [
      "\n",
      "      Epoch    GPU_mem   box_loss   cls_loss   dfl_loss  Instances       Size\n"
     ]
    },
    {
     "name": "stderr",
     "output_type": "stream",
     "text": [
      "     74/100      11.1G     0.4019     0.2536     0.8107         28        640: 100%|██████████| 44/44 [00:43<00:00,  1.02it/s]\n",
      "                 Class     Images  Instances      Box(P          R      mAP50  mAP50-95): 100%|██████████| 8/8 [00:05<00:00,  1.36it/s]"
     ]
    },
    {
     "name": "stdout",
     "output_type": "stream",
     "text": [
      "                   all        233        376      0.942       0.96      0.975      0.907\n"
     ]
    },
    {
     "name": "stderr",
     "output_type": "stream",
     "text": [
      "\n"
     ]
    },
    {
     "name": "stdout",
     "output_type": "stream",
     "text": [
      "\n",
      "      Epoch    GPU_mem   box_loss   cls_loss   dfl_loss  Instances       Size\n"
     ]
    },
    {
     "name": "stderr",
     "output_type": "stream",
     "text": [
      "     75/100      11.1G     0.3955     0.2445     0.8082         37        640: 100%|██████████| 44/44 [00:43<00:00,  1.02it/s]\n",
      "                 Class     Images  Instances      Box(P          R      mAP50  mAP50-95): 100%|██████████| 8/8 [00:05<00:00,  1.38it/s]"
     ]
    },
    {
     "name": "stdout",
     "output_type": "stream",
     "text": [
      "                   all        233        376      0.938      0.946      0.978      0.903\n"
     ]
    },
    {
     "name": "stderr",
     "output_type": "stream",
     "text": [
      "\n"
     ]
    },
    {
     "name": "stdout",
     "output_type": "stream",
     "text": [
      "\n",
      "      Epoch    GPU_mem   box_loss   cls_loss   dfl_loss  Instances       Size\n"
     ]
    },
    {
     "name": "stderr",
     "output_type": "stream",
     "text": [
      "     76/100        11G     0.3928     0.2406     0.8113         45        640: 100%|██████████| 44/44 [00:44<00:00,  1.01s/it]\n",
      "                 Class     Images  Instances      Box(P          R      mAP50  mAP50-95): 100%|██████████| 8/8 [00:09<00:00,  1.21s/it]"
     ]
    },
    {
     "name": "stdout",
     "output_type": "stream",
     "text": [
      "                   all        233        376      0.943      0.941       0.98      0.907\n"
     ]
    },
    {
     "name": "stderr",
     "output_type": "stream",
     "text": [
      "\n"
     ]
    },
    {
     "name": "stdout",
     "output_type": "stream",
     "text": [
      "\n",
      "      Epoch    GPU_mem   box_loss   cls_loss   dfl_loss  Instances       Size\n"
     ]
    },
    {
     "name": "stderr",
     "output_type": "stream",
     "text": [
      "     77/100        11G     0.3922     0.2392     0.8064         34        640: 100%|██████████| 44/44 [00:42<00:00,  1.03it/s]\n",
      "                 Class     Images  Instances      Box(P          R      mAP50  mAP50-95): 100%|██████████| 8/8 [00:08<00:00,  1.10s/it]"
     ]
    },
    {
     "name": "stdout",
     "output_type": "stream",
     "text": [
      "                   all        233        376      0.939      0.976      0.984       0.91\n"
     ]
    },
    {
     "name": "stderr",
     "output_type": "stream",
     "text": [
      "\n"
     ]
    },
    {
     "name": "stdout",
     "output_type": "stream",
     "text": [
      "\n",
      "      Epoch    GPU_mem   box_loss   cls_loss   dfl_loss  Instances       Size\n"
     ]
    },
    {
     "name": "stderr",
     "output_type": "stream",
     "text": [
      "     78/100        11G     0.3836     0.2396     0.8077         20        640: 100%|██████████| 44/44 [00:42<00:00,  1.03it/s]\n",
      "                 Class     Images  Instances      Box(P          R      mAP50  mAP50-95): 100%|██████████| 8/8 [00:05<00:00,  1.39it/s]"
     ]
    },
    {
     "name": "stdout",
     "output_type": "stream",
     "text": [
      "                   all        233        376      0.942      0.958      0.982      0.912\n",
      "\u001b[34m\u001b[1mEarlyStopping: \u001b[0mTraining stopped early as no improvement observed in last 10 epochs. Best results observed at epoch 68, best model saved as best.pt.\n",
      "To update EarlyStopping(patience=10) pass a new patience value, i.e. `patience=300` or use `patience=0` to disable EarlyStopping.\n"
     ]
    },
    {
     "name": "stderr",
     "output_type": "stream",
     "text": [
      "\n"
     ]
    },
    {
     "name": "stdout",
     "output_type": "stream",
     "text": [
      "\n",
      "78 epochs completed in 1.144 hours.\n",
      "Optimizer stripped from c:\\Users\\admin\\Desktop\\CudaTest\\runs\\detect\\train\\weights\\last.pt, 87.7MB\n",
      "Optimizer stripped from c:\\Users\\admin\\Desktop\\CudaTest\\runs\\detect\\train\\weights\\best.pt, 87.7MB\n",
      "\n",
      "Validating c:\\Users\\admin\\Desktop\\CudaTest\\runs\\detect\\train\\weights\\best.pt...\n",
      "Ultralytics YOLOv8.2.5  Python-3.9.12 torch-2.2.2+cu118 CUDA:0 (NVIDIA GeForce RTX 3060, 12288MiB)\n",
      "Model summary (fused): 268 layers, 43608921 parameters, 0 gradients, 164.8 GFLOPs\n"
     ]
    },
    {
     "name": "stderr",
     "output_type": "stream",
     "text": [
      "                 Class     Images  Instances      Box(P          R      mAP50  mAP50-95): 100%|██████████| 8/8 [00:05<00:00,  1.37it/s]\n"
     ]
    },
    {
     "name": "stdout",
     "output_type": "stream",
     "text": [
      "                   all        233        376      0.944      0.972      0.984      0.913\n",
      "     Metcalfa_pruinosa        233         83          1      0.986      0.995      0.924\n",
      "     Halyomorpha_halys        233        147      0.947      0.971      0.988      0.891\n",
      " Melanchra_persicariae        233        146      0.885      0.959       0.97      0.923\n",
      "Speed: 0.2ms preprocess, 19.3ms inference, 0.0ms loss, 1.7ms postprocess per image\n",
      "Results saved to \u001b[1mc:\\Users\\admin\\Desktop\\CudaTest\\runs\\detect\\train\u001b[0m\n"
     ]
    }
   ],
   "source": [
    "os.environ['WANDB_DISABLED'] = 'true'\n",
    "\n",
    "def main():\n",
    "    model = YOLO(\"./yolov8l.pt\", task=\"detect\")\n",
    "    model.train(\n",
    "        model = \"./yolov8l.pt\",\n",
    "        data = \"./bug_detection.yaml\",\n",
    "        imgsz=640,\n",
    "        epochs=100,\n",
    "        batch=16,  # batch=-1 -> 장비가 허용하는 범위 내에서 동적으로 설정\n",
    "        workers=2,\n",
    "        plots=True,\n",
    "        device=0,  # gpu 사용\n",
    "        patience=10,\n",
    "        translate=0.0,  # 수평 혹은 수직이동\n",
    "    )\n",
    "\n",
    "if __name__ == \"__main__\":\n",
    "    main()"
   ]
  },
  {
   "cell_type": "code",
   "execution_count": 3,
   "metadata": {},
   "outputs": [
    {
     "name": "stdout",
     "output_type": "stream",
     "text": [
      "\n",
      "image 1/233 d:\\CudaTest\\segmentation\\output_dataset\\test\\images\\20220808_113039__718.png: 640x576 1 Metcalfa_pruinosa, 167.8ms\n",
      "image 2/233 d:\\CudaTest\\segmentation\\output_dataset\\test\\images\\20220808_120039__135.png: 640x576 2 Metcalfa_pruinosas, 20.7ms\n",
      "image 3/233 d:\\CudaTest\\segmentation\\output_dataset\\test\\images\\20220808_130039__377.png: 640x576 1 Metcalfa_pruinosa, 24.1ms\n",
      "image 4/233 d:\\CudaTest\\segmentation\\output_dataset\\test\\images\\20220808_143039__366.png: 640x576 2 Metcalfa_pruinosas, 24.6ms\n",
      "image 5/233 d:\\CudaTest\\segmentation\\output_dataset\\test\\images\\20220808_143039__653.png: 640x576 1 Metcalfa_pruinosa, 24.0ms\n",
      "image 6/233 d:\\CudaTest\\segmentation\\output_dataset\\test\\images\\20220808_150039__638.png: 640x576 2 Metcalfa_pruinosas, 27.2ms\n",
      "image 7/233 d:\\CudaTest\\segmentation\\output_dataset\\test\\images\\20220808_150039__737.png: 640x576 2 Metcalfa_pruinosas, 31.2ms\n",
      "image 8/233 d:\\CudaTest\\segmentation\\output_dataset\\test\\images\\20220808_153039__398.png: 640x576 2 Metcalfa_pruinosas, 24.3ms\n",
      "image 9/233 d:\\CudaTest\\segmentation\\output_dataset\\test\\images\\20220808_164313__504.png: 640x576 2 Metcalfa_pruinosas, 19.2ms\n",
      "image 10/233 d:\\CudaTest\\segmentation\\output_dataset\\test\\images\\20220808_171313__155.png: 640x576 1 Metcalfa_pruinosa, 15.7ms\n",
      "image 11/233 d:\\CudaTest\\segmentation\\output_dataset\\test\\images\\20220808_174313__134.png: 640x576 1 Metcalfa_pruinosa, 15.6ms\n",
      "image 12/233 d:\\CudaTest\\segmentation\\output_dataset\\test\\images\\20220808_174313__407.png: 640x576 2 Metcalfa_pruinosas, 30.7ms\n",
      "image 13/233 d:\\CudaTest\\segmentation\\output_dataset\\test\\images\\20220809_164313__379.png: 640x576 1 Metcalfa_pruinosa, 12.1ms\n",
      "image 14/233 d:\\CudaTest\\segmentation\\output_dataset\\test\\images\\20220809_174313__649.png: 640x576 1 Metcalfa_pruinosa, 31.3ms\n",
      "image 15/233 d:\\CudaTest\\segmentation\\output_dataset\\test\\images\\20220809_181313__614.png: 640x576 1 Metcalfa_pruinosa, 23.0ms\n",
      "image 16/233 d:\\CudaTest\\segmentation\\output_dataset\\test\\images\\20220810_071313__340.png: 640x576 1 Metcalfa_pruinosa, 31.2ms\n",
      "image 17/233 d:\\CudaTest\\segmentation\\output_dataset\\test\\images\\20220810_071313__757.png: 640x576 1 Metcalfa_pruinosa, 29.0ms\n",
      "image 18/233 d:\\CudaTest\\segmentation\\output_dataset\\test\\images\\20220810_091313__113.png: 640x576 1 Metcalfa_pruinosa, 31.1ms\n",
      "image 19/233 d:\\CudaTest\\segmentation\\output_dataset\\test\\images\\20220810_100054__324.png: 640x576 1 Metcalfa_pruinosa, 34.6ms\n",
      "image 20/233 d:\\CudaTest\\segmentation\\output_dataset\\test\\images\\20220810_103054__54.png: 640x576 1 Metcalfa_pruinosa, 29.9ms\n",
      "image 21/233 d:\\CudaTest\\segmentation\\output_dataset\\test\\images\\20220810_111809__109.png: 640x576 1 Metcalfa_pruinosa, 15.7ms\n",
      "image 22/233 d:\\CudaTest\\segmentation\\output_dataset\\test\\images\\20220810_111809__195.png: 640x576 1 Metcalfa_pruinosa, 24.0ms\n",
      "image 23/233 d:\\CudaTest\\segmentation\\output_dataset\\test\\images\\20220810_114809__585.png: 640x576 1 Metcalfa_pruinosa, 23.8ms\n",
      "image 24/233 d:\\CudaTest\\segmentation\\output_dataset\\test\\images\\20220814_033502__713.png: 640x576 2 Metcalfa_pruinosas, 11.2ms\n",
      "image 25/233 d:\\CudaTest\\segmentation\\output_dataset\\test\\images\\20220814_040502__270.png: 640x576 2 Metcalfa_pruinosas, 31.2ms\n",
      "image 26/233 d:\\CudaTest\\segmentation\\output_dataset\\test\\images\\20220814_050502__442.png: 640x576 1 Metcalfa_pruinosa, 22.2ms\n",
      "image 27/233 d:\\CudaTest\\segmentation\\output_dataset\\test\\images\\20220814_053502__154.png: 640x576 1 Metcalfa_pruinosa, 23.3ms\n",
      "image 28/233 d:\\CudaTest\\segmentation\\output_dataset\\test\\images\\20220814_073502__212.png: 640x576 1 Metcalfa_pruinosa, 23.0ms\n",
      "image 29/233 d:\\CudaTest\\segmentation\\output_dataset\\test\\images\\20220814_080502__74.png: 640x576 1 Metcalfa_pruinosa, 26.4ms\n",
      "image 30/233 d:\\CudaTest\\segmentation\\output_dataset\\test\\images\\20220814_103502__382.png: 640x576 1 Metcalfa_pruinosa, 28.4ms\n",
      "image 31/233 d:\\CudaTest\\segmentation\\output_dataset\\test\\images\\20220814_140503__739.png: 640x576 1 Metcalfa_pruinosa, 26.1ms\n",
      "image 32/233 d:\\CudaTest\\segmentation\\output_dataset\\test\\images\\20220814_143503__352.png: 640x576 1 Metcalfa_pruinosa, 15.7ms\n",
      "image 33/233 d:\\CudaTest\\segmentation\\output_dataset\\test\\images\\20220815_023503__110.png: 640x576 1 Metcalfa_pruinosa, 24.2ms\n",
      "image 34/233 d:\\CudaTest\\segmentation\\output_dataset\\test\\images\\20220815_040503__234.png: 640x576 1 Metcalfa_pruinosa, 15.1ms\n",
      "image 35/233 d:\\CudaTest\\segmentation\\output_dataset\\test\\images\\20220815_050503__632.png: 640x576 1 Metcalfa_pruinosa, 36.3ms\n",
      "image 36/233 d:\\CudaTest\\segmentation\\output_dataset\\test\\images\\20220815_060503__29.png: 640x576 1 Metcalfa_pruinosa, 15.7ms\n",
      "image 37/233 d:\\CudaTest\\segmentation\\output_dataset\\test\\images\\20220815_063503__659.png: 640x576 1 Metcalfa_pruinosa, 32.3ms\n",
      "image 38/233 d:\\CudaTest\\segmentation\\output_dataset\\test\\images\\20220815_070503__558.png: 640x576 1 Metcalfa_pruinosa, 36.3ms\n",
      "image 39/233 d:\\CudaTest\\segmentation\\output_dataset\\test\\images\\20220815_073503__555.png: 640x576 1 Metcalfa_pruinosa, 1 Halyomorpha_halys, 17.9ms\n",
      "image 40/233 d:\\CudaTest\\segmentation\\output_dataset\\test\\images\\20220815_090503__682.png: 640x576 1 Metcalfa_pruinosa, 30.7ms\n",
      "image 41/233 d:\\CudaTest\\segmentation\\output_dataset\\test\\images\\20220815_093503__299.png: 640x576 1 Metcalfa_pruinosa, 31.6ms\n",
      "image 42/233 d:\\CudaTest\\segmentation\\output_dataset\\test\\images\\20220815_195236__344.png: 640x576 1 Metcalfa_pruinosa, 29.7ms\n",
      "image 43/233 d:\\CudaTest\\segmentation\\output_dataset\\test\\images\\20220815_235236__373.png: 640x576 1 Metcalfa_pruinosa, 26.7ms\n",
      "image 44/233 d:\\CudaTest\\segmentation\\output_dataset\\test\\images\\20220816_035236__722.png: 640x576 1 Metcalfa_pruinosa, 15.7ms\n",
      "image 45/233 d:\\CudaTest\\segmentation\\output_dataset\\test\\images\\20220816_045236__387.png: 640x576 1 Metcalfa_pruinosa, 21.2ms\n",
      "image 46/233 d:\\CudaTest\\segmentation\\output_dataset\\test\\images\\20220816_055236__273.png: 640x576 1 Metcalfa_pruinosa, 16.2ms\n",
      "image 47/233 d:\\CudaTest\\segmentation\\output_dataset\\test\\images\\20220816_055236__528.png: 640x576 1 Metcalfa_pruinosa, 24.2ms\n",
      "image 48/233 d:\\CudaTest\\segmentation\\output_dataset\\test\\images\\20220816_062236__121.png: 640x576 1 Metcalfa_pruinosa, 14.5ms\n",
      "image 49/233 d:\\CudaTest\\segmentation\\output_dataset\\test\\images\\20220816_072236__440.png: 640x576 1 Metcalfa_pruinosa, 22.7ms\n",
      "image 50/233 d:\\CudaTest\\segmentation\\output_dataset\\test\\images\\20220816_072236__444.png: 640x576 1 Metcalfa_pruinosa, 15.7ms\n",
      "image 51/233 d:\\CudaTest\\segmentation\\output_dataset\\test\\images\\20220816_092236__520.png: 640x576 1 Metcalfa_pruinosa, 35.1ms\n",
      "image 52/233 d:\\CudaTest\\segmentation\\output_dataset\\test\\images\\20220816_122236__78.png: 640x576 1 Metcalfa_pruinosa, 31.2ms\n",
      "image 53/233 d:\\CudaTest\\segmentation\\output_dataset\\test\\images\\20220816_125236__292.png: 640x576 1 Metcalfa_pruinosa, 18.6ms\n",
      "image 54/233 d:\\CudaTest\\segmentation\\output_dataset\\test\\images\\20220816_132236__133.png: 640x576 1 Metcalfa_pruinosa, 15.6ms\n",
      "image 55/233 d:\\CudaTest\\segmentation\\output_dataset\\test\\images\\20220816_142236__345.png: 640x576 1 Metcalfa_pruinosa, 37.3ms\n",
      "image 56/233 d:\\CudaTest\\segmentation\\output_dataset\\test\\images\\20220816_152236__710.png: 640x576 1 Metcalfa_pruinosa, 18.4ms\n",
      "image 57/233 d:\\CudaTest\\segmentation\\output_dataset\\test\\images\\20220816_162236__138.png: 640x576 2 Metcalfa_pruinosas, 15.6ms\n",
      "image 58/233 d:\\CudaTest\\segmentation\\output_dataset\\test\\images\\20220816_162236__355.png: 640x576 2 Metcalfa_pruinosas, 15.6ms\n",
      "image 59/233 d:\\CudaTest\\segmentation\\output_dataset\\test\\images\\20220816_165236__342.png: 640x576 1 Metcalfa_pruinosa, 19.8ms\n",
      "image 60/233 d:\\CudaTest\\segmentation\\output_dataset\\test\\images\\20220816_222236__383.png: 640x576 1 Metcalfa_pruinosa, 24.3ms\n",
      "image 61/233 d:\\CudaTest\\segmentation\\output_dataset\\test\\images\\20220816_235236__118.png: 640x576 1 Metcalfa_pruinosa, 32.8ms\n",
      "image 62/233 d:\\CudaTest\\segmentation\\output_dataset\\test\\images\\20220817_002236__608.png: 640x576 1 Metcalfa_pruinosa, 15.0ms\n",
      "image 63/233 d:\\CudaTest\\segmentation\\output_dataset\\test\\images\\20220817_035236__357.png: 640x576 1 Metcalfa_pruinosa, 23.0ms\n",
      "image 64/233 d:\\CudaTest\\segmentation\\output_dataset\\test\\images\\20220817_052236__406.png: 640x576 1 Metcalfa_pruinosa, 14.2ms\n",
      "image 65/233 d:\\CudaTest\\segmentation\\output_dataset\\test\\images\\20220817_055236__343.png: 640x576 1 Metcalfa_pruinosa, 34.6ms\n",
      "image 66/233 d:\\CudaTest\\segmentation\\output_dataset\\test\\images\\20220817_072236__19.png: 640x576 1 Metcalfa_pruinosa, 15.6ms\n",
      "image 67/233 d:\\CudaTest\\segmentation\\output_dataset\\test\\images\\20220817_085236__71.png: 640x576 1 Metcalfa_pruinosa, 26.0ms\n",
      "image 68/233 d:\\CudaTest\\segmentation\\output_dataset\\test\\images\\20220817_102236__487.png: 640x576 2 Metcalfa_pruinosas, 23.6ms\n",
      "image 69/233 d:\\CudaTest\\segmentation\\output_dataset\\test\\images\\20220817_145236__322.png: 640x576 2 Metcalfa_pruinosas, 24.1ms\n",
      "image 70/233 d:\\CudaTest\\segmentation\\output_dataset\\test\\images\\20220817_155236__512.png: 640x576 2 Metcalfa_pruinosas, 31.0ms\n",
      "image 71/233 d:\\CudaTest\\segmentation\\output_dataset\\test\\images\\20220817_165236__742.png: 640x576 2 Metcalfa_pruinosas, 30.8ms\n",
      "image 72/233 d:\\CudaTest\\segmentation\\output_dataset\\test\\images\\20220820_063039__483.png: 640x576 1 Metcalfa_pruinosa, 19.2ms\n",
      "image 73/233 d:\\CudaTest\\segmentation\\output_dataset\\test\\images\\20220820_070039__376.png: 640x576 1 Metcalfa_pruinosa, 24.8ms\n",
      "image 74/233 d:\\CudaTest\\segmentation\\output_dataset\\test\\images\\20220820_150039__159.png: 640x576 1 Metcalfa_pruinosa, 19.1ms\n",
      "image 75/233 d:\\CudaTest\\segmentation\\output_dataset\\test\\images\\20220820_163039__465.png: 640x576 1 Metcalfa_pruinosa, 22.0ms\n",
      "image 76/233 d:\\CudaTest\\segmentation\\output_dataset\\test\\images\\20220820_170039__531.png: 640x576 1 Metcalfa_pruinosa, 24.0ms\n",
      "image 77/233 d:\\CudaTest\\segmentation\\output_dataset\\test\\images\\20220820_183039__635.png: 640x576 1 Metcalfa_pruinosa, 24.0ms\n",
      "image 78/233 d:\\CudaTest\\segmentation\\output_dataset\\test\\images\\20220820_193039__731.png: 640x576 1 Metcalfa_pruinosa, 38.4ms\n",
      "image 79/233 d:\\CudaTest\\segmentation\\output_dataset\\test\\images\\20220820_203039__549.png: 640x576 1 Metcalfa_pruinosa, 13.3ms\n",
      "image 80/233 d:\\CudaTest\\segmentation\\output_dataset\\test\\images\\20220821_093039__320.png: 640x576 1 Metcalfa_pruinosa, 18.6ms\n",
      "image 81/233 d:\\CudaTest\\segmentation\\output_dataset\\test\\images\\20220822_143039__59.png: 640x576 1 Metcalfa_pruinosa, 16.2ms\n",
      "image 82/233 d:\\CudaTest\\segmentation\\output_dataset\\test\\images\\20220823_073039__176.png: 640x576 1 Metcalfa_pruinosa, 27.9ms\n",
      "image 83/233 d:\\CudaTest\\segmentation\\output_dataset\\test\\images\\20220823_090039__752.png: 640x576 1 Metcalfa_pruinosa, 22.9ms\n",
      "image 84/233 d:\\CudaTest\\segmentation\\output_dataset\\test\\images\\20220823_160039__117.png: 640x576 1 Metcalfa_pruinosa, 23.0ms\n",
      "image 85/233 d:\\CudaTest\\segmentation\\output_dataset\\test\\images\\20220823_183039__508.png: 640x576 1 Metcalfa_pruinosa, 15.6ms\n",
      "image 86/233 d:\\CudaTest\\segmentation\\output_dataset\\test\\images\\20220824_063039__547.png: 640x576 1 Metcalfa_pruinosa, 14.6ms\n",
      "image 87/233 d:\\CudaTest\\segmentation\\output_dataset\\test\\images\\20220824_073039__28.png: 640x576 1 Metcalfa_pruinosa, 20.8ms\n",
      "image 88/233 d:\\CudaTest\\segmentation\\output_dataset\\test\\images\\20220824_080039__532.png: 640x576 1 Metcalfa_pruinosa, 14.7ms\n",
      "image 89/233 d:\\CudaTest\\segmentation\\output_dataset\\test\\images\\20220824_083039__374.png: 640x576 2 Metcalfa_pruinosas, 32.0ms\n",
      "image 90/233 d:\\CudaTest\\segmentation\\output_dataset\\test\\images\\20220824_100039__721.png: 640x576 1 Metcalfa_pruinosa, 23.2ms\n",
      "image 91/233 d:\\CudaTest\\segmentation\\output_dataset\\test\\images\\20220824_110039__169.png: 640x576 1 Metcalfa_pruinosa, 22.0ms\n",
      "image 92/233 d:\\CudaTest\\segmentation\\output_dataset\\test\\images\\20220824_120039__201.png: 640x576 1 Metcalfa_pruinosa, 25.8ms\n",
      "image 93/233 d:\\CudaTest\\segmentation\\output_dataset\\test\\images\\20220824_133039__630.png: 640x576 1 Metcalfa_pruinosa, 15.7ms\n",
      "image 94/233 d:\\CudaTest\\segmentation\\output_dataset\\test\\images\\20220824_142135__132.png: 640x576 1 Metcalfa_pruinosa, 30.8ms\n",
      "image 95/233 d:\\CudaTest\\segmentation\\output_dataset\\test\\images\\20220824_145135__23.png: 640x576 1 Metcalfa_pruinosa, 30.0ms\n",
      "image 96/233 d:\\CudaTest\\segmentation\\output_dataset\\test\\images\\20220824_195135__680.png: 640x576 1 Metcalfa_pruinosa, 30.5ms\n",
      "image 97/233 d:\\CudaTest\\segmentation\\output_dataset\\test\\images\\20220824_205135__559.png: 640x576 1 Metcalfa_pruinosa, 25.4ms\n",
      "image 98/233 d:\\CudaTest\\segmentation\\output_dataset\\test\\images\\20221127_150000_1_1259.png: 384x640 1 Halyomorpha_halys, 236.1ms\n",
      "image 99/233 d:\\CudaTest\\segmentation\\output_dataset\\test\\images\\20221127_160000_1_7395.png: 384x640 3 Halyomorpha_halyss, 15.5ms\n",
      "image 100/233 d:\\CudaTest\\segmentation\\output_dataset\\test\\images\\20221127_160000_3_11306.png: 384x640 1 Halyomorpha_halys, 15.4ms\n",
      "image 101/233 d:\\CudaTest\\segmentation\\output_dataset\\test\\images\\20221127_160000_3_5097.png: 384x640 1 Halyomorpha_halys, 19.3ms\n",
      "image 102/233 d:\\CudaTest\\segmentation\\output_dataset\\test\\images\\20221127_160000_3_5561.png: 384x640 2 Halyomorpha_halyss, 15.6ms\n",
      "image 103/233 d:\\CudaTest\\segmentation\\output_dataset\\test\\images\\20221127_160000_3_6475.png: 384x640 2 Halyomorpha_halyss, 15.6ms\n",
      "image 104/233 d:\\CudaTest\\segmentation\\output_dataset\\test\\images\\20221127_170000_1_4527.png: 384x640 2 Halyomorpha_halyss, 16.3ms\n",
      "image 105/233 d:\\CudaTest\\segmentation\\output_dataset\\test\\images\\20221127_170000_1_7396.png: 384x640 3 Halyomorpha_halyss, 14.1ms\n",
      "image 106/233 d:\\CudaTest\\segmentation\\output_dataset\\test\\images\\20221127_170000_2_1717.png: 384x640 3 Halyomorpha_halyss, 19.3ms\n",
      "image 107/233 d:\\CudaTest\\segmentation\\output_dataset\\test\\images\\20221128_100000_2_4307.png: 384x640 2 Halyomorpha_halyss, 14.0ms\n",
      "image 108/233 d:\\CudaTest\\segmentation\\output_dataset\\test\\images\\20221128_100000_2_9217.png: 384x640 1 Halyomorpha_halys, 23.1ms\n",
      "image 109/233 d:\\CudaTest\\segmentation\\output_dataset\\test\\images\\20221128_100000_3_11308.png: 384x640 1 Halyomorpha_halys, 15.6ms\n",
      "image 110/233 d:\\CudaTest\\segmentation\\output_dataset\\test\\images\\20221128_100000_3_6477.png: 384x640 2 Halyomorpha_halyss, 15.6ms\n",
      "image 111/233 d:\\CudaTest\\segmentation\\output_dataset\\test\\images\\20221128_110000_1_1263.png: 384x640 1 Halyomorpha_halys, 19.7ms\n",
      "image 112/233 d:\\CudaTest\\segmentation\\output_dataset\\test\\images\\20221128_110000_2_467.png: 384x640 2 Halyomorpha_halyss, 15.6ms\n",
      "image 113/233 d:\\CudaTest\\segmentation\\output_dataset\\test\\images\\20221128_110000_3_5564.png: 384x640 2 Halyomorpha_halyss, 15.6ms\n",
      "image 114/233 d:\\CudaTest\\segmentation\\output_dataset\\test\\images\\20221128_110000_3_7852.png: 384x640 2 Halyomorpha_halyss, 19.8ms\n",
      "image 115/233 d:\\CudaTest\\segmentation\\output_dataset\\test\\images\\20221128_120000_1_1264.png: 384x640 1 Halyomorpha_halys, 26.1ms\n",
      "image 116/233 d:\\CudaTest\\segmentation\\output_dataset\\test\\images\\20221128_120000_1_7399.png: 384x640 3 Halyomorpha_halyss, 7.4ms\n",
      "image 117/233 d:\\CudaTest\\segmentation\\output_dataset\\test\\images\\20221128_120000_2_1720.png: 384x640 3 Halyomorpha_halyss, 22.2ms\n",
      "image 118/233 d:\\CudaTest\\segmentation\\output_dataset\\test\\images\\20221128_120000_2_4309.png: 384x640 2 Halyomorpha_halyss, 15.6ms\n",
      "image 119/233 d:\\CudaTest\\segmentation\\output_dataset\\test\\images\\20221128_120000_2_9219.png: 384x640 1 Halyomorpha_halys, 16.4ms\n",
      "image 120/233 d:\\CudaTest\\segmentation\\output_dataset\\test\\images\\20221128_120000_3_11310.png: 384x640 1 Halyomorpha_halys, 15.9ms\n",
      "image 121/233 d:\\CudaTest\\segmentation\\output_dataset\\test\\images\\20221128_130000_1_1265.png: 384x640 1 Halyomorpha_halys, 27.6ms\n",
      "image 122/233 d:\\CudaTest\\segmentation\\output_dataset\\test\\images\\20221128_130000_2_8309.png: 384x640 1 Halyomorpha_halys, 30.9ms\n",
      "image 123/233 d:\\CudaTest\\segmentation\\output_dataset\\test\\images\\20221128_130000_3_10346.png: 384x640 1 Halyomorpha_halys, 15.6ms\n",
      "image 124/233 d:\\CudaTest\\segmentation\\output_dataset\\test\\images\\20221128_130000_3_7854.png: 384x640 2 Halyomorpha_halyss, 15.6ms\n",
      "image 125/233 d:\\CudaTest\\segmentation\\output_dataset\\test\\images\\20221128_140000_1_4532.png: 384x640 3 Halyomorpha_halyss, 15.6ms\n",
      "image 126/233 d:\\CudaTest\\segmentation\\output_dataset\\test\\images\\20221128_140000_1_8757.png: 384x640 3 Halyomorpha_halyss, 15.6ms\n",
      "image 127/233 d:\\CudaTest\\segmentation\\output_dataset\\test\\images\\20221128_140000_3_11312.png: 384x640 1 Halyomorpha_halys, 15.6ms\n",
      "image 128/233 d:\\CudaTest\\segmentation\\output_dataset\\test\\images\\20221128_150000_1_4533.png: 384x640 3 Halyomorpha_halyss, 16.1ms\n",
      "image 129/233 d:\\CudaTest\\segmentation\\output_dataset\\test\\images\\20221128_150000_2_6938.png: 384x640 3 Halyomorpha_halyss, 18.0ms\n",
      "image 130/233 d:\\CudaTest\\segmentation\\output_dataset\\test\\images\\20221128_150000_3_9686.png: 384x640 1 Halyomorpha_halys, 6.7ms\n",
      "image 131/233 d:\\CudaTest\\segmentation\\output_dataset\\test\\images\\20221128_160000_1_4534.png: 384x640 3 Halyomorpha_halyss, 21.4ms\n",
      "image 132/233 d:\\CudaTest\\segmentation\\output_dataset\\test\\images\\20221128_160000_3_5105.png: 384x640 1 Halyomorpha_halys, 4.4ms\n",
      "image 133/233 d:\\CudaTest\\segmentation\\output_dataset\\test\\images\\20221128_170000_1_3853.png: 384x640 3 Halyomorpha_halyss, 25.8ms\n",
      "image 134/233 d:\\CudaTest\\segmentation\\output_dataset\\test\\images\\20221128_170000_2_3389.png: 384x640 1 Halyomorpha_halys, 27.6ms\n",
      "image 135/233 d:\\CudaTest\\segmentation\\output_dataset\\test\\images\\20221128_170000_2_6030.png: 384x640 1 Halyomorpha_halys, 17.2ms\n",
      "image 136/233 d:\\CudaTest\\segmentation\\output_dataset\\test\\images\\20221128_170000_3_11315.png: 384x640 1 Halyomorpha_halys, 31.2ms\n",
      "image 137/233 d:\\CudaTest\\segmentation\\output_dataset\\test\\images\\20221128_170000_3_5106.png: 384x640 1 Halyomorpha_halys, 20.7ms\n",
      "image 138/233 d:\\CudaTest\\segmentation\\output_dataset\\test\\images\\20221128_170000_3_6484.png: 384x640 2 Halyomorpha_halyss, 31.1ms\n",
      "image 139/233 d:\\CudaTest\\segmentation\\output_dataset\\test\\images\\20221129_100000_1_3854.png: 384x640 3 Halyomorpha_halyss, 8.0ms\n",
      "image 140/233 d:\\CudaTest\\segmentation\\output_dataset\\test\\images\\20221129_100000_1_7405.png: 384x640 3 Halyomorpha_halyss, 22.6ms\n",
      "image 141/233 d:\\CudaTest\\segmentation\\output_dataset\\test\\images\\20221129_100000_3_11316.png: 384x640 1 Halyomorpha_halys, 11.0ms\n",
      "image 142/233 d:\\CudaTest\\segmentation\\output_dataset\\test\\images\\20221129_100000_3_2588.png: 384x640 1 Halyomorpha_halys, 28.8ms\n",
      "image 143/233 d:\\CudaTest\\segmentation\\output_dataset\\test\\images\\20221129_110000_1_3855.png: 384x640 4 Halyomorpha_halyss, 12.3ms\n",
      "image 144/233 d:\\CudaTest\\segmentation\\output_dataset\\test\\images\\20221129_110000_1_4537.png: 384x640 3 Halyomorpha_halyss, 15.6ms\n",
      "image 145/233 d:\\CudaTest\\segmentation\\output_dataset\\test\\images\\20221129_110000_2_6032.png: 384x640 1 Halyomorpha_halys, 23.0ms\n",
      "image 146/233 d:\\CudaTest\\segmentation\\output_dataset\\test\\images\\20221129_110000_2_6942.png: 384x640 3 Halyomorpha_halyss, 15.6ms\n",
      "image 147/233 d:\\CudaTest\\segmentation\\output_dataset\\test\\images\\20221129_110000_3_9690.png: 384x640 1 Halyomorpha_halys, 15.6ms\n",
      "image 148/233 d:\\CudaTest\\segmentation\\output_dataset\\test\\images\\20221129_120000_2_3392.png: 384x640 1 Halyomorpha_halys, 20.3ms\n",
      "image 149/233 d:\\CudaTest\\segmentation\\output_dataset\\test\\images\\20221129_130000_1_8764.png: 384x640 3 Halyomorpha_halyss, 31.2ms\n",
      "image 150/233 d:\\CudaTest\\segmentation\\output_dataset\\test\\images\\20221129_130000_2_3393.png: 384x640 1 Halyomorpha_halys, 19.8ms\n",
      "image 151/233 d:\\CudaTest\\segmentation\\output_dataset\\test\\images\\20221129_130000_2_6034.png: 384x640 1 Halyomorpha_halys, 15.6ms\n",
      "image 152/233 d:\\CudaTest\\segmentation\\output_dataset\\test\\images\\20221129_130000_2_6944.png: 384x640 3 Halyomorpha_halyss, 14.0ms\n",
      "image 153/233 d:\\CudaTest\\segmentation\\output_dataset\\test\\images\\20221129_130000_3_9692.png: 384x640 2 Halyomorpha_halyss, 23.3ms\n",
      "image 154/233 d:\\CudaTest\\segmentation\\output_dataset\\test\\images\\20221129_140000_2_478.png: 384x640 2 Halyomorpha_halyss, 15.6ms\n",
      "image 155/233 d:\\CudaTest\\segmentation\\output_dataset\\test\\images\\20221129_150000_2_479.png: 384x640 2 Halyomorpha_halyss, 25.7ms\n",
      "image 156/233 d:\\CudaTest\\segmentation\\output_dataset\\test\\images\\20221129_150000_3_9694.png: 384x640 1 Halyomorpha_halys, 3.9ms\n",
      "image 157/233 d:\\CudaTest\\segmentation\\output_dataset\\test\\images\\20221129_160000_1_4542.png: 384x640 3 Halyomorpha_halyss, 8.0ms\n",
      "image 158/233 d:\\CudaTest\\segmentation\\output_dataset\\test\\images\\20221129_170000_2_3397.png: 384x640 1 Halyomorpha_halys, 15.6ms\n",
      "image 159/233 d:\\CudaTest\\segmentation\\output_dataset\\test\\images\\20221130_100000_1_8769.png: 384x640 3 Halyomorpha_halyss, 9.1ms\n",
      "image 160/233 d:\\CudaTest\\segmentation\\output_dataset\\test\\images\\20221130_100000_2_4323.png: 384x640 2 Halyomorpha_halyss, 15.6ms\n",
      "image 161/233 d:\\CudaTest\\segmentation\\output_dataset\\test\\images\\20221130_100000_3_5115.png: 384x640 1 Halyomorpha_halys, 15.6ms\n",
      "image 162/233 d:\\CudaTest\\segmentation\\output_dataset\\test\\images\\20221130_100000_3_5579.png: 384x640 2 Halyomorpha_halyss, 15.0ms\n",
      "image 163/233 d:\\CudaTest\\segmentation\\output_dataset\\test\\images\\20221130_110000_2_6950.png: 384x640 3 Halyomorpha_halyss, 15.6ms\n",
      "image 164/233 d:\\CudaTest\\segmentation\\output_dataset\\test\\images\\20221130_120000_1_3864.png: 384x640 3 Halyomorpha_halyss, 24.3ms\n",
      "image 165/233 d:\\CudaTest\\segmentation\\output_dataset\\test\\images\\20221130_120000_1_8771.png: 384x640 3 Halyomorpha_halyss, 15.6ms\n",
      "image 166/233 d:\\CudaTest\\segmentation\\output_dataset\\test\\images\\20221130_140000_1_3866.png: 384x640 3 Halyomorpha_halyss, 15.6ms\n",
      "image 167/233 d:\\CudaTest\\segmentation\\output_dataset\\test\\images\\20221130_140000_2_6953.png: 384x640 3 Halyomorpha_halyss, 27.2ms\n",
      "image 168/233 d:\\CudaTest\\segmentation\\output_dataset\\test\\images\\20221130_140000_2_9237.png: 384x640 1 Halyomorpha_halys, 1 Melanchra_persicariae, 19.9ms\n",
      "image 169/233 d:\\CudaTest\\segmentation\\output_dataset\\test\\images\\20221130_150000_2_3403.png: 384x640 1 Halyomorpha_halys, 1 Melanchra_persicariae, 15.5ms\n",
      "image 170/233 d:\\CudaTest\\segmentation\\output_dataset\\test\\images\\20221130_160000_2_3404.png: 384x640 1 Halyomorpha_halys, 23.6ms\n",
      "image 171/233 d:\\CudaTest\\segmentation\\output_dataset\\test\\images\\20221130_170000_1_13191.png: 384x640 4 Melanchra_persicariaes, 9.4ms\n",
      "image 172/233 d:\\CudaTest\\segmentation\\output_dataset\\test\\images\\20221130_170000_1_4369.png: 384x640 2 Melanchra_persicariaes, 2.8ms\n",
      "image 173/233 d:\\CudaTest\\segmentation\\output_dataset\\test\\images\\20221130_170000_1_8776.png: 384x640 3 Halyomorpha_halyss, 17.9ms\n",
      "image 174/233 d:\\CudaTest\\segmentation\\output_dataset\\test\\images\\20221130_170000_2_3405.png: 384x640 1 Halyomorpha_halys, 25.1ms\n",
      "image 175/233 d:\\CudaTest\\segmentation\\output_dataset\\test\\images\\20221130_170000_2_4330.png: 384x640 2 Halyomorpha_halyss, 15.6ms\n",
      "image 176/233 d:\\CudaTest\\segmentation\\output_dataset\\test\\images\\20221201_100000_2_11519.png: 384x640 3 Melanchra_persicariaes, 25.8ms\n",
      "image 177/233 d:\\CudaTest\\segmentation\\output_dataset\\test\\images\\20221201_110000_3_7505.png: 384x640 1 Melanchra_persicariae, 21.1ms\n",
      "image 178/233 d:\\CudaTest\\segmentation\\output_dataset\\test\\images\\20221201_120000_2_2988.png: 384x640 1 Melanchra_persicariae, 30.5ms\n",
      "image 179/233 d:\\CudaTest\\segmentation\\output_dataset\\test\\images\\20221201_130000_1_11972.png: 384x640 2 Melanchra_persicariaes, 26.1ms\n",
      "image 180/233 d:\\CudaTest\\segmentation\\output_dataset\\test\\images\\20221201_140000_2_3448.png: 384x640 1 Halyomorpha_halys, 2 Melanchra_persicariaes, 15.6ms\n",
      "image 181/233 d:\\CudaTest\\segmentation\\output_dataset\\test\\images\\20221201_140000_3_10641.png: 384x640 1 Halyomorpha_halys, 1 Melanchra_persicariae, 22.0ms\n",
      "image 182/233 d:\\CudaTest\\segmentation\\output_dataset\\test\\images\\20221201_140000_3_7503.png: 384x640 1 Melanchra_persicariae, 24.6ms\n",
      "image 183/233 d:\\CudaTest\\segmentation\\output_dataset\\test\\images\\20221201_150000_1_27.png: 384x640 2 Melanchra_persicariaes, 15.6ms\n",
      "image 184/233 d:\\CudaTest\\segmentation\\output_dataset\\test\\images\\20221201_150000_3_451.png: 384x640 1 Melanchra_persicariae, 15.6ms\n",
      "image 185/233 d:\\CudaTest\\segmentation\\output_dataset\\test\\images\\20221201_170000_3_7881.png: 384x640 4 Melanchra_persicariaes, 28.3ms\n",
      "image 186/233 d:\\CudaTest\\segmentation\\output_dataset\\test\\images\\20221202_100000_1_24.png: 384x640 2 Melanchra_persicariaes, 5.2ms\n",
      "image 187/233 d:\\CudaTest\\segmentation\\output_dataset\\test\\images\\20221202_100000_3_10637.png: 384x640 1 Melanchra_persicariae, 20.0ms\n",
      "image 188/233 d:\\CudaTest\\segmentation\\output_dataset\\test\\images\\20221202_100000_3_5276.png: 384x640 1 Melanchra_persicariae, 20.9ms\n",
      "image 189/233 d:\\CudaTest\\segmentation\\output_dataset\\test\\images\\20221202_100000_3_7879.png: 384x640 3 Melanchra_persicariaes, 15.6ms\n",
      "image 190/233 d:\\CudaTest\\segmentation\\output_dataset\\test\\images\\20221202_110000_1_9707.png: 384x640 2 Melanchra_persicariaes, 22.7ms\n",
      "image 191/233 d:\\CudaTest\\segmentation\\output_dataset\\test\\images\\20221202_110000_2_3442.png: 384x640 2 Melanchra_persicariaes, 27.6ms\n",
      "image 192/233 d:\\CudaTest\\segmentation\\output_dataset\\test\\images\\20221202_110000_2_6187.png: 384x640 2 Melanchra_persicariaes, 15.7ms\n",
      "image 193/233 d:\\CudaTest\\segmentation\\output_dataset\\test\\images\\20221202_110000_3_10636.png: 384x640 1 Halyomorpha_halys, 2 Melanchra_persicariaes, 16.2ms\n",
      "image 194/233 d:\\CudaTest\\segmentation\\output_dataset\\test\\images\\20221202_110000_3_447.png: 384x640 2 Melanchra_persicariaes, 30.8ms\n",
      "image 195/233 d:\\CudaTest\\segmentation\\output_dataset\\test\\images\\20221202_120000_1_11964.png: 384x640 3 Melanchra_persicariaes, 15.6ms\n",
      "image 196/233 d:\\CudaTest\\segmentation\\output_dataset\\test\\images\\20221202_120000_1_9705.png: 384x640 4 Melanchra_persicariaes, 15.6ms\n",
      "image 197/233 d:\\CudaTest\\segmentation\\output_dataset\\test\\images\\20221202_120000_2_2979.png: 384x640 1 Melanchra_persicariae, 15.6ms\n",
      "image 198/233 d:\\CudaTest\\segmentation\\output_dataset\\test\\images\\20221202_120000_3_10635.png: 384x640 1 Melanchra_persicariae, 27.6ms\n",
      "image 199/233 d:\\CudaTest\\segmentation\\output_dataset\\test\\images\\20221202_120000_3_7497.png: 384x640 1 Melanchra_persicariae, 18.8ms\n",
      "image 200/233 d:\\CudaTest\\segmentation\\output_dataset\\test\\images\\20221202_130000_1_4827.png: 384x640 4 Melanchra_persicariaes, 15.6ms\n",
      "image 201/233 d:\\CudaTest\\segmentation\\output_dataset\\test\\images\\20221202_130000_1_9704.png: 384x640 4 Melanchra_persicariaes, 15.6ms\n",
      "image 202/233 d:\\CudaTest\\segmentation\\output_dataset\\test\\images\\20221202_130000_2_11507.png: 384x640 2 Melanchra_persicariaes, 34.1ms\n",
      "image 203/233 d:\\CudaTest\\segmentation\\output_dataset\\test\\images\\20221202_130000_2_12417.png: 384x640 1 Melanchra_persicariae, 31.1ms\n",
      "image 204/233 d:\\CudaTest\\segmentation\\output_dataset\\test\\images\\20221202_140000_1_11962.png: 384x640 3 Melanchra_persicariaes, 15.5ms\n",
      "image 205/233 d:\\CudaTest\\segmentation\\output_dataset\\test\\images\\20221202_140000_2_2977.png: 384x640 1 Melanchra_persicariae, 16.2ms\n",
      "image 206/233 d:\\CudaTest\\segmentation\\output_dataset\\test\\images\\20221202_140000_3_7495.png: 384x640 1 Melanchra_persicariae, 20.4ms\n",
      "image 207/233 d:\\CudaTest\\segmentation\\output_dataset\\test\\images\\20221202_150000_3_5272.png: 384x640 1 Melanchra_persicariae, 8.5ms\n",
      "image 208/233 d:\\CudaTest\\segmentation\\output_dataset\\test\\images\\20221202_150000_3_7874.png: 384x640 4 Melanchra_persicariaes, 21.2ms\n",
      "image 209/233 d:\\CudaTest\\segmentation\\output_dataset\\test\\images\\20221202_160000_2_12414.png: 384x640 1 Halyomorpha_halys, 15.6ms\n",
      "image 210/233 d:\\CudaTest\\segmentation\\output_dataset\\test\\images\\20221202_160000_2_2975.png: 384x640 1 Melanchra_persicariae, 15.6ms\n",
      "image 211/233 d:\\CudaTest\\segmentation\\output_dataset\\test\\images\\20221202_160000_2_6182.png: 384x640 2 Melanchra_persicariaes, 11.5ms\n",
      "image 212/233 d:\\CudaTest\\segmentation\\output_dataset\\test\\images\\20221202_170000_2_11503.png: 384x640 2 Melanchra_persicariaes, 5.5ms\n",
      "image 213/233 d:\\CudaTest\\segmentation\\output_dataset\\test\\images\\20221203_100000_1_9699.png: 384x640 2 Melanchra_persicariaes, 9.0ms\n",
      "image 214/233 d:\\CudaTest\\segmentation\\output_dataset\\test\\images\\20221203_110000_2_6179.png: 384x640 2 Melanchra_persicariaes, 15.6ms\n",
      "image 215/233 d:\\CudaTest\\segmentation\\output_dataset\\test\\images\\20221203_110000_3_439.png: 384x640 2 Melanchra_persicariaes, 16.5ms\n",
      "image 216/233 d:\\CudaTest\\segmentation\\output_dataset\\test\\images\\20221203_120000_1_4820.png: 384x640 3 Melanchra_persicariaes, 15.6ms\n",
      "image 217/233 d:\\CudaTest\\segmentation\\output_dataset\\test\\images\\20221203_120000_2_12410.png: 384x640 1 Melanchra_persicariae, 4.0ms\n",
      "image 218/233 d:\\CudaTest\\segmentation\\output_dataset\\test\\images\\20221203_120000_3_438.png: 384x640 2 Melanchra_persicariaes, 12.0ms\n",
      "image 219/233 d:\\CudaTest\\segmentation\\output_dataset\\test\\images\\20221203_130000_2_12409.png: 384x640 1 Melanchra_persicariae, 7.6ms\n",
      "image 220/233 d:\\CudaTest\\segmentation\\output_dataset\\test\\images\\20221203_140000_3_7487.png: 384x640 2 Melanchra_persicariaes, 15.6ms\n",
      "image 221/233 d:\\CudaTest\\segmentation\\output_dataset\\test\\images\\20221203_150000_2_3430.png: 384x640 2 Melanchra_persicariaes, 22.2ms\n",
      "image 222/233 d:\\CudaTest\\segmentation\\output_dataset\\test\\images\\20221203_150000_3_435.png: 384x640 1 Melanchra_persicariae, 15.6ms\n",
      "image 223/233 d:\\CudaTest\\segmentation\\output_dataset\\test\\images\\20221203_160000_1_4816.png: 384x640 2 Melanchra_persicariaes, 15.6ms\n",
      "image 224/233 d:\\CudaTest\\segmentation\\output_dataset\\test\\images\\20221203_160000_3_434.png: 384x640 3 Melanchra_persicariaes, 15.6ms\n",
      "image 225/233 d:\\CudaTest\\segmentation\\output_dataset\\test\\images\\20221203_170000_1_9692.png: 384x640 2 Melanchra_persicariaes, 20.6ms\n",
      "image 226/233 d:\\CudaTest\\segmentation\\output_dataset\\test\\images\\20221204_100000_1_4814.png: 384x640 4 Melanchra_persicariaes, 16.2ms\n",
      "image 227/233 d:\\CudaTest\\segmentation\\output_dataset\\test\\images\\20221204_110000_2_6171.png: 384x640 2 Melanchra_persicariaes, 15.6ms\n",
      "image 228/233 d:\\CudaTest\\segmentation\\output_dataset\\test\\images\\20221204_120000_2_2963.png: 384x640 1 Melanchra_persicariae, 11.6ms\n",
      "image 229/233 d:\\CudaTest\\segmentation\\output_dataset\\test\\images\\20221204_130000_1_4811.png: 384x640 4 Melanchra_persicariaes, 25.6ms\n",
      "image 230/233 d:\\CudaTest\\segmentation\\output_dataset\\test\\images\\20221204_140000_1_4.png: 384x640 2 Melanchra_persicariaes, 15.6ms\n",
      "image 231/233 d:\\CudaTest\\segmentation\\output_dataset\\test\\images\\20221204_140000_2_6168.png: 384x640 2 Melanchra_persicariaes, 14.8ms\n",
      "image 232/233 d:\\CudaTest\\segmentation\\output_dataset\\test\\images\\20221204_170000_2_6165.png: 384x640 3 Melanchra_persicariaes, 15.6ms\n",
      "image 233/233 d:\\CudaTest\\segmentation\\output_dataset\\test\\images\\20221205_130000_2_2955.png: 384x640 1 Melanchra_persicariae, 15.6ms\n",
      "Speed: 3.6ms preprocess, 21.8ms inference, 7.5ms postprocess per image at shape (1, 3, 384, 640)\n"
     ]
    }
   ],
   "source": [
    "from ultralytics.data.annotator import auto_annotate\n",
    "\n",
    "auto_annotate(\n",
    "    data=\"./output_dataset/test/images\", \n",
    "    det_model=r\"C:\\Users\\admin\\Desktop\\CudaTest\\runs\\detect\\train\\weights\\best.pt\", \n",
    "    sam_model=r\"sam_b.pt\", \n",
    "    output_dir=\"./auto_annotation_test\"\n",
    "    )"
   ]
  },
  {
   "cell_type": "markdown",
   "metadata": {},
   "source": [
    "### Auto Annotation 진행\n",
    "Auto annotation을 진행한 뒤에, 원본 파일들과 비교한다."
   ]
  },
  {
   "cell_type": "code",
   "execution_count": 21,
   "metadata": {},
   "outputs": [],
   "source": [
    "# Auto Annotation 시작\n",
    "label_dir = \"./auto_annotation_test/\"\n",
    "image_dir = \"./output_dataset/test/images/\"\n",
    "image_filenames = os.listdir(image_dir)\n",
    "for filename in image_filenames:\n",
    "    image_extension = filename[filename.rfind(\".\"):]\n",
    "    image_path = os.path.join(image_dir, filename)\n",
    "    image = cv2.imread(image_path)\n",
    "    height, width, _ = image.shape\n",
    "\n",
    "    label_path = os.path.join(label_dir, filename.replace(image_extension, \".txt\"))\n",
    "    with open(label_path, \"r\", encoding=\"utf8\") as txt:\n",
    "        lines = txt.read()\n",
    "    line = lines.split(\"\\n\")\n",
    "    coordinates = [i.split(\" \") for i in line if i != \"\"]\n",
    "    poly_lines = []\n",
    "    for coordinate in coordinates:\n",
    "        points = [float(i) for i in coordinate[1:]]\n",
    "        points_x = [int(points[i]*width) for i in range(0, len(points), 2)]\n",
    "        points_y = [int(points[i]*height) for i in range(1, len(points), 2)]\n",
    "\n",
    "        zipped_point = list(zip(points_x, points_y))\n",
    "        points_list = np.array([list(i) for i in zipped_point], np.int32)\n",
    "\n",
    "        poly_lines.append(points_list)\n",
    "\n",
    "    txt.close()\n",
    "    img = cv2.polylines(image, poly_lines, isClosed=True, color=(0, 255, 0), thickness=4)\n",
    "    cv2.imwrite(f\"./auto_annotation_test/masks/{filename.replace(image_extension, '')}.png\", img)"
   ]
  },
  {
   "cell_type": "code",
   "execution_count": 31,
   "metadata": {},
   "outputs": [],
   "source": [
    "import json\n",
    "\n",
    "# 원본 파일과 비교\n",
    "class_dir = \"./Data/labels/\"\n",
    "image_dir = \"./output_dataset/test/images/\"\n",
    "image_filenames = os.listdir(image_dir)\n",
    "image_extensions = [i[i.rfind(\".\"):] for i in image_filenames]\n",
    "# print(set(image_extensions))  # png 확장자의 이미지만 있음을 확인\n",
    "\n",
    "# 테스트셋은 원천 데이터에서 무작위로 추출된 결과이기에, 작업할 json파일 경로를 따로 저장한다.\n",
    "worklist = []\n",
    "\n",
    "for class_ in os.listdir(class_dir):\n",
    "    label_dir = os.path.join(class_dir, class_)\n",
    "    label_filenames = os.listdir(label_dir)\n",
    "    for filename in label_filenames:\n",
    "        image_filenames_without_extension = [i[:i.rfind(\".\")] for i in image_filenames]\n",
    "        label_filename_without_extension = filename.replace(\".json\", \"\")\n",
    "\n",
    "        if label_filename_without_extension in image_filenames_without_extension:\n",
    "            worklist.append(os.path.join(label_dir, filename))"
   ]
  },
  {
   "cell_type": "code",
   "execution_count": 34,
   "metadata": {},
   "outputs": [
    {
     "data": {
      "text/plain": [
       "(233, 233)"
      ]
     },
     "execution_count": 34,
     "metadata": {},
     "output_type": "execute_result"
    }
   ],
   "source": [
    "len(worklist), len(image_filenames)  # 개수 일치"
   ]
  },
  {
   "cell_type": "code",
   "execution_count": 37,
   "metadata": {},
   "outputs": [],
   "source": [
    "for image_filename, label_filename in zip(image_filenames, worklist):\n",
    "    image_path = os.path.join(image_dir, image_filename)\n",
    "    image = cv2.imread(image_path)\n",
    "\n",
    "    with open(label_filename, \"r\", encoding=\"utf8\") as file:\n",
    "        json_file = json.load(file)\n",
    "    coordinates = json_file[\"Image_Annotation\"][\"Annotations\"]\n",
    "\n",
    "    poly_lines_from_json = []\n",
    "    for coordinate in coordinates:\n",
    "        x_coordinate = coordinate[\"X Coordinate\"]\n",
    "        y_coordinate = coordinate[\"Y Coordinate\"]\n",
    "\n",
    "        zipped_point = list(zip(x_coordinate, y_coordinate))\n",
    "        points_list = np.array([list(i) for i in zipped_point], np.int32)\n",
    "        poly_lines_from_json.append(points_list)\n",
    "\n",
    "    file.close()\n",
    "    img = cv2.polylines(image, poly_lines_from_json, isClosed=True, color=(0, 255, 0), thickness=4)\n",
    "    cv2.imwrite(f\"./auto_annotation_test/masks2/{image_filename}\", img)"
   ]
  },
  {
   "cell_type": "code",
   "execution_count": null,
   "metadata": {},
   "outputs": [],
   "source": []
  }
 ],
 "metadata": {
  "kernelspec": {
   "display_name": "lhw",
   "language": "python",
   "name": "python3"
  },
  "language_info": {
   "codemirror_mode": {
    "name": "ipython",
    "version": 3
   },
   "file_extension": ".py",
   "mimetype": "text/x-python",
   "name": "python",
   "nbconvert_exporter": "python",
   "pygments_lexer": "ipython3",
   "version": "3.9.12"
  }
 },
 "nbformat": 4,
 "nbformat_minor": 2
}
