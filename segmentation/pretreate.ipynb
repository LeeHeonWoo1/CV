{
 "cells": [
  {
   "cell_type": "markdown",
   "metadata": {},
   "source": [
    "## 데이터 구조 변경\n",
    "Mask R-CNN을 Detectron2로 학습하기 위한 데이터 전처리 및 기타 사항들 변경"
   ]
  },
  {
   "cell_type": "code",
   "execution_count": 40,
   "metadata": {},
   "outputs": [],
   "source": [
    "import os\n",
    "import re\n",
    "import json\n",
    "import splitfolders\n",
    "from glob import glob"
   ]
  },
  {
   "cell_type": "code",
   "execution_count": 43,
   "metadata": {},
   "outputs": [],
   "source": [
    "image_path = \"./Data/images/*/*.png\"\n",
    "json_path = \"./Data/labels/*/*.json\"\n",
    "\n",
    "image_filenames = glob(image_path)\n",
    "json_filenames = glob(json_path)\n",
    "\n",
    "# train dataset의 image, label데이터 모두 한글 제거\n",
    "for filename in json_filenames:\n",
    "    renamed = re.sub(\"[^A-Za-z0-9_\\\\\\\\/.]\", \"\", string=filename)\n",
    "    os.rename(filename, renamed)\n",
    "\n",
    "for filename in image_filenames:\n",
    "    renamed = re.sub(\"[^A-Za-z0-9_\\\\\\\\/.]\", \"\", string=filename)\n",
    "    os.rename(filename, renamed)"
   ]
  },
  {
   "cell_type": "code",
   "execution_count": 67,
   "metadata": {},
   "outputs": [],
   "source": [
    "label_dirs = [\"./Data/labels/class1/\", \"./Data/labels/class2/\", \"./Data/labels/class3/\", \"./Data/labels/class4/\"]\n",
    "\n",
    "# json 파일 내부에 있는 파일 이름 교체\n",
    "for label_dir in label_dirs:\n",
    "    for json_file in os.listdir(label_dir):\n",
    "        filename = json_file[:json_file.rfind(\".\")]\n",
    "\n",
    "        with open(label_dir + json_file, \"r\", encoding=\"utf8\") as f:\n",
    "            file = json.load(f)\n",
    "\n",
    "        file[\"Meta\"][\"Image_FileName\"] = f\"{filename}.png\"\n",
    "        file[\"Image_Annotation\"][\"Image File Name\"] = f\"{filename}.png\"\n",
    "\n",
    "        with open(label_dir + json_file, \"w\") as f1:\n",
    "            json.dump(file, f1)\n",
    "        \n",
    "        f.close()\n",
    "        f1.close()"
   ]
  },
  {
   "cell_type": "code",
   "execution_count": 68,
   "metadata": {},
   "outputs": [],
   "source": [
    "# Dataset의 Annotation에 category_id 값 추가\n",
    "for idx, label_dir in enumerate(label_dirs):\n",
    "    for json_file in os.listdir(label_dir):\n",
    "        with open(label_dir + json_file, \"r\", encoding=\"utf8\") as f:\n",
    "            file = json.load(f)\n",
    "        \n",
    "        for values in file[\"Image_Annotation\"][\"Annotations\"]:\n",
    "            values[\"category_id\"] = idx\n",
    "\n",
    "        with open(label_dir + json_file, \"w\") as f1:\n",
    "            json.dump(file, f1)\n",
    "\n",
    "        f.close()\n",
    "        f1.close()"
   ]
  },
  {
   "cell_type": "code",
   "execution_count": 70,
   "metadata": {},
   "outputs": [
    {
     "name": "stderr",
     "output_type": "stream",
     "text": [
      "Copying files: 1571 files [00:16, 95.52 files/s] \n"
     ]
    }
   ],
   "source": [
    "splitfolders.ratio(\"./Data/images/\", \"./Splitted\", seed=11, ratio=(0.7, 0.15, 0.15))"
   ]
  },
  {
   "cell_type": "code",
   "execution_count": 71,
   "metadata": {},
   "outputs": [
    {
     "name": "stderr",
     "output_type": "stream",
     "text": [
      "Copying files: 1571 files [00:10, 146.16 files/s]\n"
     ]
    }
   ],
   "source": [
    "splitfolders.ratio(\"./Data/labels/\", \"./Splitted_labels\", seed=11, ratio=(0.7, 0.15, 0.15))"
   ]
  },
  {
   "cell_type": "code",
   "execution_count": 83,
   "metadata": {},
   "outputs": [
    {
     "name": "stdout",
     "output_type": "stream",
     "text": [
      "No invalid annotations found.\n"
     ]
    }
   ],
   "source": [
    "def find_invalid_annotations(json_folder):\n",
    "    invalid_annotations = []\n",
    "\n",
    "    # JSON 파일을 모두 순회\n",
    "    for filename in os.listdir(json_folder):\n",
    "        if filename.endswith('.json'):\n",
    "            filepath = os.path.join(json_folder, filename)\n",
    "            with open(filepath, 'r') as f:\n",
    "                data = json.load(f)\n",
    "            \n",
    "            # 'Image_Annotation' 섹션 확인\n",
    "            if 'Image_Annotation' in data:\n",
    "                annotations = data['Image_Annotation']['Annotations']\n",
    "                for annotation in annotations:\n",
    "                    # 주석(annotation)이 'polygon' 형식이고, 좌표의 개수가 2개인지 확인\n",
    "                    if annotation['Annotation Type'] == 'polygon' and \\\n",
    "                            len(annotation['X Coordinate']) <= 2:\n",
    "                        invalid_annotations.append((filename, annotation['Annotation ID']))\n",
    "\n",
    "    return invalid_annotations\n",
    "\n",
    "json_folder = './Splitted/train/labels/class3/'\n",
    "\n",
    "invalid_annotations = find_invalid_annotations(json_folder)\n",
    "filelist = []\n",
    "if invalid_annotations:\n",
    "    print(\"Following annotations are invalid:\")\n",
    "    for filename, annotation_id in invalid_annotations:\n",
    "        print(f\"File: {filename}, Invalid Annotation ID: {annotation_id}\")\n",
    "        filelist.append(filename)\n",
    "filenames = [i.replace(\".json\", \"\") for i in filelist]\n",
    "for filename in filenames:\n",
    "    os.remove(f'./Splitted/train/labels/class3/{filename}.json')\n",
    "    os.remove(f'./Splitted/train/images/class3/{filename}.png')"
   ]
  },
  {
   "cell_type": "code",
   "execution_count": 80,
   "metadata": {},
   "outputs": [],
   "source": [
    "filenames = [i.replace(\".json\", \"\") for i in filelist]"
   ]
  },
  {
   "cell_type": "code",
   "execution_count": 82,
   "metadata": {},
   "outputs": [],
   "source": [
    "for filename in filenames:\n",
    "    os.remove(f'./Splitted/train/labels/class3/{filename}.json')\n",
    "    os.remove(f'./Splitted/train/images/class3/{filename}.png')"
   ]
  }
 ],
 "metadata": {
  "kernelspec": {
   "display_name": "test_cuda",
   "language": "python",
   "name": "test_cuda"
  },
  "language_info": {
   "codemirror_mode": {
    "name": "ipython",
    "version": 3
   },
   "file_extension": ".py",
   "mimetype": "text/x-python",
   "name": "python",
   "nbconvert_exporter": "python",
   "pygments_lexer": "ipython3",
   "version": "3.9.12"
  }
 },
 "nbformat": 4,
 "nbformat_minor": 2
}
