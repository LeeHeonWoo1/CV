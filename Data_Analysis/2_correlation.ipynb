{
 "cells": [
  {
   "cell_type": "markdown",
   "metadata": {},
   "source": [
    "### Correlation analysis\n",
    "상관관계를 측정하는 방식에는 여러 방식이 있다.\n",
    "\n",
    "1. 데이터의 유형에 따라 범주형과 연속형의 차이\n",
    "2. 상관관계 정도를 표현하는 데 있어 +부터 -까지의 범위와\n",
    "3. 상관관계의 수준에 따라 범위의 차이가 존재\n",
    "\n",
    "### 피어슨 상관계수(correlation coefficient)\n",
    "피어슨 상관계수는 두 변수가 모두 연속된 값일 때 적용하는 방식이다.\n",
    "\n",
    "다음과 같은 연구 문제가 상관계수 분석에 적합한 의문점이다.\n",
    "- 학교와의 거리가 멀수록 성적이 낮아질까?\n",
    "- 소득수준이 높을수록 비만율이 낮을까?\n",
    "- 인터넷 사용량이 높을수록 행복도는 떨어질까?\n",
    "\n",
    "중요한 점으로는, 위와 같은 적합한 형태라고 하더라도 순위/등급은 피어슨 상관계수를 적용하기엔 적합하지 않다. 이는 스피어먼의 Rho와 깊은 관계가 있다.\n",
    "\n",
    "### 데이터셋 탐색"
   ]
  },
  {
   "cell_type": "code",
   "execution_count": 1,
   "metadata": {},
   "outputs": [
    {
     "data": {
      "text/html": [
       "<div>\n",
       "<style scoped>\n",
       "    .dataframe tbody tr th:only-of-type {\n",
       "        vertical-align: middle;\n",
       "    }\n",
       "\n",
       "    .dataframe tbody tr th {\n",
       "        vertical-align: top;\n",
       "    }\n",
       "\n",
       "    .dataframe thead th {\n",
       "        text-align: right;\n",
       "    }\n",
       "</style>\n",
       "<table border=\"1\" class=\"dataframe\">\n",
       "  <thead>\n",
       "    <tr style=\"text-align: right;\">\n",
       "      <th></th>\n",
       "      <th>Commercial</th>\n",
       "      <th>Sales</th>\n",
       "    </tr>\n",
       "  </thead>\n",
       "  <tbody>\n",
       "    <tr>\n",
       "      <th>0</th>\n",
       "      <td>64.2</td>\n",
       "      <td>154.1</td>\n",
       "    </tr>\n",
       "    <tr>\n",
       "      <th>1</th>\n",
       "      <td>77.7</td>\n",
       "      <td>217.6</td>\n",
       "    </tr>\n",
       "    <tr>\n",
       "      <th>2</th>\n",
       "      <td>77.8</td>\n",
       "      <td>178.9</td>\n",
       "    </tr>\n",
       "    <tr>\n",
       "      <th>3</th>\n",
       "      <td>103.3</td>\n",
       "      <td>309.9</td>\n",
       "    </tr>\n",
       "    <tr>\n",
       "      <th>4</th>\n",
       "      <td>103.9</td>\n",
       "      <td>207.8</td>\n",
       "    </tr>\n",
       "  </tbody>\n",
       "</table>\n",
       "</div>"
      ],
      "text/plain": [
       "   Commercial  Sales\n",
       "0        64.2  154.1\n",
       "1        77.7  217.6\n",
       "2        77.8  178.9\n",
       "3       103.3  309.9\n",
       "4       103.9  207.8"
      ]
     },
     "execution_count": 1,
     "metadata": {},
     "output_type": "execute_result"
    }
   ],
   "source": [
    "import pandas as pd\n",
    "\n",
    "sales = pd.read_csv(\"./Data/sales.csv\")\n",
    "sales.head()"
   ]
  },
  {
   "cell_type": "code",
   "execution_count": 3,
   "metadata": {},
   "outputs": [
    {
     "data": {
      "text/html": [
       "<style type=\"text/css\">\n",
       "#T_e48d0_row0_col0, #T_e48d0_row0_col1, #T_e48d0_row0_col2, #T_e48d0_row0_col3, #T_e48d0_row0_col4, #T_e48d0_row0_col5, #T_e48d0_row0_col6, #T_e48d0_row0_col7, #T_e48d0_row1_col0 {\n",
       "  background-color: #fff7fb;\n",
       "  color: #000000;\n",
       "}\n",
       "#T_e48d0_row1_col1, #T_e48d0_row1_col2, #T_e48d0_row1_col3, #T_e48d0_row1_col4, #T_e48d0_row1_col5, #T_e48d0_row1_col6, #T_e48d0_row1_col7 {\n",
       "  background-color: #023858;\n",
       "  color: #f1f1f1;\n",
       "}\n",
       "</style>\n",
       "<table id=\"T_e48d0\">\n",
       "  <thead>\n",
       "    <tr>\n",
       "      <th class=\"blank level0\" >&nbsp;</th>\n",
       "      <th id=\"T_e48d0_level0_col0\" class=\"col_heading level0 col0\" >count</th>\n",
       "      <th id=\"T_e48d0_level0_col1\" class=\"col_heading level0 col1\" >mean</th>\n",
       "      <th id=\"T_e48d0_level0_col2\" class=\"col_heading level0 col2\" >std</th>\n",
       "      <th id=\"T_e48d0_level0_col3\" class=\"col_heading level0 col3\" >min</th>\n",
       "      <th id=\"T_e48d0_level0_col4\" class=\"col_heading level0 col4\" >25%</th>\n",
       "      <th id=\"T_e48d0_level0_col5\" class=\"col_heading level0 col5\" >50%</th>\n",
       "      <th id=\"T_e48d0_level0_col6\" class=\"col_heading level0 col6\" >75%</th>\n",
       "      <th id=\"T_e48d0_level0_col7\" class=\"col_heading level0 col7\" >max</th>\n",
       "    </tr>\n",
       "  </thead>\n",
       "  <tbody>\n",
       "    <tr>\n",
       "      <th id=\"T_e48d0_level0_row0\" class=\"row_heading level0 row0\" >Commercial</th>\n",
       "      <td id=\"T_e48d0_row0_col0\" class=\"data row0 col0\" >100.000000</td>\n",
       "      <td id=\"T_e48d0_row0_col1\" class=\"data row0 col1\" >81.786000</td>\n",
       "      <td id=\"T_e48d0_row0_col2\" class=\"data row0 col2\" >19.195196</td>\n",
       "      <td id=\"T_e48d0_row0_col3\" class=\"data row0 col3\" >39.800000</td>\n",
       "      <td id=\"T_e48d0_row0_col4\" class=\"data row0 col4\" >66.250000</td>\n",
       "      <td id=\"T_e48d0_row0_col5\" class=\"data row0 col5\" >83.450000</td>\n",
       "      <td id=\"T_e48d0_row0_col6\" class=\"data row0 col6\" >95.825000</td>\n",
       "      <td id=\"T_e48d0_row0_col7\" class=\"data row0 col7\" >126.100000</td>\n",
       "    </tr>\n",
       "    <tr>\n",
       "      <th id=\"T_e48d0_level0_row1\" class=\"row_heading level0 row1\" >Sales</th>\n",
       "      <td id=\"T_e48d0_row1_col0\" class=\"data row1 col0\" >100.000000</td>\n",
       "      <td id=\"T_e48d0_row1_col1\" class=\"data row1 col1\" >207.356000</td>\n",
       "      <td id=\"T_e48d0_row1_col2\" class=\"data row1 col2\" >55.886746</td>\n",
       "      <td id=\"T_e48d0_row1_col3\" class=\"data row1 col3\" >99.500000</td>\n",
       "      <td id=\"T_e48d0_row1_col4\" class=\"data row1 col4\" >165.325000</td>\n",
       "      <td id=\"T_e48d0_row1_col5\" class=\"data row1 col5\" >201.700000</td>\n",
       "      <td id=\"T_e48d0_row1_col6\" class=\"data row1 col6\" >245.825000</td>\n",
       "      <td id=\"T_e48d0_row1_col7\" class=\"data row1 col7\" >346.800000</td>\n",
       "    </tr>\n",
       "  </tbody>\n",
       "</table>\n"
      ],
      "text/plain": [
       "<pandas.io.formats.style.Styler at 0x15a46bbba60>"
      ]
     },
     "execution_count": 3,
     "metadata": {},
     "output_type": "execute_result"
    }
   ],
   "source": [
    "sales.describe().T.style.background_gradient()"
   ]
  },
  {
   "cell_type": "markdown",
   "metadata": {},
   "source": [
    "### 데이터의 분포와 시각화\n"
   ]
  },
  {
   "cell_type": "code",
   "execution_count": 4,
   "metadata": {},
   "outputs": [
    {
     "data": {
      "text/plain": [
       "<Axes: xlabel='Commercial', ylabel='Sales'>"
      ]
     },
     "execution_count": 4,
     "metadata": {},
     "output_type": "execute_result"
    },
    {
     "data": {
      "image/png": "[encoded data removed]",
      "text/plain": [
       "<Figure size 640x480 with 1 Axes>"
      ]
     },
     "metadata": {},
     "output_type": "display_data"
    }
   ],
   "source": [
    "import seaborn as sns\n",
    "\n",
    "sns.scatterplot(data=sales, x=\"Commercial\", y='Sales')"
   ]
  },
  {
   "cell_type": "markdown",
   "metadata": {},
   "source": [
    "양의 상관관계를 가지는 모습을 확인할 수 있다. 이제 이런 관계가 통계적으로 유의한 수준인지 검정한다.\n",
    "\n",
    "### 통계 분석과 정규성 검정\n",
    "피어슨 상관계수의 경우 통계 검정의 조건은\n",
    "1. 각 변수가 연속형일 것\n",
    "2. 정규분포를 이룰 것\n",
    "\n",
    "두 변수가 정규분포인지 확인하기 위해서는 샤피로-윌크 검정을 이용한다."
   ]
  },
  {
   "cell_type": "code",
   "execution_count": 5,
   "metadata": {},
   "outputs": [
    {
     "data": {
      "text/html": [
       "<div>\n",
       "<style scoped>\n",
       "    .dataframe tbody tr th:only-of-type {\n",
       "        vertical-align: middle;\n",
       "    }\n",
       "\n",
       "    .dataframe tbody tr th {\n",
       "        vertical-align: top;\n",
       "    }\n",
       "\n",
       "    .dataframe thead th {\n",
       "        text-align: right;\n",
       "    }\n",
       "</style>\n",
       "<table border=\"1\" class=\"dataframe\">\n",
       "  <thead>\n",
       "    <tr style=\"text-align: right;\">\n",
       "      <th></th>\n",
       "      <th>W</th>\n",
       "      <th>pval</th>\n",
       "      <th>normal</th>\n",
       "    </tr>\n",
       "  </thead>\n",
       "  <tbody>\n",
       "    <tr>\n",
       "      <th>Commercial</th>\n",
       "      <td>0.986</td>\n",
       "      <td>0.376</td>\n",
       "      <td>True</td>\n",
       "    </tr>\n",
       "  </tbody>\n",
       "</table>\n",
       "</div>"
      ],
      "text/plain": [
       "                W   pval  normal\n",
       "Commercial  0.986  0.376    True"
      ]
     },
     "execution_count": 5,
     "metadata": {},
     "output_type": "execute_result"
    }
   ],
   "source": [
    "import pingouin as pg\n",
    "\n",
    "pg.normality(sales[\"Commercial\"]).round(3)"
   ]
  },
  {
   "cell_type": "code",
   "execution_count": 6,
   "metadata": {},
   "outputs": [
    {
     "data": {
      "text/html": [
       "<div>\n",
       "<style scoped>\n",
       "    .dataframe tbody tr th:only-of-type {\n",
       "        vertical-align: middle;\n",
       "    }\n",
       "\n",
       "    .dataframe tbody tr th {\n",
       "        vertical-align: top;\n",
       "    }\n",
       "\n",
       "    .dataframe thead th {\n",
       "        text-align: right;\n",
       "    }\n",
       "</style>\n",
       "<table border=\"1\" class=\"dataframe\">\n",
       "  <thead>\n",
       "    <tr style=\"text-align: right;\">\n",
       "      <th></th>\n",
       "      <th>W</th>\n",
       "      <th>pval</th>\n",
       "      <th>normal</th>\n",
       "    </tr>\n",
       "  </thead>\n",
       "  <tbody>\n",
       "    <tr>\n",
       "      <th>Sales</th>\n",
       "      <td>0.986</td>\n",
       "      <td>0.351</td>\n",
       "      <td>True</td>\n",
       "    </tr>\n",
       "  </tbody>\n",
       "</table>\n",
       "</div>"
      ],
      "text/plain": [
       "           W   pval  normal\n",
       "Sales  0.986  0.351    True"
      ]
     },
     "execution_count": 6,
     "metadata": {},
     "output_type": "execute_result"
    }
   ],
   "source": [
    "pg.normality(sales[\"Sales\"]).round(3)"
   ]
  },
  {
   "cell_type": "markdown",
   "metadata": {},
   "source": [
    "두 컬럼 모두 p-value가 0.05 이상이므로 정규분포를 이루고 있다. 이제 상관관계 분석을 수행할 수 있다."
   ]
  },
  {
   "cell_type": "code",
   "execution_count": 7,
   "metadata": {},
   "outputs": [
    {
     "data": {
      "text/html": [
       "<div>\n",
       "<style scoped>\n",
       "    .dataframe tbody tr th:only-of-type {\n",
       "        vertical-align: middle;\n",
       "    }\n",
       "\n",
       "    .dataframe tbody tr th {\n",
       "        vertical-align: top;\n",
       "    }\n",
       "\n",
       "    .dataframe thead th {\n",
       "        text-align: right;\n",
       "    }\n",
       "</style>\n",
       "<table border=\"1\" class=\"dataframe\">\n",
       "  <thead>\n",
       "    <tr style=\"text-align: right;\">\n",
       "      <th></th>\n",
       "      <th>n</th>\n",
       "      <th>r</th>\n",
       "      <th>CI95%</th>\n",
       "      <th>p-val</th>\n",
       "      <th>BF10</th>\n",
       "      <th>power</th>\n",
       "    </tr>\n",
       "  </thead>\n",
       "  <tbody>\n",
       "    <tr>\n",
       "      <th>pearson</th>\n",
       "      <td>100</td>\n",
       "      <td>0.876</td>\n",
       "      <td>[0.82, 0.91]</td>\n",
       "      <td>0.0</td>\n",
       "      <td>2.752e+29</td>\n",
       "      <td>1.0</td>\n",
       "    </tr>\n",
       "  </tbody>\n",
       "</table>\n",
       "</div>"
      ],
      "text/plain": [
       "           n      r         CI95%  p-val       BF10  power\n",
       "pearson  100  0.876  [0.82, 0.91]    0.0  2.752e+29    1.0"
      ]
     },
     "execution_count": 7,
     "metadata": {},
     "output_type": "execute_result"
    }
   ],
   "source": [
    "pg.corr(sales[\"Sales\"], sales[\"Commercial\"]).round(3)"
   ]
  },
  {
   "cell_type": "markdown",
   "metadata": {},
   "source": [
    "검정 결과에 따라 p-value가 0.05보다 작기 때문에 귀무가설을 기각하고 대립가설(서로 상관관계가 존재한다.)을 채택한다.\n",
    "\n",
    "r에 해당하는 부분이 상관계수인데, 0.876으로 조금은 높은 수준이다.\n",
    "\n",
    "### 서열형 변수의 상관관계 분석\n",
    "서열형 변수는 말 그대로 \"순서\"를 기록한 숫자라고 볼 수 있다. 예를 들면 10대에서 20대까지를 1, 30대부터 40대까지를 2 등으로 나누는 행위를 말한다.\n",
    "\n",
    "이렇게 나눌 경우 연속형 변수와 비교하여 자료의 해상도가 떨어질 수 있지만, 큰 범위의 값을 축소된 범위 단위로 요약해서 확인할 수 있는 장점을 갖게된다."
   ]
  },
  {
   "cell_type": "code",
   "execution_count": 8,
   "metadata": {},
   "outputs": [
    {
     "data": {
      "text/html": [
       "<div>\n",
       "<style scoped>\n",
       "    .dataframe tbody tr th:only-of-type {\n",
       "        vertical-align: middle;\n",
       "    }\n",
       "\n",
       "    .dataframe tbody tr th {\n",
       "        vertical-align: top;\n",
       "    }\n",
       "\n",
       "    .dataframe thead th {\n",
       "        text-align: right;\n",
       "    }\n",
       "</style>\n",
       "<table border=\"1\" class=\"dataframe\">\n",
       "  <thead>\n",
       "    <tr style=\"text-align: right;\">\n",
       "      <th></th>\n",
       "      <th>Income</th>\n",
       "      <th>Hobby</th>\n",
       "    </tr>\n",
       "  </thead>\n",
       "  <tbody>\n",
       "    <tr>\n",
       "      <th>0</th>\n",
       "      <td>4</td>\n",
       "      <td>3</td>\n",
       "    </tr>\n",
       "    <tr>\n",
       "      <th>1</th>\n",
       "      <td>5</td>\n",
       "      <td>4</td>\n",
       "    </tr>\n",
       "    <tr>\n",
       "      <th>2</th>\n",
       "      <td>1</td>\n",
       "      <td>1</td>\n",
       "    </tr>\n",
       "    <tr>\n",
       "      <th>3</th>\n",
       "      <td>2</td>\n",
       "      <td>2</td>\n",
       "    </tr>\n",
       "    <tr>\n",
       "      <th>4</th>\n",
       "      <td>5</td>\n",
       "      <td>5</td>\n",
       "    </tr>\n",
       "  </tbody>\n",
       "</table>\n",
       "</div>"
      ],
      "text/plain": [
       "   Income  Hobby\n",
       "0       4      3\n",
       "1       5      4\n",
       "2       1      1\n",
       "3       2      2\n",
       "4       5      5"
      ]
     },
     "execution_count": 8,
     "metadata": {},
     "output_type": "execute_result"
    }
   ],
   "source": [
    "times = pd.read_csv(\"./Data/times.csv\")\n",
    "times.head()"
   ]
  },
  {
   "cell_type": "markdown",
   "metadata": {},
   "source": [
    "소득 수준이나, 취미 시간의 경우 모두 등급으로 나눠져 있어 연속형으로 보기 쉽지만 실제로는 \"서로 나눠진 수준\"을 갖고 있다."
   ]
  },
  {
   "cell_type": "code",
   "execution_count": 9,
   "metadata": {},
   "outputs": [
    {
     "data": {
      "text/html": [
       "<div>\n",
       "<style scoped>\n",
       "    .dataframe tbody tr th:only-of-type {\n",
       "        vertical-align: middle;\n",
       "    }\n",
       "\n",
       "    .dataframe tbody tr th {\n",
       "        vertical-align: top;\n",
       "    }\n",
       "\n",
       "    .dataframe thead th {\n",
       "        text-align: right;\n",
       "    }\n",
       "</style>\n",
       "<table border=\"1\" class=\"dataframe\">\n",
       "  <thead>\n",
       "    <tr style=\"text-align: right;\">\n",
       "      <th></th>\n",
       "      <th>Income</th>\n",
       "      <th>Hobby</th>\n",
       "    </tr>\n",
       "  </thead>\n",
       "  <tbody>\n",
       "    <tr>\n",
       "      <th>count</th>\n",
       "      <td>200.000000</td>\n",
       "      <td>200.000000</td>\n",
       "    </tr>\n",
       "    <tr>\n",
       "      <th>mean</th>\n",
       "      <td>3.240000</td>\n",
       "      <td>3.040000</td>\n",
       "    </tr>\n",
       "    <tr>\n",
       "      <th>std</th>\n",
       "      <td>1.477605</td>\n",
       "      <td>1.294907</td>\n",
       "    </tr>\n",
       "    <tr>\n",
       "      <th>min</th>\n",
       "      <td>1.000000</td>\n",
       "      <td>1.000000</td>\n",
       "    </tr>\n",
       "    <tr>\n",
       "      <th>25%</th>\n",
       "      <td>2.000000</td>\n",
       "      <td>2.000000</td>\n",
       "    </tr>\n",
       "    <tr>\n",
       "      <th>50%</th>\n",
       "      <td>3.500000</td>\n",
       "      <td>3.000000</td>\n",
       "    </tr>\n",
       "    <tr>\n",
       "      <th>75%</th>\n",
       "      <td>5.000000</td>\n",
       "      <td>4.000000</td>\n",
       "    </tr>\n",
       "    <tr>\n",
       "      <th>max</th>\n",
       "      <td>5.000000</td>\n",
       "      <td>5.000000</td>\n",
       "    </tr>\n",
       "  </tbody>\n",
       "</table>\n",
       "</div>"
      ],
      "text/plain": [
       "           Income       Hobby\n",
       "count  200.000000  200.000000\n",
       "mean     3.240000    3.040000\n",
       "std      1.477605    1.294907\n",
       "min      1.000000    1.000000\n",
       "25%      2.000000    2.000000\n",
       "50%      3.500000    3.000000\n",
       "75%      5.000000    4.000000\n",
       "max      5.000000    5.000000"
      ]
     },
     "execution_count": 9,
     "metadata": {},
     "output_type": "execute_result"
    }
   ],
   "source": [
    "times.describe()"
   ]
  },
  {
   "cell_type": "markdown",
   "metadata": {},
   "source": [
    "사실 등급에 3.24 등급이라거나, 3.04등급은 없다. 따라서 이런 형상의 데이터는 `value_counts()`를 활용한다."
   ]
  },
  {
   "cell_type": "code",
   "execution_count": 11,
   "metadata": {},
   "outputs": [
    {
     "data": {
      "text/plain": [
       "Income\n",
       "5    56\n",
       "4    44\n",
       "2    38\n",
       "1    35\n",
       "3    27\n",
       "Name: count, dtype: int64"
      ]
     },
     "execution_count": 11,
     "metadata": {},
     "output_type": "execute_result"
    }
   ],
   "source": [
    "times[\"Income\"].value_counts()"
   ]
  },
  {
   "cell_type": "code",
   "execution_count": 12,
   "metadata": {},
   "outputs": [
    {
     "data": {
      "text/plain": [
       "Hobby\n",
       "3    67\n",
       "5    36\n",
       "2    34\n",
       "4    32\n",
       "1    31\n",
       "Name: count, dtype: int64"
      ]
     },
     "execution_count": 12,
     "metadata": {},
     "output_type": "execute_result"
    }
   ],
   "source": [
    "times[\"Hobby\"].value_counts()"
   ]
  },
  {
   "cell_type": "code",
   "execution_count": 16,
   "metadata": {},
   "outputs": [
    {
     "data": {
      "text/plain": [
       "<Axes: xlabel='Income', ylabel='Hobby'>"
      ]
     },
     "execution_count": 16,
     "metadata": {},
     "output_type": "execute_result"
    },
    {
     "data": {
      "image/png": "[encoded data removed]",
      "text/plain": [
       "<Figure size 640x480 with 1 Axes>"
      ]
     },
     "metadata": {},
     "output_type": "display_data"
    }
   ],
   "source": [
    "sns.scatterplot(x = \"Income\", y=\"Hobby\", data=times)"
   ]
  },
  {
   "cell_type": "markdown",
   "metadata": {},
   "source": [
    "산포도는 일정한 경향성을 보여주지만, 연속형 변수처럼 각각의 특성을 해석하기 어렵다. 각 값이 실제 값이 아닌 등급을 포함하고 있기 때문이다.\n",
    "\n",
    "그렇기에, 등급별 데이터의 경우 히스토그램 등 유저가 원하는 방향의 추가적 해석을 수행할 필요가 있다.\n"
   ]
  },
  {
   "cell_type": "code",
   "execution_count": 17,
   "metadata": {},
   "outputs": [
    {
     "data": {
      "text/plain": [
       "<seaborn.axisgrid.FacetGrid at 0x15a6b12ed60>"
      ]
     },
     "execution_count": 17,
     "metadata": {},
     "output_type": "execute_result"
    },
    {
     "data": {
      "image/png": "[encoded data removed]",
      "text/plain": [
       "<Figure size 500x500 with 1 Axes>"
      ]
     },
     "metadata": {},
     "output_type": "display_data"
    }
   ],
   "source": [
    "sns.displot(times[\"Income\"], kde=True)"
   ]
  },
  {
   "cell_type": "code",
   "execution_count": 18,
   "metadata": {},
   "outputs": [
    {
     "data": {
      "text/plain": [
       "<seaborn.axisgrid.FacetGrid at 0x15a6bba6640>"
      ]
     },
     "execution_count": 18,
     "metadata": {},
     "output_type": "execute_result"
    },
    {
     "data": {
      "image/png": "[encoded data removed]",
      "text/plain": [
       "<Figure size 500x500 with 1 Axes>"
      ]
     },
     "metadata": {},
     "output_type": "display_data"
    }
   ],
   "source": [
    "sns.displot(times[\"Hobby\"], kde=True)"
   ]
  },
  {
   "cell_type": "markdown",
   "metadata": {},
   "source": [
    "### 비모수 검정의 조건\n",
    "모수 검정은 기본적으로 데이터가 \"특정 조건(ex. 정규분포)\"등을 만족해야 사용할 수 있는 분석이다. 반대로, 비모수 검정은 \"등급 데이터\"와 같이 연속되지 않은 데이터에서의 검정에서 사용할 수 있다.\n",
    "\n",
    "이 경우, 요구 조건이 사라지게 된다. 이러한 부분은 장점이라고 생각할 수 있겠지만, 강력한 통계 검정력을 얻기 어렵다는 단점이 있다.\n",
    "\n",
    "### 스피어만의 $\\rho$와 켄달의 $\\tau$\n",
    "데이터에 대한 관점의 차이로 서열형 변수의 상관관계에는 두 가지 방식을 같이 사용하는 경우가 일반적이다.\n",
    "\n",
    "두 검정 방식을 모두 사용한다."
   ]
  },
  {
   "cell_type": "code",
   "execution_count": 19,
   "metadata": {},
   "outputs": [
    {
     "data": {
      "text/html": [
       "<div>\n",
       "<style scoped>\n",
       "    .dataframe tbody tr th:only-of-type {\n",
       "        vertical-align: middle;\n",
       "    }\n",
       "\n",
       "    .dataframe tbody tr th {\n",
       "        vertical-align: top;\n",
       "    }\n",
       "\n",
       "    .dataframe thead th {\n",
       "        text-align: right;\n",
       "    }\n",
       "</style>\n",
       "<table border=\"1\" class=\"dataframe\">\n",
       "  <thead>\n",
       "    <tr style=\"text-align: right;\">\n",
       "      <th></th>\n",
       "      <th>n</th>\n",
       "      <th>r</th>\n",
       "      <th>CI95%</th>\n",
       "      <th>p-val</th>\n",
       "      <th>power</th>\n",
       "    </tr>\n",
       "  </thead>\n",
       "  <tbody>\n",
       "    <tr>\n",
       "      <th>spearman</th>\n",
       "      <td>200</td>\n",
       "      <td>0.71138</td>\n",
       "      <td>[0.64, 0.77]</td>\n",
       "      <td>3.736196e-32</td>\n",
       "      <td>1.0</td>\n",
       "    </tr>\n",
       "  </tbody>\n",
       "</table>\n",
       "</div>"
      ],
      "text/plain": [
       "            n        r         CI95%         p-val  power\n",
       "spearman  200  0.71138  [0.64, 0.77]  3.736196e-32    1.0"
      ]
     },
     "execution_count": 19,
     "metadata": {},
     "output_type": "execute_result"
    }
   ],
   "source": [
    "pg.corr(times[\"Income\"], times[\"Hobby\"], method=\"spearman\")"
   ]
  },
  {
   "cell_type": "code",
   "execution_count": 20,
   "metadata": {},
   "outputs": [
    {
     "data": {
      "text/html": [
       "<div>\n",
       "<style scoped>\n",
       "    .dataframe tbody tr th:only-of-type {\n",
       "        vertical-align: middle;\n",
       "    }\n",
       "\n",
       "    .dataframe tbody tr th {\n",
       "        vertical-align: top;\n",
       "    }\n",
       "\n",
       "    .dataframe thead th {\n",
       "        text-align: right;\n",
       "    }\n",
       "</style>\n",
       "<table border=\"1\" class=\"dataframe\">\n",
       "  <thead>\n",
       "    <tr style=\"text-align: right;\">\n",
       "      <th></th>\n",
       "      <th>n</th>\n",
       "      <th>r</th>\n",
       "      <th>CI95%</th>\n",
       "      <th>p-val</th>\n",
       "      <th>power</th>\n",
       "    </tr>\n",
       "  </thead>\n",
       "  <tbody>\n",
       "    <tr>\n",
       "      <th>kendall</th>\n",
       "      <td>200</td>\n",
       "      <td>0.578509</td>\n",
       "      <td>[0.48, 0.66]</td>\n",
       "      <td>5.588975e-24</td>\n",
       "      <td>1.0</td>\n",
       "    </tr>\n",
       "  </tbody>\n",
       "</table>\n",
       "</div>"
      ],
      "text/plain": [
       "           n         r         CI95%         p-val  power\n",
       "kendall  200  0.578509  [0.48, 0.66]  5.588975e-24    1.0"
      ]
     },
     "execution_count": 20,
     "metadata": {},
     "output_type": "execute_result"
    }
   ],
   "source": [
    "pg.corr(times[\"Income\"], times[\"Hobby\"], method=\"kendall\")"
   ]
  },
  {
   "cell_type": "markdown",
   "metadata": {},
   "source": [
    "두 검정 모두 p-value가 0.05보다 작기 때문에 검정 값이 유의하다고 할 수 있다."
   ]
  }
 ],
 "metadata": {
  "kernelspec": {
   "display_name": "test_cuda",
   "language": "python",
   "name": "test_cuda"
  },
  "language_info": {
   "codemirror_mode": {
    "name": "ipython",
    "version": 3
   },
   "file_extension": ".py",
   "mimetype": "text/x-python",
   "name": "python",
   "nbconvert_exporter": "python",
   "pygments_lexer": "ipython3",
   "version": "3.9.12"
  }
 },
 "nbformat": 4,
 "nbformat_minor": 2
}
