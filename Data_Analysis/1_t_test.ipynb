{
 "cells": [
  {
   "cell_type": "markdown",
   "metadata": {},
   "source": [
    "### T-test\n",
    "T-test는 t분포를 활용한 검정 방식이다. 흔히, \"광고를 본 그룹과 보지 않은 그룹 사이의 커피 맛 만족도는 다를 것이다.\" 같이 서로 다른(독립인) 두 그룹의 차이를 볼 때 사용하지만(Independent t-test : 독립표본 t검정), 그 외로 \n",
    "\n",
    "\"커피에 대한 만족도 평균이 ~과 같은가?\" (one-sample t-test : 단일표본 t검정)<br>\n",
    "\"커피를 마시기 전과 후에 업무수행 능력 차이가 보이는가?\" (Paired t-test, 대응 표본 t 검정)\n",
    "\n",
    "과 같이 t-분포에 기반한 여러 검증이 가능하다.\n",
    "\n",
    "### Load Dataset, Technical Analysis\n",
    "통계 분석 전에는 항상 데이터에 대한 기술적 분석을 해야 한다. 데이터의 특징을 파악하는 것에서 부터 이상치나 결측치에 대한 대처도 해야하기 때문이다.\n",
    "\n",
    "지금부터 사용할 데이터는 \"학습 방법(A그룹, B그룹)에 따른 시험 성적의 차이가 유의한가?\"를 분석한 결과이다. (대응표본 t검정)"
   ]
  },
  {
   "cell_type": "code",
   "execution_count": 2,
   "metadata": {},
   "outputs": [
    {
     "data": {
      "text/html": [
       "<div>\n",
       "<style scoped>\n",
       "    .dataframe tbody tr th:only-of-type {\n",
       "        vertical-align: middle;\n",
       "    }\n",
       "\n",
       "    .dataframe tbody tr th {\n",
       "        vertical-align: top;\n",
       "    }\n",
       "\n",
       "    .dataframe thead th {\n",
       "        text-align: right;\n",
       "    }\n",
       "</style>\n",
       "<table border=\"1\" class=\"dataframe\">\n",
       "  <thead>\n",
       "    <tr style=\"text-align: right;\">\n",
       "      <th></th>\n",
       "      <th>Student_ID</th>\n",
       "      <th>Class</th>\n",
       "      <th>Score</th>\n",
       "    </tr>\n",
       "  </thead>\n",
       "  <tbody>\n",
       "    <tr>\n",
       "      <th>0</th>\n",
       "      <td>ID_1</td>\n",
       "      <td>A</td>\n",
       "      <td>79</td>\n",
       "    </tr>\n",
       "    <tr>\n",
       "      <th>1</th>\n",
       "      <td>ID_2</td>\n",
       "      <td>A</td>\n",
       "      <td>85</td>\n",
       "    </tr>\n",
       "    <tr>\n",
       "      <th>2</th>\n",
       "      <td>ID_3</td>\n",
       "      <td>A</td>\n",
       "      <td>77</td>\n",
       "    </tr>\n",
       "    <tr>\n",
       "      <th>3</th>\n",
       "      <td>ID_4</td>\n",
       "      <td>A</td>\n",
       "      <td>83</td>\n",
       "    </tr>\n",
       "    <tr>\n",
       "      <th>4</th>\n",
       "      <td>ID_5</td>\n",
       "      <td>A</td>\n",
       "      <td>70</td>\n",
       "    </tr>\n",
       "  </tbody>\n",
       "</table>\n",
       "</div>"
      ],
      "text/plain": [
       "  Student_ID Class  Score\n",
       "0       ID_1     A     79\n",
       "1       ID_2     A     85\n",
       "2       ID_3     A     77\n",
       "3       ID_4     A     83\n",
       "4       ID_5     A     70"
      ]
     },
     "execution_count": 2,
     "metadata": {},
     "output_type": "execute_result"
    }
   ],
   "source": [
    "import pandas as pd\n",
    "\n",
    "df = pd.read_csv(\"./Data/test.csv\")\n",
    "df.head()"
   ]
  },
  {
   "cell_type": "markdown",
   "metadata": {},
   "source": [
    "그룹을 분할해서 데이터를 확인한다."
   ]
  },
  {
   "cell_type": "code",
   "execution_count": 4,
   "metadata": {},
   "outputs": [
    {
     "name": "stdout",
     "output_type": "stream",
     "text": [
      "A그룹의 요약 통계량 : \n",
      "            Score\n",
      "count  25.000000\n",
      "mean   75.560000\n",
      "std     6.988562\n",
      "min    66.000000\n",
      "25%    70.000000\n",
      "50%    76.000000\n",
      "75%    79.000000\n",
      "max    88.000000\n",
      "\n",
      "B그룹의 요약 통계량 : \n",
      "            Score\n",
      "count  25.000000\n",
      "mean   81.360000\n",
      "std     7.393015\n",
      "min    70.000000\n",
      "25%    74.000000\n",
      "50%    83.000000\n",
      "75%    85.000000\n",
      "max    94.000000\n"
     ]
    }
   ],
   "source": [
    "class_a = df.loc[df['Class']==\"A\"].reset_index(drop=True)\n",
    "class_b = df.loc[df['Class']==\"B\"].reset_index(drop=True)\n",
    "\n",
    "# 각 데이터셋의 요약통계량 확인\n",
    "print(f\"A그룹의 요약 통계량 : \\n {class_a.describe()}\\n\" )\n",
    "print(f\"B그룹의 요약 통계량 : \\n {class_b.describe()}\" )"
   ]
  },
  {
   "cell_type": "markdown",
   "metadata": {},
   "source": [
    "B그룹의 성적이 더 높은것으로 확인된다. 박스플롯을 그려 모르는 문제가 있는지 확인한다."
   ]
  },
  {
   "cell_type": "code",
   "execution_count": 7,
   "metadata": {},
   "outputs": [
    {
     "data": {
      "text/plain": [
       "<Axes: xlabel='Class', ylabel='Score'>"
      ]
     },
     "execution_count": 7,
     "metadata": {},
     "output_type": "execute_result"
    },
    {
     "data": {
      "image/png": "[encoded data removed]",
      "text/plain": [
       "<Figure size 640x480 with 1 Axes>"
      ]
     },
     "metadata": {},
     "output_type": "display_data"
    }
   ],
   "source": [
    "import seaborn as sns\n",
    "\n",
    "sns.boxplot(x=\"Class\", y=\"Score\", data=df, hue=\"Class\")"
   ]
  },
  {
   "cell_type": "markdown",
   "metadata": {},
   "source": [
    "이러한 차이가 **유의미한** 통계적 차이일지 확인한다\n",
    "\n",
    "### T-Test 수행\n",
    "각 그룹의 성적과, 보정 여부를 설정한 후 t-test를 수행한다."
   ]
  },
  {
   "cell_type": "code",
   "execution_count": 8,
   "metadata": {},
   "outputs": [
    {
     "data": {
      "text/html": [
       "<div>\n",
       "<style scoped>\n",
       "    .dataframe tbody tr th:only-of-type {\n",
       "        vertical-align: middle;\n",
       "    }\n",
       "\n",
       "    .dataframe tbody tr th {\n",
       "        vertical-align: top;\n",
       "    }\n",
       "\n",
       "    .dataframe thead th {\n",
       "        text-align: right;\n",
       "    }\n",
       "</style>\n",
       "<table border=\"1\" class=\"dataframe\">\n",
       "  <thead>\n",
       "    <tr style=\"text-align: right;\">\n",
       "      <th></th>\n",
       "      <th>T</th>\n",
       "      <th>dof</th>\n",
       "      <th>alternative</th>\n",
       "      <th>p-val</th>\n",
       "      <th>CI95%</th>\n",
       "      <th>cohen-d</th>\n",
       "      <th>BF10</th>\n",
       "      <th>power</th>\n",
       "    </tr>\n",
       "  </thead>\n",
       "  <tbody>\n",
       "    <tr>\n",
       "      <th>T-test</th>\n",
       "      <td>-2.85059</td>\n",
       "      <td>48</td>\n",
       "      <td>two-sided</td>\n",
       "      <td>0.006414</td>\n",
       "      <td>[-9.89, -1.71]</td>\n",
       "      <td>0.806269</td>\n",
       "      <td>6.862</td>\n",
       "      <td>0.797627</td>\n",
       "    </tr>\n",
       "  </tbody>\n",
       "</table>\n",
       "</div>"
      ],
      "text/plain": [
       "              T  dof alternative     p-val           CI95%   cohen-d   BF10  \\\n",
       "T-test -2.85059   48   two-sided  0.006414  [-9.89, -1.71]  0.806269  6.862   \n",
       "\n",
       "           power  \n",
       "T-test  0.797627  "
      ]
     },
     "execution_count": 8,
     "metadata": {},
     "output_type": "execute_result"
    }
   ],
   "source": [
    "import pingouin as pg\n",
    "\n",
    "pg.ttest(class_a[\"Score\"], class_b['Score'], correction='auto')"
   ]
  },
  {
   "cell_type": "markdown",
   "metadata": {},
   "source": [
    "|컬럼명|설명|\n",
    "|---|---|\n",
    "|T|T값|\n",
    "|dof|자유도|\n",
    "|alternative|통계 분석 방법|\n",
    "|p-val|p값(0.05보다 작을 경우 일반적으로, 통계적으로 유의하다고 본다.)|\n",
    "|CI|신뢰구간 (p값을 보완하는 통계값, 보고서에 따라 같이 제공할 필요 있음)|\n",
    "\n",
    "p-value가 0.05보다 훨씬 작기 때문에 두 그룹 사이의 점수 차이가 유의미하다고 볼 수 있다.\n",
    "\n",
    "### t-test지만, 조건이 다른 두 검정(단일표본) 방식\n",
    "단일표본 t검정은 t분포를 쓴다는 점에서 다른 t검정과 같이 묶이지만 다른 접근 방식을 갖고 있다. 이름에서 확인되듯(단일표본, 1-sample) *\"두 집단 대신 하나의 집단을 분석할 때\"* 사용되기 때문이다.\n",
    "\n",
    "단일표본 검정은 하나의 집단(데이터)에서 특정값이 갖는 위치를 확인하는 데 사용한다.\n",
    "\n",
    "> ex. 전 국민을 대상으로 스트레스 지수를 측정했을 때, 스트레스 지수의 평균값이 50<> 이라고 보도되었다. 학생 1000명을 대상으로 스트레스 측정을 진행했을 때, 학생들이 평균보다 더 높더나 낮은 스트레스를 받는지 알 수 있을까?\n",
    "\n",
    "이와 같은 문제가 주어지면 연구원들은\n",
    "\n",
    "> 학생들의 스트레스 평균이 50과 통계적으로 차이가 없다는 생각을 귀무가설 <br> 학생들의 스트레스 평균이 50과 통계적으로 차이가 있다는 생각을 대립가설\n",
    "\n",
    "로 설정하여, t분포를 통해 검정하는 방법을 취한다."
   ]
  },
  {
   "cell_type": "code",
   "execution_count": 9,
   "metadata": {},
   "outputs": [
    {
     "data": {
      "text/html": [
       "<div>\n",
       "<style scoped>\n",
       "    .dataframe tbody tr th:only-of-type {\n",
       "        vertical-align: middle;\n",
       "    }\n",
       "\n",
       "    .dataframe tbody tr th {\n",
       "        vertical-align: top;\n",
       "    }\n",
       "\n",
       "    .dataframe thead th {\n",
       "        text-align: right;\n",
       "    }\n",
       "</style>\n",
       "<table border=\"1\" class=\"dataframe\">\n",
       "  <thead>\n",
       "    <tr style=\"text-align: right;\">\n",
       "      <th></th>\n",
       "      <th>Student_ID</th>\n",
       "      <th>Stress</th>\n",
       "    </tr>\n",
       "  </thead>\n",
       "  <tbody>\n",
       "    <tr>\n",
       "      <th>0</th>\n",
       "      <td>ID_1</td>\n",
       "      <td>61</td>\n",
       "    </tr>\n",
       "    <tr>\n",
       "      <th>1</th>\n",
       "      <td>ID_2</td>\n",
       "      <td>63</td>\n",
       "    </tr>\n",
       "    <tr>\n",
       "      <th>2</th>\n",
       "      <td>ID_3</td>\n",
       "      <td>77</td>\n",
       "    </tr>\n",
       "    <tr>\n",
       "      <th>3</th>\n",
       "      <td>ID_4</td>\n",
       "      <td>76</td>\n",
       "    </tr>\n",
       "    <tr>\n",
       "      <th>4</th>\n",
       "      <td>ID_5</td>\n",
       "      <td>72</td>\n",
       "    </tr>\n",
       "  </tbody>\n",
       "</table>\n",
       "</div>"
      ],
      "text/plain": [
       "  Student_ID  Stress\n",
       "0       ID_1      61\n",
       "1       ID_2      63\n",
       "2       ID_3      77\n",
       "3       ID_4      76\n",
       "4       ID_5      72"
      ]
     },
     "execution_count": 9,
     "metadata": {},
     "output_type": "execute_result"
    }
   ],
   "source": [
    "survey = pd.read_csv(\"./Data/stress.csv\")\n",
    "survey.head()"
   ]
  },
  {
   "cell_type": "markdown",
   "metadata": {},
   "source": [
    "결측치, 이상치 확인을 위한 기술 분석"
   ]
  },
  {
   "cell_type": "code",
   "execution_count": 11,
   "metadata": {},
   "outputs": [
    {
     "data": {
      "text/html": [
       "<style type=\"text/css\">\n",
       "#T_5d83d_row0_col0, #T_5d83d_row0_col1, #T_5d83d_row0_col2, #T_5d83d_row0_col3, #T_5d83d_row0_col4, #T_5d83d_row0_col5, #T_5d83d_row0_col6, #T_5d83d_row0_col7 {\n",
       "  background-color: #fff7fb;\n",
       "  color: #000000;\n",
       "}\n",
       "</style>\n",
       "<table id=\"T_5d83d\">\n",
       "  <thead>\n",
       "    <tr>\n",
       "      <th class=\"blank level0\" >&nbsp;</th>\n",
       "      <th id=\"T_5d83d_level0_col0\" class=\"col_heading level0 col0\" >count</th>\n",
       "      <th id=\"T_5d83d_level0_col1\" class=\"col_heading level0 col1\" >mean</th>\n",
       "      <th id=\"T_5d83d_level0_col2\" class=\"col_heading level0 col2\" >std</th>\n",
       "      <th id=\"T_5d83d_level0_col3\" class=\"col_heading level0 col3\" >min</th>\n",
       "      <th id=\"T_5d83d_level0_col4\" class=\"col_heading level0 col4\" >25%</th>\n",
       "      <th id=\"T_5d83d_level0_col5\" class=\"col_heading level0 col5\" >50%</th>\n",
       "      <th id=\"T_5d83d_level0_col6\" class=\"col_heading level0 col6\" >75%</th>\n",
       "      <th id=\"T_5d83d_level0_col7\" class=\"col_heading level0 col7\" >max</th>\n",
       "    </tr>\n",
       "  </thead>\n",
       "  <tbody>\n",
       "    <tr>\n",
       "      <th id=\"T_5d83d_level0_row0\" class=\"row_heading level0 row0\" >Stress</th>\n",
       "      <td id=\"T_5d83d_row0_col0\" class=\"data row0 col0\" >1000.000000</td>\n",
       "      <td id=\"T_5d83d_row0_col1\" class=\"data row0 col1\" >65.054000</td>\n",
       "      <td id=\"T_5d83d_row0_col2\" class=\"data row0 col2\" >10.299085</td>\n",
       "      <td id=\"T_5d83d_row0_col3\" class=\"data row0 col3\" >33.000000</td>\n",
       "      <td id=\"T_5d83d_row0_col4\" class=\"data row0 col4\" >58.000000</td>\n",
       "      <td id=\"T_5d83d_row0_col5\" class=\"data row0 col5\" >65.000000</td>\n",
       "      <td id=\"T_5d83d_row0_col6\" class=\"data row0 col6\" >71.000000</td>\n",
       "      <td id=\"T_5d83d_row0_col7\" class=\"data row0 col7\" >95.000000</td>\n",
       "    </tr>\n",
       "  </tbody>\n",
       "</table>\n"
      ],
      "text/plain": [
       "<pandas.io.formats.style.Styler at 0x1ded1983d00>"
      ]
     },
     "execution_count": 11,
     "metadata": {},
     "output_type": "execute_result"
    }
   ],
   "source": [
    "survey.describe().T.style.background_gradient()"
   ]
  },
  {
   "cell_type": "markdown",
   "metadata": {},
   "source": [
    "최대값과 최소값도 지정한 범위 내로 들어와있고, count도 1000개로 조사한 인원 수와 동일하다."
   ]
  },
  {
   "cell_type": "code",
   "execution_count": 12,
   "metadata": {},
   "outputs": [
    {
     "data": {
      "text/plain": [
       "<seaborn.axisgrid.FacetGrid at 0x1ded149c910>"
      ]
     },
     "execution_count": 12,
     "metadata": {},
     "output_type": "execute_result"
    },
    {
     "data": {
      "image/png": "[encoded data removed]",
      "text/plain": [
       "<Figure size 500x500 with 1 Axes>"
      ]
     },
     "metadata": {},
     "output_type": "display_data"
    }
   ],
   "source": [
    "sns.displot(survey, x='Stress', kde=True)"
   ]
  },
  {
   "cell_type": "markdown",
   "metadata": {},
   "source": [
    "데이터의 평균이 50 이상이고, 높은 스트레스 수치가 많이 관측된다. 기술적 분석 결과, 학생 집단은 스트레스 지수가 높은 편에 속하는 것 같습니다. 하지만 \"그럴것 같다\"와 \"통계적으로 유의하다\"는 다르다.\n",
    "\n",
    "### 단일 표본 t-test를 위한 단계\n",
    "t-test를 수행하기 전 우리는 **데이터가 통계 기법을 사용하기 적합한 조건인지**를 확인해야한다. 위에서는 자동 보정 기능을 사용했지만, 이번에는 직접 조건을 확인한다.\n",
    "\n",
    "### 샤피로-윌크 검정(Shapiro-Wilk)\n",
    "샤피로-윌크 검정은 데이터의 정규성을 검정하는데 사용한다. 이는 데이터가 통계적 기법을 사용하기 적당한 분포를 가지고 있는지 확인하는 과정이다. \n",
    "\n",
    "데이터가 적합한 분포를 가질 경우 \"정규 분포를 따른다\"고 하며, 이는 많은 통계 기법의 전제 조건이 된다."
   ]
  },
  {
   "cell_type": "code",
   "execution_count": 13,
   "metadata": {},
   "outputs": [
    {
     "data": {
      "text/html": [
       "<div>\n",
       "<style scoped>\n",
       "    .dataframe tbody tr th:only-of-type {\n",
       "        vertical-align: middle;\n",
       "    }\n",
       "\n",
       "    .dataframe tbody tr th {\n",
       "        vertical-align: top;\n",
       "    }\n",
       "\n",
       "    .dataframe thead th {\n",
       "        text-align: right;\n",
       "    }\n",
       "</style>\n",
       "<table border=\"1\" class=\"dataframe\">\n",
       "  <thead>\n",
       "    <tr style=\"text-align: right;\">\n",
       "      <th></th>\n",
       "      <th>W</th>\n",
       "      <th>pval</th>\n",
       "      <th>normal</th>\n",
       "    </tr>\n",
       "  </thead>\n",
       "  <tbody>\n",
       "    <tr>\n",
       "      <th>Stress</th>\n",
       "      <td>0.996979</td>\n",
       "      <td>0.055226</td>\n",
       "      <td>True</td>\n",
       "    </tr>\n",
       "  </tbody>\n",
       "</table>\n",
       "</div>"
      ],
      "text/plain": [
       "               W      pval  normal\n",
       "Stress  0.996979  0.055226    True"
      ]
     },
     "execution_count": 13,
     "metadata": {},
     "output_type": "execute_result"
    }
   ],
   "source": [
    "pg.normality(survey['Stress'])"
   ]
  },
  {
   "cell_type": "markdown",
   "metadata": {},
   "source": [
    "일반적으로 p-value가 0.05보다 낮은 경우 \"정규성이 위배\" 되고 그 외의 경우 \"정규성이 만족\"된다고 본다.\n",
    "\n",
    "### 단일표본 t검정\n",
    "지금 이 문제에서는 학생들의 스트레스 지수 평균이 전체 인구 평균과 유의미한 차이가 있는지 확인하려 한다.\n",
    "\n",
    "이를 위해 설문의 스트레스 변수값을 단일표본 t검정 함수에 전체 인구 평균과 같이 넣어준다."
   ]
  },
  {
   "cell_type": "code",
   "execution_count": 17,
   "metadata": {},
   "outputs": [
    {
     "data": {
      "text/html": [
       "<div>\n",
       "<style scoped>\n",
       "    .dataframe tbody tr th:only-of-type {\n",
       "        vertical-align: middle;\n",
       "    }\n",
       "\n",
       "    .dataframe tbody tr th {\n",
       "        vertical-align: top;\n",
       "    }\n",
       "\n",
       "    .dataframe thead th {\n",
       "        text-align: right;\n",
       "    }\n",
       "</style>\n",
       "<table border=\"1\" class=\"dataframe\">\n",
       "  <thead>\n",
       "    <tr style=\"text-align: right;\">\n",
       "      <th></th>\n",
       "      <th>T</th>\n",
       "      <th>dof</th>\n",
       "      <th>alternative</th>\n",
       "      <th>p-val</th>\n",
       "      <th>CI95%</th>\n",
       "      <th>cohen-d</th>\n",
       "      <th>BF10</th>\n",
       "      <th>power</th>\n",
       "    </tr>\n",
       "  </thead>\n",
       "  <tbody>\n",
       "    <tr>\n",
       "      <th>T-test</th>\n",
       "      <td>46.222</td>\n",
       "      <td>999</td>\n",
       "      <td>two-sided</td>\n",
       "      <td>0.0</td>\n",
       "      <td>[64.41, 65.69]</td>\n",
       "      <td>1.462</td>\n",
       "      <td>1.595e+246</td>\n",
       "      <td>1.0</td>\n",
       "    </tr>\n",
       "  </tbody>\n",
       "</table>\n",
       "</div>"
      ],
      "text/plain": [
       "             T  dof alternative  p-val           CI95%  cohen-d        BF10  \\\n",
       "T-test  46.222  999   two-sided    0.0  [64.41, 65.69]    1.462  1.595e+246   \n",
       "\n",
       "        power  \n",
       "T-test    1.0  "
      ]
     },
     "execution_count": 17,
     "metadata": {},
     "output_type": "execute_result"
    }
   ],
   "source": [
    "avg_stress = 50\n",
    "\n",
    "results = pg.ttest(survey['Stress'], avg_stress)\n",
    "round(results, 3)"
   ]
  },
  {
   "cell_type": "markdown",
   "metadata": {},
   "source": [
    "p-value를 기준으로, 귀무가설이 기각된다 (p < 0.001)\n",
    "\n",
    "즉, 학생들의 스트레스 지수 평균은 50과 통계적으로 같지 않다.\n",
    "\n",
    "검정 결과 t(999) = 46.222, p < 0.001, 신뢰구간 95%애서 [64.41, 65.69]로 대립가설을 채택한다."
   ]
  }
 ],
 "metadata": {
  "kernelspec": {
   "display_name": "test_cuda",
   "language": "python",
   "name": "test_cuda"
  },
  "language_info": {
   "codemirror_mode": {
    "name": "ipython",
    "version": 3
   },
   "file_extension": ".py",
   "mimetype": "text/x-python",
   "name": "python",
   "nbconvert_exporter": "python",
   "pygments_lexer": "ipython3",
   "version": "3.9.12"
  }
 },
 "nbformat": 4,
 "nbformat_minor": 2
}
