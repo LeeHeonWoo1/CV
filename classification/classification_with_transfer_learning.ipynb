{
 "cells": [
  {
   "cell_type": "code",
   "execution_count": 1,
   "id": "b70b96df",
   "metadata": {},
   "outputs": [
    {
     "name": "stdout",
     "output_type": "stream",
     "text": [
      "[name: \"/device:CPU:0\"\n",
      "device_type: \"CPU\"\n",
      "memory_limit: 268435456\n",
      "locality {\n",
      "}\n",
      "incarnation: 2131220269736540081\n",
      "xla_global_id: -1\n",
      ", name: \"/device:GPU:0\"\n",
      "device_type: \"GPU\"\n",
      "memory_limit: 10063183872\n",
      "locality {\n",
      "  bus_id: 1\n",
      "  links {\n",
      "  }\n",
      "}\n",
      "incarnation: 10707135824662930450\n",
      "physical_device_desc: \"device: 0, name: NVIDIA GeForce RTX 3060, pci bus id: 0000:b3:00.0, compute capability: 8.6\"\n",
      "xla_global_id: 416903419\n",
      "]\n"
     ]
    }
   ],
   "source": [
    "import numpy as np\n",
    "import pandas as pd\n",
    "import tensorflow as tf\n",
    "import matplotlib.pyplot as plt\n",
    "from keras.models import Model, load_model\n",
    "from keras.optimizers import Adam\n",
    "from keras.applications import ResNet152, DenseNet121, ResNet50\n",
    "from keras.preprocessing.image import ImageDataGenerator\n",
    "from keras.layers import Dense, GlobalAveragePooling2D, Dropout, Flatten\n",
    "from sklearn.metrics import classification_report\n",
    "from keras.callbacks import EarlyStopping, CSVLogger, ReduceLROnPlateau\n",
    "\n",
    "import os\n",
    "from tensorflow.python.client import device_lib\n",
    "\n",
    "os.environ[\"CUDA_VISIBLE_DEVICES\"] = \"0\"\n",
    "print(device_lib.list_local_devices())"
   ]
  },
  {
   "cell_type": "code",
   "execution_count": 3,
   "id": "ad237cf9",
   "metadata": {},
   "outputs": [
    {
     "name": "stderr",
     "output_type": "stream",
     "text": [
      "Copying files: 7733 files [00:29, 258.34 files/s]\n"
     ]
    }
   ],
   "source": [
    "import splitfolders\n",
    "\n",
    "splitfolders.ratio(\"./image_dataset\", \"./splitted\", ratio=(0.7, 0.15, 0.15))"
   ]
  },
  {
   "cell_type": "code",
   "execution_count": 11,
   "id": "783f9475",
   "metadata": {},
   "outputs": [
    {
     "name": "stdout",
     "output_type": "stream",
     "text": [
      "49\n",
      "79\n",
      "964\n",
      "73\n"
     ]
    }
   ],
   "source": [
    "train_dir1 = \"./splitted/class1\"\n",
    "train_dir2 = \"./splitted/class2\"\n",
    "train_dir3 = \"./splitted/class3\"\n",
    "train_dir4 = \"./splitted/class4\"\n",
    "\n",
    "for filename in os.listdir(train_dir2)[202:]:\n",
    "    os.remove(os.path.join(train_dir2, filename))\n",
    "for filename in os.listdir(train_dir3)[202:]:\n",
    "    os.remove(os.path.join(train_dir3, filename))\n",
    "for filename in os.listdir(train_dir4)[202:]:\n",
    "    os.remove(os.path.join(train_dir4, filename))"
   ]
  },
  {
   "cell_type": "code",
   "execution_count": 5,
   "id": "6dc2d350",
   "metadata": {
    "scrolled": false
   },
   "outputs": [
    {
     "name": "stdout",
     "output_type": "stream",
     "text": [
      "Found 884 images belonging to 4 classes.\n",
      "Found 188 images belonging to 4 classes.\n",
      "Found 196 images belonging to 4 classes.\n"
     ]
    }
   ],
   "source": [
    "# 데이터셋 경로 설정\n",
    "base_dir = './splitted'\n",
    "\n",
    "# ImageDataGenerator 설정\n",
    "train_datagen = ImageDataGenerator(\n",
    "    rescale=1./255,\n",
    "    shear_range=0.2,\n",
    "    rotation_range=45,\n",
    "    horizontal_flip=True,\n",
    "    vertical_flip=True\n",
    "    )\n",
    "\n",
    "validation_datagen = ImageDataGenerator(\n",
    "    rescale=1./255,\n",
    "    shear_range=0.2,\n",
    "    rotation_range=0.2,\n",
    "    horizontal_flip=True,\n",
    "    vertical_flip=True\n",
    "    )\n",
    "\n",
    "test_datagen = ImageDataGenerator(\n",
    "    rescale=1./255\n",
    "    )\n",
    "\n",
    "# 데이터 로더 설정\n",
    "train_generator = train_datagen.flow_from_directory(\n",
    "    f'{base_dir}/train',\n",
    "    target_size=(224, 224),\n",
    "    batch_size=32,\n",
    "    class_mode='categorical',\n",
    "    color_mode=\"rgb\"\n",
    "    )\n",
    "\n",
    "validation_generator = validation_datagen.flow_from_directory(\n",
    "    f'{base_dir}/val',\n",
    "    target_size=(224, 224),\n",
    "    batch_size=32,\n",
    "    class_mode='categorical',\n",
    "    color_mode=\"rgb\"\n",
    "    )\n",
    "\n",
    "test_generator = test_datagen.flow_from_directory(\n",
    "    f'{base_dir}/test',\n",
    "    target_size=(224, 224),\n",
    "    batch_size=32,\n",
    "    class_mode='categorical',\n",
    "    color_mode=\"rgb\",\n",
    "    shuffle=False\n",
    "    )"
   ]
  },
  {
   "cell_type": "code",
   "execution_count": 2,
   "id": "805cd9a6",
   "metadata": {},
   "outputs": [],
   "source": [
    "model_path = \"./model/weights/bug_classification_v1.0.5.h5\"\n",
    "history_path = \"./model/history/bug_classification_v1.0.5.csv\""
   ]
  },
  {
   "cell_type": "code",
   "execution_count": null,
   "id": "0b0df5ad",
   "metadata": {},
   "outputs": [],
   "source": [
    "params = {\n",
    "    'input_shape' : (224, 224, 3), \n",
    "    'include_top': False,\n",
    "    'weights':'imagenet',\n",
    "    'classes': 4,\n",
    "    \"pooling\" : \"max\"\n",
    "}\n",
    "\n",
    "# ResNet50 모델 로드 및 커스터마이징\n",
    "base_model = DenseNet121(**params)\n",
    "\n",
    "# 모델 커스터마이징\n",
    "x = base_model.output\n",
    "x = Flatten()(x)\n",
    "x = Dense(512, activation='relu')(x)\n",
    "x = Dense(256, activation=\"relu\")(x)\n",
    "predictions = Dense(4, activation='softmax')(x)\n",
    "\n",
    "model = Model(inputs=base_model.input, outputs=predictions)\n",
    "\n",
    "# 일부 레이어만 학습되도록 설정\n",
    "for layer in base_model.layers:\n",
    "    layer.trainable = False\n",
    "\n",
    "els = EarlyStopping(monitor=\"val_loss\", patience=5, mode=\"min\")\n",
    "reduce = ReduceLROnPlateau(monitor=\"val_loss\", patience=3, mode=\"min\", factor=0.1)\n",
    "csv_logger = CSVLogger(history_path)\n",
    "\n",
    "model.compile(optimizer=Adam(learning_rate=0.001), loss='categorical_crossentropy', metrics=['accuracy'])\n",
    "\n",
    "# 모델 학습\n",
    "model.fit(train_generator, epochs=100, validation_data=validation_generator, callbacks=[els, reduce, csv_logger])\n",
    "model.save(model_path)"
   ]
  },
  {
   "cell_type": "code",
   "execution_count": 3,
   "id": "29068cfd",
   "metadata": {},
   "outputs": [
    {
     "data": {
      "image/png": "[encoded data removed]",
      "text/plain": [
       "<Figure size 1200x400 with 2 Axes>"
      ]
     },
     "metadata": {},
     "output_type": "display_data"
    }
   ],
   "source": [
    "history = pd.read_csv(history_path)\n",
    "\n",
    "plt.figure(figsize=(12, 4))\n",
    "plt.subplot(1, 2, 1)\n",
    "plt.plot(history[\"epoch\"], history[\"accuracy\"], label=\"acc\")\n",
    "plt.plot(history[\"epoch\"], history[\"val_accuracy\"], label=\"val_acc\")\n",
    "plt.title(\"Accuracy\")\n",
    "plt.legend()\n",
    "\n",
    "plt.subplot(1, 2, 2)\n",
    "plt.plot(history[\"epoch\"], history[\"loss\"], label=\"loss\")\n",
    "plt.plot(history[\"epoch\"], history[\"val_loss\"], label=\"val_loss\")\n",
    "plt.title(\"Loss Value\")\n",
    "plt.legend()\n",
    "\n",
    "plt.suptitle(\"Training History\")\n",
    "plt.show()"
   ]
  },
  {
   "cell_type": "code",
   "execution_count": 4,
   "id": "e8a85432",
   "metadata": {},
   "outputs": [
    {
     "ename": "NameError",
     "evalue": "name 'test_generator' is not defined",
     "output_type": "error",
     "traceback": [
      "\u001b[1;31m---------------------------------------------------------------------------\u001b[0m",
      "\u001b[1;31mNameError\u001b[0m                                 Traceback (most recent call last)",
      "Cell \u001b[1;32mIn[4], line 2\u001b[0m\n\u001b[0;32m      1\u001b[0m model \u001b[38;5;241m=\u001b[39m load_model(model_path)\n\u001b[1;32m----> 2\u001b[0m y_true \u001b[38;5;241m=\u001b[39m \u001b[43mtest_generator\u001b[49m\u001b[38;5;241m.\u001b[39mclasses\n\u001b[0;32m      3\u001b[0m y_pred \u001b[38;5;241m=\u001b[39m []\n\u001b[0;32m      5\u001b[0m \u001b[38;5;28;01mfor\u001b[39;00m pred \u001b[38;5;129;01min\u001b[39;00m model\u001b[38;5;241m.\u001b[39mpredict(test_generator, verbose\u001b[38;5;241m=\u001b[39m\u001b[38;5;241m0\u001b[39m):\n",
      "\u001b[1;31mNameError\u001b[0m: name 'test_generator' is not defined"
     ]
    }
   ],
   "source": [
    "model = load_model(model_path)\n",
    "y_true = test_generator.classes\n",
    "y_pred = []\n",
    "\n",
    "for pred in model.predict(test_generator, verbose=0):\n",
    "    y_pred.append(np.argmax(pred))"
   ]
  },
  {
   "cell_type": "code",
   "execution_count": 23,
   "id": "2916b6b0",
   "metadata": {},
   "outputs": [
    {
     "name": "stdout",
     "output_type": "stream",
     "text": [
      "              precision    recall  f1-score   support\n",
      "\n",
      "           0       1.00      1.00      1.00        49\n",
      "           1       0.98      0.98      0.98        49\n",
      "           2       0.98      1.00      0.99        49\n",
      "           3       1.00      0.98      0.99        49\n",
      "\n",
      "    accuracy                           0.99       196\n",
      "   macro avg       0.99      0.99      0.99       196\n",
      "weighted avg       0.99      0.99      0.99       196\n",
      "\n"
     ]
    }
   ],
   "source": [
    "print(classification_report(y_pred=y_pred, y_true=y_true))"
   ]
  },
  {
   "cell_type": "code",
   "execution_count": 24,
   "id": "89a7e735",
   "metadata": {},
   "outputs": [],
   "source": [
    "class_names = {0 : \"미국선녀벌레\", 1 : \"썩덩나무노린재\", 2 : \"작은뿌리파리\", 3 : \"점나방\"}"
   ]
  },
  {
   "cell_type": "code",
   "execution_count": null,
   "id": "a56eb44b",
   "metadata": {},
   "outputs": [],
   "source": [
    "import cv2\n",
    "from glob import glob\n",
    "import matplotlib as mlp\n",
    "\n",
    "mlp.rcParams[\"font.family\"] = \"Malgun Gothic\"\n",
    "image_filenames = glob(\"./splitted/test/*/*.png\")\n",
    "\n",
    "fig, axis = plt.subplots(nrows=round(np.sqrt(len(test_generator.filenames))), ncols=round(np.sqrt(len(test_generator.filenames))), figsize=(80, 80))\n",
    "plt.subplots_adjust(left=0.125, bottom=0.4, right=0.9, top=0.9, wspace=0.2, hspace=0.6)\n",
    "plt.tight_layout(h_pad=1.08)\n",
    "\n",
    "for idx, pred in enumerate(model.predict(test_generator, verbose=0)):\n",
    "    img_array = np.fromfile(image_filenames[idx], np.uint8)\n",
    "    img = cv2.imdecode(img_array, cv2.IMREAD_COLOR)\n",
    "    image = cv2.cvtColor(img, cv2.COLOR_BGR2RGB)\n",
    "\n",
    "    row_col = round(np.sqrt(len(test_generator.filenames)))\n",
    "\n",
    "    true_class_idx = test_generator.classes[idx]\n",
    "    pred_class_idx = np.argmax(pred)\n",
    "    \n",
    "    true_class_name = class_names[true_class_idx]\n",
    "    pred_class_name = class_names[pred_class_idx]\n",
    "\n",
    "    axis[idx//row_col][idx%row_col].imshow(image)\n",
    "    axis[idx//row_col][idx%row_col].set_xlabel(f\"true : {true_class_name}\")\n",
    "    axis[idx//row_col][idx%row_col].set_title(f\"pred : {pred_class_name}\")\n",
    "\n",
    "plt.show()"
   ]
  },
  {
   "cell_type": "code",
   "execution_count": null,
   "id": "d099e99e",
   "metadata": {},
   "outputs": [],
   "source": []
  }
 ],
 "metadata": {
  "kernelspec": {
   "display_name": "test_cuda",
   "language": "python",
   "name": "test_cuda"
  },
  "language_info": {
   "codemirror_mode": {
    "name": "ipython",
    "version": 3
   },
   "file_extension": ".py",
   "mimetype": "text/x-python",
   "name": "python",
   "nbconvert_exporter": "python",
   "pygments_lexer": "ipython3",
   "version": "3.9.12"
  }
 },
 "nbformat": 4,
 "nbformat_minor": 5
}
