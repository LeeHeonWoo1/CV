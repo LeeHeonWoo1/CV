{
 "cells": [
  {
   "cell_type": "markdown",
   "metadata": {},
   "source": [
    "### Conver Format to yolo\n",
    "현재 어노테이션 정보들은 모두 절대좌표로 찍혀 있는 상태이다. 이를 정규화된 상대 좌표로 변환한다.\n",
    "\n",
    "### Yolo Annotation format\n",
    "yolo dataset의 경우 이미지 하나에 annotation 정보와 클래스 넘버를 포함하고 있는 txt파일 하나가 매핑되는게 일반적이며, txt파일은 아래와 같이 구성된다.\n",
    "\n",
    "```\n",
    "클래스 번호   x좌표(어노테이션 박스 중심점)   y좌표(어노테이션 박스 중심점)    annotation box's width    annotation box's height\n",
    "```\n",
    "\n",
    "### AI Hub's annotation file\n"
   ]
  },
  {
   "cell_type": "code",
   "execution_count": 1,
   "metadata": {},
   "outputs": [],
   "source": [
    "import os\n",
    "import json\n",
    "import shutil\n",
    "import splitfolders\n",
    "from glob import glob\n",
    "from ultralytics import YOLO"
   ]
  },
  {
   "cell_type": "code",
   "execution_count": 7,
   "metadata": {},
   "outputs": [
    {
     "data": {
      "text/plain": [
       "{0: 9318, 5: 12832, 6: 7328}"
      ]
     },
     "execution_count": 7,
     "metadata": {},
     "output_type": "execute_result"
    }
   ],
   "source": [
    "data_path = \"../training_data\"\n",
    "\n",
    "cnt = {0:0, 5:0, 6:0}\n",
    "image_filenames = [i.replace(\"\\\\\", \"/\") for i in glob(\"../../training_data/images/*\")]\n",
    "json_filenames = [i.replace(\"\\\\\", \"/\") for i in glob(\"../../training_data/labels/*\")]\n",
    "for json_path, image_path in zip(json_filenames, image_filenames):\n",
    "    with open(json_path, \"r\", encoding=\"utf8\") as file:\n",
    "        json_file = json.load(file)\n",
    "    cnt[json_file[\"annotations\"]['disease']] += 1\n",
    "    file.close()\n",
    "\n",
    "cnt"
   ]
  },
  {
   "cell_type": "code",
   "execution_count": 8,
   "metadata": {},
   "outputs": [],
   "source": [
    "labels_dir = \"./new_dataset2/labels\"  # yolo format으로 저장될 위치\n",
    "imgs_dir = \"./new_dataset2/images\"\n",
    "cnt = {0:0, 5:0, 6:0}\n",
    "class_num = {0:0, 5:1, 6:2}  # 0 : 정상(0번) 5 : 검은 썩음병(1번) 6 : 배추노균병(2번)\n",
    "\n",
    "image_filenames = [i.replace(\"\\\\\", \"/\") for i in glob(\"../../training_data/images/*\")]\n",
    "json_filenames = [i.replace(\"\\\\\", \"/\") for i in glob(\"../../training_data/labels/*\")]\n",
    "for json_path, image_path in zip(json_filenames, image_filenames):\n",
    "    with open(json_path, \"r\", encoding=\"utf8\") as file:\n",
    "        json_file = json.load(file)\n",
    "\n",
    "    image_filename = json_file[\"description\"][\"image\"]\n",
    "    img_extension = image_filename[image_filename.rfind(\".\") : ]\n",
    "    image_width = json_file['description']['width']\n",
    "    image_height = json_file['description']['height']\n",
    "\n",
    "    cnt[json_file[\"annotations\"]['disease']] += 1\n",
    "\n",
    "    if cnt[json_file[\"annotations\"]['disease']] <= 7328:\n",
    "        bboxes = \"\"  # 바운딩 박스 좌표를 담을 빈 문자열\n",
    "        for point in json_file[\"annotations\"][\"points\"]:  # 모든 바운딩 박스 좌표를 순회하면서\n",
    "            x_tl, y_tl = point[\"xtl\"], point[\"ytl\"]  # x,y Top-left 좌표\n",
    "            x_br, y_br = point[\"xbr\"], point[\"ybr\"]  # x,y Bottom-right 좌표\n",
    "\n",
    "            bounding_box_width = (x_br - x_tl) / image_width  # 바운딩 박스 가로 길이 정규화\n",
    "            bounding_box_height = (y_br - y_tl) / image_height  # 바운딩 박스 세로 길이 정규화\n",
    "            center_x = int((x_tl + x_br) / 2)  # 바운딩 박스 중심점의 x좌표\n",
    "            center_y = int((y_tl + y_br) / 2)  # 바운딩 박스 중심점의 y좌표\n",
    "\n",
    "            normed_center_x = center_x/image_width  # 정규화된 바운딩 박스 중심점의 x좌표\n",
    "            normed_center_y = center_y/image_height  # 정규화된 바운딩 박스 중심점의 y좌표\n",
    "            bbox = f\"{class_num[json_file['annotations']['disease']]} {normed_center_x} {normed_center_y} {bounding_box_width} {bounding_box_height}\\n\"\n",
    "            bboxes += bbox\n",
    "\n",
    "        txt_filename = os.path.join(labels_dir, image_filename)\n",
    "        with open(txt_filename.replace(img_extension, \".txt\"), \"w\", encoding=\"utf8\") as txt:\n",
    "            txt.write(bboxes)\n",
    "        shutil.move(image_path, os.path.join(imgs_dir, image_filename))\n",
    "\n",
    "    file.close()\n",
    "    txt.close()"
   ]
  },
  {
   "cell_type": "code",
   "execution_count": 5,
   "metadata": {},
   "outputs": [
    {
     "name": "stdout",
     "output_type": "stream",
     "text": [
      "이미지 평균 가로 길이 : 3679px\n",
      "이미지 평균 세로 길이 : 3233px\n"
     ]
    }
   ],
   "source": [
    "from glob import glob\n",
    "import json\n",
    "\n",
    "json_filenames = [i.replace(\"\\\\\", \"/\") for i in glob(\"../../training_data/labels/*\")]\n",
    "\n",
    "total_width = 0\n",
    "total_height = 0\n",
    "for json_path in json_filenames:\n",
    "    with open(json_path, \"r\", encoding=\"utf8\") as file:\n",
    "        json_file = json.load(file)\n",
    "    image_width = json_file['description']['width']\n",
    "    image_height = json_file['description']['height']\n",
    "\n",
    "    total_width += image_width\n",
    "    total_height += image_height\n",
    "\n",
    "    file.close()\n",
    "\n",
    "print(f\"이미지 평균 가로 길이 : {int(total_width / len(json_filenames))}px\")\n",
    "print(f\"이미지 평균 세로 길이 : {int(total_height / len(json_filenames))}px\")"
   ]
  },
  {
   "cell_type": "code",
   "execution_count": 10,
   "metadata": {},
   "outputs": [],
   "source": [
    "json_filenames = [i.replace(\"\\\\\", \"/\") for i in glob(r\"./detection_dataset/*/labels/*/*.json\")]\n",
    "\n",
    "cnt = {0:0, 5:0, 6:0}\n",
    "for json_path in json_filenames:\n",
    "    with open(json_path, \"r\", encoding=\"utf8\") as file:\n",
    "        json_file = json.load(file)\n",
    "    if len(json_file[\"annotations\"][\"points\"]) >= 1:\n",
    "        cnt[json_file[\"annotations\"][\"disease\"]] += 1\n",
    "    else:\n",
    "        print(f\"thers's no any points. filename is {json_file['description']['image']}\")\n",
    "    file.close()"
   ]
  },
  {
   "cell_type": "code",
   "execution_count": 11,
   "metadata": {},
   "outputs": [
    {
     "data": {
      "text/plain": [
       "{0: 1183, 5: 1760, 6: 592}"
      ]
     },
     "execution_count": 11,
     "metadata": {},
     "output_type": "execute_result"
    }
   ],
   "source": [
    "cnt"
   ]
  },
  {
   "cell_type": "code",
   "execution_count": 9,
   "metadata": {},
   "outputs": [
    {
     "name": "stderr",
     "output_type": "stream",
     "text": [
      "Copying files: 43968 files [27:55, 26.24 files/s] \n"
     ]
    }
   ],
   "source": [
    "splitfolders.ratio(\"./new_dataset2\", \"./new_detection2\", seed=11, ratio=(0.6, 0.2, 0.2))"
   ]
  },
  {
   "cell_type": "markdown",
   "metadata": {},
   "source": [
    "### V8 training params\n",
    "\n",
    "|params|default|설명|\n",
    "|---|---|---|\n",
    "|model|None|사전에 학습된 모델의 가중치를 사용하거나, 모델 자체를 사용하기 위한 parameter|\n",
    "|data|None|데이터셋 명세가 적힌 yaml 파일의 경로|\n",
    "|epochs|100|훈련 횟수|\n",
    "|time|None|학습 시간에 대한 limit을 설정한다.|\n",
    "|patience|100|early stop을 위한 매개변수. 해당 횟수만큼 모델에 개선이 없으면 조기종료한다.|\n",
    "|imgsz|640|이미지의 가로 세로 크기를 조절한다. 학습 정확도와 계산 복잡성에 영향을 직접적으로 미친다.|\n",
    "|save|True|학습 결과를 best/last.pt로 저장한다.|\n",
    "|save_preiod|-1|학습 중 checkpoint를 저장할지 말지에 대한 여부. -1은 비활성화를 의미하며, 지정하는 숫자의 epochs마다 저장한다.|\n",
    "|cache|None|데이터셋 이미지를 메모리 혹은 디스크에 캐싱하게 하여 메모리 사용량은 증가하지만 교육 속도는 향상된다.|"
   ]
  },
  {
   "cell_type": "code",
   "execution_count": null,
   "metadata": {},
   "outputs": [],
   "source": [
    "os.environ['WANDB_DISABLED'] = 'true'\n",
    "\n",
    "def main():\n",
    "    model = YOLO(\"./detection_model/yolov8l.pt\", task=\"detect\")\n",
    "    model.train(\n",
    "        model = \"./detection_model/yolov8l.pt\",\n",
    "        data = \"./new_detection2/cabbage_data.yaml\",\n",
    "        imgsz=640,\n",
    "        epochs=100,\n",
    "        batch=16,  # batch=-1 -> 장비가 허용하는 범위 내에서 동적으로 설정\n",
    "        project=\"detection_model\",\n",
    "        name=\"cabbage_detection\",\n",
    "        workers=2,\n",
    "        plots=True,\n",
    "        device=0,  # gpu 사용\n",
    "        patience=10,\n",
    "        translate=0.0,  # 수평 혹은 수직이동\n",
    "    )\n",
    "\n",
    "if __name__ == \"__main__\":\n",
    "    main()"
   ]
  },
  {
   "cell_type": "code",
   "execution_count": 13,
   "metadata": {},
   "outputs": [
    {
     "name": "stdout",
     "output_type": "stream",
     "text": [
      "\n",
      "image 1/12 C:\\Users\\admin\\Desktop\\testing\\V006_79_0_00_03_03_12_0_b06_20201020_0005_S01_1.jpg: 320x640 1 normal, 31.1ms\n",
      "image 2/12 C:\\Users\\admin\\Desktop\\testing\\V006_79_0_00_03_03_12_0_b06_20201020_0070_S01_1.jpg: 320x640 1 normal, 29.1ms\n",
      "image 3/12 C:\\Users\\admin\\Desktop\\testing\\V006_79_0_00_03_03_12_0_b06_20201020_0072_S01_1.jpg: 320x640 1 normal, 29.1ms\n",
      "image 4/12 C:\\Users\\admin\\Desktop\\testing\\V006_79_0_00_03_03_12_0_b06_20201020_0092_S01_1.jpg: 320x640 1 normal, 29.1ms\n",
      "image 5/12 C:\\Users\\admin\\Desktop\\testing\\V006_79_1_05_03_03_12_1_5978e_20201029_12_a0002.jpeg: 640x640 1 black_rot, 50.7ms\n",
      "image 6/12 C:\\Users\\admin\\Desktop\\testing\\V006_79_1_05_03_03_12_1_5978e_20201029_12_a0005.jpeg: 640x640 1 black_rot, 168.5ms\n",
      "image 7/12 C:\\Users\\admin\\Desktop\\testing\\V006_79_1_05_03_03_12_1_5978e_20201029_12_a0007.jpeg: 640x640 1 black_rot, 27.1ms\n",
      "image 8/12 C:\\Users\\admin\\Desktop\\testing\\V006_79_1_05_03_03_12_1_5978e_20201029_12_b0004.jpeg: 640x640 1 black_rot, 27.1ms\n",
      "image 9/12 C:\\Users\\admin\\Desktop\\testing\\V006_79_1_06_03_03_12_2_5978e_20201005_26_a0007.jpg: 640x480 1 syngenta, 25.1ms\n",
      "image 10/12 C:\\Users\\admin\\Desktop\\testing\\V006_79_1_06_03_03_12_2_5978e_20201127_127_a0004.jpg: 640x480 1 syngenta, 24.1ms\n",
      "image 11/12 C:\\Users\\admin\\Desktop\\testing\\V006_79_1_06_03_03_12_2_7204t_20201103_46_a0004.jpg: 640x480 1 syngenta, 51.1ms\n",
      "image 12/12 C:\\Users\\admin\\Desktop\\testing\\V006_79_1_06_03_03_12_3_7204t_20201116_73_a0004.JPG: 480x640 1 syngenta, 56.1ms\n",
      "Speed: 3.8ms preprocess, 45.7ms inference, 2.4ms postprocess per image at shape (1, 3, 480, 640)\n",
      "Results saved to \u001b[1mc:\\Users\\admin\\Desktop\\CudaTest\\runs\\detect\\predict8\u001b[0m\n"
     ]
    }
   ],
   "source": [
    "custom_model = YOLO(r\"./detection_model/cabbage_detection2/weights/best.pt\")\n",
    "results = custom_model.predict(source=r\"C:\\Users\\admin\\Desktop\\testing\\*\", save=True)"
   ]
  },
  {
   "cell_type": "code",
   "execution_count": 4,
   "metadata": {},
   "outputs": [
    {
     "name": "stdout",
     "output_type": "stream",
     "text": [
      "\n"
     ]
    },
    {
     "name": "stdout",
     "output_type": "stream",
     "text": [
      "0: 320x640 1 normal, 217.9ms\n",
      "Speed: 0.0ms preprocess, 217.9ms inference, 0.0ms postprocess per image at shape (1, 3, 320, 640)\n"
     ]
    }
   ],
   "source": [
    "from PIL import Image\n",
    "\n",
    "img = Image.open(r\"C:\\Users\\admin\\Desktop\\testing\\V006_79_0_00_03_03_12_0_b06_20201020_0005_S01_1.jpg\")\n",
    "results = custom_model(img)"
   ]
  },
  {
   "cell_type": "code",
   "execution_count": 15,
   "metadata": {},
   "outputs": [
    {
     "name": "stdout",
     "output_type": "stream",
     "text": [
      "1\n",
      "1. class 번호(0 = 정상, 1 = 검음썩음병, 2 = 배추노균병) tensor([0.], device='cuda:0')\n",
      "\n",
      "2. 바운딩 박스의 각 꼭짓점의 절대좌표 tensor([[1131.7333,    0.0000, 3060.8257, 2186.5581]], device='cuda:0')\n",
      "\n",
      "3. 바운딩 박스의 중심점의 xy좌표, 바운딩 박스의 너비와 높이 tensor([[2096.2795, 1093.2791, 1929.0924, 2186.5581]], device='cuda:0')\n",
      "\n",
      "4. 정규화된 바운딩 박스의 각 꼭짓점의 절대좌표 tensor([[0.2439, 0.0000, 0.6597, 0.9957]], device='cuda:0')\n",
      "\n",
      "5. 정규화된 바운딩 박스의 중심점의 xy좌표, 바운딩 박스의 너비와 높이 tensor([[0.4518, 0.4979, 0.4158, 0.9957]], device='cuda:0')\n",
      "\n",
      "6. 해당 객체의 분류 정확도(바운딩 박스 내부에 객체가 있다는 전제 하에, 클래스에 대한 객체의 조건부 확률) tensor([0.9501], device='cuda:0')\n",
      "\n",
      "7. 데이터의 함축형. (정규화된 각 꼭짓점 좌표, conf, class_number)tensor([[1.1317e+03, 0.0000e+00, 3.0608e+03, 2.1866e+03, 9.5008e-01, 0.0000e+00]], device='cuda:0')\n",
      "\n"
     ]
    }
   ],
   "source": [
    "boxes = results[0].boxes\n",
    "print(len(boxes))\n",
    "print(f\"1. class 번호(0 = 정상, 1 = 검음썩음병, 2 = 배추노균병) {boxes.cls}\\n\")\n",
    "print(f\"2. 바운딩 박스의 각 꼭짓점의 절대좌표 {boxes.xyxy}\\n\")\n",
    "print(f\"3. 바운딩 박스의 중심점의 xy좌표, 바운딩 박스의 너비와 높이 {boxes.xywh}\\n\")\n",
    "print(f\"4. 정규화된 바운딩 박스의 각 꼭짓점의 절대좌표 {boxes.xyxyn}\\n\")\n",
    "print(f\"5. 정규화된 바운딩 박스의 중심점의 xy좌표, 바운딩 박스의 너비와 높이 {boxes.xywhn}\\n\")\n",
    "print(f\"6. 해당 객체의 분류 정확도(바운딩 박스 내부에 객체가 있다는 전제 하에, 클래스에 대한 객체의 조건부 확률) {boxes.conf}\\n\")\n",
    "print(f\"7. 데이터의 함축형. (정규화된 각 꼭짓점 좌표, conf, class_number){boxes.data}\\n\")"
   ]
  },
  {
   "cell_type": "code",
   "execution_count": null,
   "metadata": {},
   "outputs": [],
   "source": []
  }
 ],
 "metadata": {
  "kernelspec": {
   "display_name": "test_cuda",
   "language": "python",
   "name": "python3"
  },
  "language_info": {
   "codemirror_mode": {
    "name": "ipython",
    "version": 3
   },
   "file_extension": ".py",
   "mimetype": "text/x-python",
   "name": "python",
   "nbconvert_exporter": "python",
   "pygments_lexer": "ipython3",
   "version": "3.9.12"
  }
 },
 "nbformat": 4,
 "nbformat_minor": 2
}
